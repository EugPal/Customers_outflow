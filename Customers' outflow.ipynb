{
 "cells": [
  {
   "cell_type": "markdown",
   "metadata": {},
   "source": [
    "Привет! меня зовут Люман Аблаев. Сегодня я проверю твой проект.\n",
    "<br> Дальнейшее общение будет происходить на \"ты\" если это не вызывает никаких проблем.\n",
    "<br> Желательно реагировать на красные комментарии ('исправил', 'не понятно как исправить ошибку', ...)\n",
    "<br> Пожалуйста, не удаляй комментарии ревьюера, так как они повышают качество повторного ревью.\n",
    "\n",
    "Комментарии будут в <font color='green'>зеленой</font>, <font color='blue'>синей</font> или <font color='red'>красной</font> рамках:\n",
    "\n",
    "\n",
    "<div class=\"alert alert-block alert-success\">\n",
    "<b>Успех:</b> Если все сделано отлично\n",
    "</div>\n",
    "\n",
    "<div class=\"alert alert-block alert-info\">\n",
    "<b>Совет: </b> Если можно немного улучшить\n",
    "</div>\n",
    "\n",
    "<div class=\"alert alert-block alert-danger\">\n",
    "<b>Ошибка:</b> Если требуются исправления. Работа не может быть принята с красными комментариями.\n",
    "</div>\n",
    "\n",
    "-------------------\n",
    "\n",
    "Будет очень хорошо, если ты будешь помечать свои действия следующим образом:\n",
    "<div class=\"alert alert-block alert-warning\">\n",
    "<b>Комментарий студента:</b> ..\n",
    "</div>\n",
    "<div class=\"alert alert-block alert-warning\">\n",
    "<b>Изменения:</b> Были внесены следующие изменения ...\n",
    "</div>\n",
    "\n",
    "<font color='orange' style='font-size:24px; font-weight:bold'>Полезные ссылки</font>\n",
    "* Очень интересная и полезная статья: https://dyakonov.org/2021/05/27/imbalance/\n",
    "\n",
    "<font color='orange' style='font-size:24px; font-weight:bold'>Общее впечатление</font>\n",
    "* Спасибо за  качественную работу, видно, что приложено много усилий.\n",
    "- Я оставил некоторые советы, надеюсь они будут полезными или интересными.\n",
    "- Есть некоторые недочеты, которые нужно поправить, но у тебя это не должно занять много времени)\n",
    "- Жду обновленную работу"
   ]
  },
  {
   "cell_type": "markdown",
   "metadata": {},
   "source": [
    "<font color='orange' style='font-size:24px; font-weight:bold'>Общее впечатление[3]</font>\n",
    "* Спасибо за оперативность\n",
    "- Приятно видеть фидбек \n",
    "- Недочеты исправлены - работа полностью корректна\n",
    "- Рад был быть полезен. Удачи в дальнейшем обучении!\n"
   ]
  },
  {
   "cell_type": "markdown",
   "metadata": {
    "toc": true
   },
   "source": [
    "<h1>Содержание<span class=\"tocSkip\"></span></h1>\n",
    "<div class=\"toc\"><ul class=\"toc-item\"><li><span><a href=\"#Подготовка-данных\" data-toc-modified-id=\"Подготовка-данных-1\"><span class=\"toc-item-num\">1&nbsp;&nbsp;</span>Подготовка данных</a></span></li><li><span><a href=\"#Исследование-задачи\" data-toc-modified-id=\"Исследование-задачи-2\"><span class=\"toc-item-num\">2&nbsp;&nbsp;</span>Исследование задачи</a></span></li><li><span><a href=\"#Борьба-с-дисбалансом\" data-toc-modified-id=\"Борьба-с-дисбалансом-3\"><span class=\"toc-item-num\">3&nbsp;&nbsp;</span>Борьба с дисбалансом</a></span></li><li><span><a href=\"#Тестирование-модели\" data-toc-modified-id=\"Тестирование-модели-4\"><span class=\"toc-item-num\">4&nbsp;&nbsp;</span>Тестирование модели</a></span></li><li><span><a href=\"#Чек-лист-готовности-проекта\" data-toc-modified-id=\"Чек-лист-готовности-проекта-5\"><span class=\"toc-item-num\">5&nbsp;&nbsp;</span>Чек-лист готовности проекта</a></span></li></ul></div>"
   ]
  },
  {
   "cell_type": "markdown",
   "metadata": {},
   "source": [
    "# Отток клиентов"
   ]
  },
  {
   "cell_type": "markdown",
   "metadata": {},
   "source": [
    "Из «Бета-Банка» стали уходить клиенты. Каждый месяц. Немного, но заметно. Банковские маркетологи посчитали: сохранять текущих клиентов дешевле, чем привлекать новых.\n",
    "\n",
    "Нужно спрогнозировать, уйдёт клиент из банка в ближайшее время или нет. Вам предоставлены исторические данные о поведении клиентов и расторжении договоров с банком. \n",
    "\n",
    "Постройте модель с предельно большим значением *F1*-меры. Чтобы сдать проект успешно, нужно довести метрику до 0.59. Проверьте *F1*-меру на тестовой выборке самостоятельно.\n",
    "\n",
    "Дополнительно измеряйте *AUC-ROC*, сравнивайте её значение с *F1*-мерой.\n",
    "\n",
    "Источник данных: [https://www.kaggle.com/barelydedicated/bank-customer-churn-modeling](https://www.kaggle.com/barelydedicated/bank-customer-churn-modeling)"
   ]
  },
  {
   "cell_type": "markdown",
   "metadata": {},
   "source": [
    "## Подготовка данных"
   ]
  },
  {
   "cell_type": "code",
   "execution_count": 1,
   "metadata": {},
   "outputs": [],
   "source": [
    "import pandas as pd\n",
    "from sklearn.model_selection import train_test_split\n",
    "from sklearn.tree import DecisionTreeClassifier\n",
    "from sklearn.metrics import accuracy_score\n",
    "from sklearn.preprocessing import StandardScaler\n",
    "from sklearn.metrics import f1_score\n",
    "from sklearn.metrics import roc_curve\n",
    "import matplotlib.pyplot as plt\n",
    "from sklearn.metrics import roc_auc_score\n",
    "from sklearn.linear_model import LogisticRegression\n",
    "from sklearn.ensemble import RandomForestClassifier\n",
    "from sklearn.utils import shuffle\n",
    "# < напишите код здесь >\n",
    "\n",
    "data = pd.read_csv('/datasets/Churn.csv')"
   ]
  },
  {
   "cell_type": "markdown",
   "metadata": {},
   "source": [
    "\n",
    "<div class=\"alert alert-block alert-success\">\n",
    "<b>Успех:</b> Импорты на месте\n",
    "</div>\n"
   ]
  },
  {
   "cell_type": "code",
   "execution_count": 2,
   "metadata": {},
   "outputs": [
    {
     "name": "stdout",
     "output_type": "stream",
     "text": [
      "<class 'pandas.core.frame.DataFrame'>\n",
      "RangeIndex: 10000 entries, 0 to 9999\n",
      "Data columns (total 14 columns):\n",
      " #   Column           Non-Null Count  Dtype  \n",
      "---  ------           --------------  -----  \n",
      " 0   RowNumber        10000 non-null  int64  \n",
      " 1   CustomerId       10000 non-null  int64  \n",
      " 2   Surname          10000 non-null  object \n",
      " 3   CreditScore      10000 non-null  int64  \n",
      " 4   Geography        10000 non-null  object \n",
      " 5   Gender           10000 non-null  object \n",
      " 6   Age              10000 non-null  int64  \n",
      " 7   Tenure           9091 non-null   float64\n",
      " 8   Balance          10000 non-null  float64\n",
      " 9   NumOfProducts    10000 non-null  int64  \n",
      " 10  HasCrCard        10000 non-null  int64  \n",
      " 11  IsActiveMember   10000 non-null  int64  \n",
      " 12  EstimatedSalary  10000 non-null  float64\n",
      " 13  Exited           10000 non-null  int64  \n",
      "dtypes: float64(3), int64(8), object(3)\n",
      "memory usage: 1.1+ MB\n"
     ]
    }
   ],
   "source": [
    "data.info()"
   ]
  },
  {
   "cell_type": "code",
   "execution_count": 3,
   "metadata": {},
   "outputs": [],
   "source": [
    "data['Tenure'] = data['Tenure'].fillna(0)"
   ]
  },
  {
   "cell_type": "markdown",
   "metadata": {},
   "source": [
    "\n",
    "<div class=\"alert alert-block alert-danger\">  \n",
    "<b>Ошибка:</b> Нужно не просто заполнить пропуски каким-то значением, а объяснить почему был выбран такой метод.\n",
    "\n",
    "</div>"
   ]
  },
  {
   "cell_type": "markdown",
   "metadata": {},
   "source": [
    "<div class=\"alert alert-block alert-warning\">\n",
    "<b>Комментарий студента:</b> Заполним пропуски нулями потому что удалять 10% строк нельзя, это приведет к обеднению датасета.\n",
    "</div>"
   ]
  },
  {
   "cell_type": "markdown",
   "metadata": {},
   "source": [
    "<div class=\"alert alert-block alert-info\">\n",
    "<b>Совет[2]:</b>  обработать их таким образом - допустимое, но аргументация слабая - нужно объяснять почему 0, а не 10? или не среднее/медиана . Но мне кажется, что так как природа пропусков неизвестна можно заполнить их случайными числами, чтобы не влиять на распределение или же использовать медиану .\n",
    "</div>\n"
   ]
  },
  {
   "cell_type": "code",
   "execution_count": 4,
   "metadata": {},
   "outputs": [
    {
     "name": "stdout",
     "output_type": "stream",
     "text": [
      "<class 'pandas.core.frame.DataFrame'>\n",
      "RangeIndex: 10000 entries, 0 to 9999\n",
      "Data columns (total 14 columns):\n",
      " #   Column           Non-Null Count  Dtype  \n",
      "---  ------           --------------  -----  \n",
      " 0   RowNumber        10000 non-null  int64  \n",
      " 1   CustomerId       10000 non-null  int64  \n",
      " 2   Surname          10000 non-null  object \n",
      " 3   CreditScore      10000 non-null  int64  \n",
      " 4   Geography        10000 non-null  object \n",
      " 5   Gender           10000 non-null  object \n",
      " 6   Age              10000 non-null  int64  \n",
      " 7   Tenure           10000 non-null  float64\n",
      " 8   Balance          10000 non-null  float64\n",
      " 9   NumOfProducts    10000 non-null  int64  \n",
      " 10  HasCrCard        10000 non-null  int64  \n",
      " 11  IsActiveMember   10000 non-null  int64  \n",
      " 12  EstimatedSalary  10000 non-null  float64\n",
      " 13  Exited           10000 non-null  int64  \n",
      "dtypes: float64(3), int64(8), object(3)\n",
      "memory usage: 1.1+ MB\n"
     ]
    }
   ],
   "source": [
    "data.info()"
   ]
  },
  {
   "cell_type": "code",
   "execution_count": 5,
   "metadata": {},
   "outputs": [
    {
     "data": {
      "text/plain": [
       "RowNumber            int64\n",
       "CustomerId           int64\n",
       "Surname             object\n",
       "CreditScore          int64\n",
       "Geography           object\n",
       "Gender              object\n",
       "Age                  int64\n",
       "Tenure             float64\n",
       "Balance            float64\n",
       "NumOfProducts        int64\n",
       "HasCrCard            int64\n",
       "IsActiveMember       int64\n",
       "EstimatedSalary    float64\n",
       "Exited               int64\n",
       "dtype: object"
      ]
     },
     "execution_count": 5,
     "metadata": {},
     "output_type": "execute_result"
    }
   ],
   "source": [
    "data.dtypes"
   ]
  },
  {
   "cell_type": "code",
   "execution_count": 6,
   "metadata": {},
   "outputs": [
    {
     "data": {
      "text/plain": [
       "2932"
      ]
     },
     "execution_count": 6,
     "metadata": {},
     "output_type": "execute_result"
    }
   ],
   "source": [
    "len(data['Surname'].unique())"
   ]
  },
  {
   "cell_type": "code",
   "execution_count": 7,
   "metadata": {},
   "outputs": [],
   "source": [
    "#удалим неинформативный категориальный признак\n",
    "data = data.drop(['Surname', 'RowNumber', 'CustomerId'], axis=1)"
   ]
  },
  {
   "cell_type": "markdown",
   "metadata": {},
   "source": [
    "<div class=\"alert alert-block alert-danger\">\n",
    "<b>Ошибка:</b> Удалить неинформативные признаки - верное решение. Но мне кажется их тут больше\n",
    "</div>"
   ]
  },
  {
   "cell_type": "markdown",
   "metadata": {},
   "source": [
    "<div class=\"alert alert-block alert-warning\">\n",
    "<b>Комментарий студента:</b> Нас интересуют только неинформативные категориальные признаки с большим количеством категорий. Преобразовать их в количественные было бы очень громоздко и не нужно. Неинформативные количественные признаки нам не мешают.\n",
    "</div>"
   ]
  },
  {
   "cell_type": "markdown",
   "metadata": {},
   "source": [
    "<div class=\"alert alert-block alert-danger\">\n",
    "<b>Ошибка[2]:</b> Они могут мешать обучению модели и занижать качество предсказаний.\n",
    "</div>\n"
   ]
  },
  {
   "cell_type": "markdown",
   "metadata": {},
   "source": [
    "<div class=\"alert alert-block alert-warning\">\n",
    "<b>Изменения:</b> Удалил ещё столбцы с признаками RowNumber и CustomerID.\n",
    "</div>"
   ]
  },
  {
   "cell_type": "markdown",
   "metadata": {},
   "source": [
    "\n",
    "<div class=\"alert alert-block alert-success\">\n",
    "    \n",
    "<b>Успех[3]:</b> 👍\n",
    "</div>\n"
   ]
  },
  {
   "cell_type": "code",
   "execution_count": 8,
   "metadata": {},
   "outputs": [
    {
     "data": {
      "text/plain": [
       "array(['Female', 'Male'], dtype=object)"
      ]
     },
     "execution_count": 8,
     "metadata": {},
     "output_type": "execute_result"
    }
   ],
   "source": [
    "data['Gender'].unique()"
   ]
  },
  {
   "cell_type": "code",
   "execution_count": 9,
   "metadata": {},
   "outputs": [
    {
     "data": {
      "text/plain": [
       "array(['France', 'Spain', 'Germany'], dtype=object)"
      ]
     },
     "execution_count": 9,
     "metadata": {},
     "output_type": "execute_result"
    }
   ],
   "source": [
    "data['Geography'].unique()"
   ]
  },
  {
   "cell_type": "code",
   "execution_count": 10,
   "metadata": {},
   "outputs": [],
   "source": [
    "#выполним прямое кодирование двух оставшихся категориальных признаков\n",
    "data_ohe = pd.get_dummies(data, drop_first=False)"
   ]
  },
  {
   "cell_type": "markdown",
   "metadata": {},
   "source": [
    "\n",
    "<div class=\"alert alert-block alert-success\">\n",
    "<b>Успех:</b>  OHE - хороший выбор, молодец, что не забываешь про drop_first. Но советую в будущем обратить внимание на инструмент OneHotEncoder от sklearn\n",
    "</div>\n",
    "\n"
   ]
  },
  {
   "cell_type": "code",
   "execution_count": 11,
   "metadata": {},
   "outputs": [],
   "source": [
    "#target = data_ohe['Exited']\n",
    "#features = data_ohe.drop('Exited', axis=1)\n",
    "#features_train, features_valid, target_train, target_valid = train_test_split(\n",
    "#    features, target, test_size=0.25, random_state=12345)\n",
    "#data_ohe.head();"
   ]
  },
  {
   "cell_type": "code",
   "execution_count": 12,
   "metadata": {},
   "outputs": [
    {
     "name": "stdout",
     "output_type": "stream",
     "text": [
      "(6000, 14)\n",
      "(2000, 14)\n",
      "(2000, 14)\n"
     ]
    },
    {
     "data": {
      "text/html": [
       "<div>\n",
       "<style scoped>\n",
       "    .dataframe tbody tr th:only-of-type {\n",
       "        vertical-align: middle;\n",
       "    }\n",
       "\n",
       "    .dataframe tbody tr th {\n",
       "        vertical-align: top;\n",
       "    }\n",
       "\n",
       "    .dataframe thead th {\n",
       "        text-align: right;\n",
       "    }\n",
       "</style>\n",
       "<table border=\"1\" class=\"dataframe\">\n",
       "  <thead>\n",
       "    <tr style=\"text-align: right;\">\n",
       "      <th></th>\n",
       "      <th>CreditScore</th>\n",
       "      <th>Age</th>\n",
       "      <th>Tenure</th>\n",
       "      <th>Balance</th>\n",
       "      <th>NumOfProducts</th>\n",
       "      <th>HasCrCard</th>\n",
       "      <th>IsActiveMember</th>\n",
       "      <th>EstimatedSalary</th>\n",
       "      <th>Exited</th>\n",
       "      <th>Geography_France</th>\n",
       "      <th>Geography_Germany</th>\n",
       "      <th>Geography_Spain</th>\n",
       "      <th>Gender_Female</th>\n",
       "      <th>Gender_Male</th>\n",
       "    </tr>\n",
       "  </thead>\n",
       "  <tbody>\n",
       "    <tr>\n",
       "      <th>0</th>\n",
       "      <td>619</td>\n",
       "      <td>42</td>\n",
       "      <td>2.0</td>\n",
       "      <td>0.00</td>\n",
       "      <td>1</td>\n",
       "      <td>1</td>\n",
       "      <td>1</td>\n",
       "      <td>101348.88</td>\n",
       "      <td>1</td>\n",
       "      <td>1</td>\n",
       "      <td>0</td>\n",
       "      <td>0</td>\n",
       "      <td>1</td>\n",
       "      <td>0</td>\n",
       "    </tr>\n",
       "    <tr>\n",
       "      <th>1</th>\n",
       "      <td>608</td>\n",
       "      <td>41</td>\n",
       "      <td>1.0</td>\n",
       "      <td>83807.86</td>\n",
       "      <td>1</td>\n",
       "      <td>0</td>\n",
       "      <td>1</td>\n",
       "      <td>112542.58</td>\n",
       "      <td>0</td>\n",
       "      <td>0</td>\n",
       "      <td>0</td>\n",
       "      <td>1</td>\n",
       "      <td>1</td>\n",
       "      <td>0</td>\n",
       "    </tr>\n",
       "    <tr>\n",
       "      <th>2</th>\n",
       "      <td>502</td>\n",
       "      <td>42</td>\n",
       "      <td>8.0</td>\n",
       "      <td>159660.80</td>\n",
       "      <td>3</td>\n",
       "      <td>1</td>\n",
       "      <td>0</td>\n",
       "      <td>113931.57</td>\n",
       "      <td>1</td>\n",
       "      <td>1</td>\n",
       "      <td>0</td>\n",
       "      <td>0</td>\n",
       "      <td>1</td>\n",
       "      <td>0</td>\n",
       "    </tr>\n",
       "    <tr>\n",
       "      <th>3</th>\n",
       "      <td>699</td>\n",
       "      <td>39</td>\n",
       "      <td>1.0</td>\n",
       "      <td>0.00</td>\n",
       "      <td>2</td>\n",
       "      <td>0</td>\n",
       "      <td>0</td>\n",
       "      <td>93826.63</td>\n",
       "      <td>0</td>\n",
       "      <td>1</td>\n",
       "      <td>0</td>\n",
       "      <td>0</td>\n",
       "      <td>1</td>\n",
       "      <td>0</td>\n",
       "    </tr>\n",
       "    <tr>\n",
       "      <th>4</th>\n",
       "      <td>850</td>\n",
       "      <td>43</td>\n",
       "      <td>2.0</td>\n",
       "      <td>125510.82</td>\n",
       "      <td>1</td>\n",
       "      <td>1</td>\n",
       "      <td>1</td>\n",
       "      <td>79084.10</td>\n",
       "      <td>0</td>\n",
       "      <td>0</td>\n",
       "      <td>0</td>\n",
       "      <td>1</td>\n",
       "      <td>1</td>\n",
       "      <td>0</td>\n",
       "    </tr>\n",
       "  </tbody>\n",
       "</table>\n",
       "</div>"
      ],
      "text/plain": [
       "   CreditScore  Age  Tenure    Balance  NumOfProducts  HasCrCard  \\\n",
       "0          619   42     2.0       0.00              1          1   \n",
       "1          608   41     1.0   83807.86              1          0   \n",
       "2          502   42     8.0  159660.80              3          1   \n",
       "3          699   39     1.0       0.00              2          0   \n",
       "4          850   43     2.0  125510.82              1          1   \n",
       "\n",
       "   IsActiveMember  EstimatedSalary  Exited  Geography_France  \\\n",
       "0               1        101348.88       1                 1   \n",
       "1               1        112542.58       0                 0   \n",
       "2               0        113931.57       1                 1   \n",
       "3               0         93826.63       0                 1   \n",
       "4               1         79084.10       0                 0   \n",
       "\n",
       "   Geography_Germany  Geography_Spain  Gender_Female  Gender_Male  \n",
       "0                  0                0              1            0  \n",
       "1                  0                1              1            0  \n",
       "2                  0                0              1            0  \n",
       "3                  0                0              1            0  \n",
       "4                  0                1              1            0  "
      ]
     },
     "execution_count": 12,
     "metadata": {},
     "output_type": "execute_result"
    }
   ],
   "source": [
    "data_ohe_train, data_ohe_test1 = train_test_split(data_ohe, test_size=0.4, random_state=12345)\n",
    "data_ohe_test, data_ohe_valid=train_test_split(data_ohe_test1, test_size=0.5, random_state=12345)\n",
    "print(data_ohe_train.shape)\n",
    "print(data_ohe_test.shape)\n",
    "print(data_ohe_valid.shape)\n",
    "\n",
    "# зададим признаки и целевые признаки \n",
    "features_train = data_ohe_train.drop(['Exited'], axis=1)\n",
    "target_train = data_ohe_train['Exited']\n",
    "features_valid = data_ohe_valid.drop(['Exited'], axis=1)\n",
    "target_valid = data_ohe_valid['Exited']\n",
    "features_test = data_ohe_test.drop(['Exited'], axis=1)\n",
    "target_test = data_ohe_test['Exited']\n",
    "\n",
    "data_ohe.head()"
   ]
  },
  {
   "cell_type": "code",
   "execution_count": 13,
   "metadata": {},
   "outputs": [
    {
     "data": {
      "text/html": [
       "<div>\n",
       "<style scoped>\n",
       "    .dataframe tbody tr th:only-of-type {\n",
       "        vertical-align: middle;\n",
       "    }\n",
       "\n",
       "    .dataframe tbody tr th {\n",
       "        vertical-align: top;\n",
       "    }\n",
       "\n",
       "    .dataframe thead th {\n",
       "        text-align: right;\n",
       "    }\n",
       "</style>\n",
       "<table border=\"1\" class=\"dataframe\">\n",
       "  <thead>\n",
       "    <tr style=\"text-align: right;\">\n",
       "      <th></th>\n",
       "      <th>CreditScore</th>\n",
       "      <th>Age</th>\n",
       "      <th>Tenure</th>\n",
       "      <th>Balance</th>\n",
       "      <th>NumOfProducts</th>\n",
       "      <th>HasCrCard</th>\n",
       "      <th>IsActiveMember</th>\n",
       "      <th>EstimatedSalary</th>\n",
       "      <th>Geography_France</th>\n",
       "      <th>Geography_Germany</th>\n",
       "      <th>Geography_Spain</th>\n",
       "      <th>Gender_Female</th>\n",
       "      <th>Gender_Male</th>\n",
       "    </tr>\n",
       "  </thead>\n",
       "  <tbody>\n",
       "    <tr>\n",
       "      <th>7479</th>\n",
       "      <td>-0.886751</td>\n",
       "      <td>-0.373192</td>\n",
       "      <td>1.104696</td>\n",
       "      <td>1.232271</td>\n",
       "      <td>-0.891560</td>\n",
       "      <td>1</td>\n",
       "      <td>0</td>\n",
       "      <td>-0.187705</td>\n",
       "      <td>0</td>\n",
       "      <td>0</td>\n",
       "      <td>1</td>\n",
       "      <td>0</td>\n",
       "      <td>1</td>\n",
       "    </tr>\n",
       "    <tr>\n",
       "      <th>3411</th>\n",
       "      <td>0.608663</td>\n",
       "      <td>-0.183385</td>\n",
       "      <td>1.104696</td>\n",
       "      <td>0.600563</td>\n",
       "      <td>-0.891560</td>\n",
       "      <td>0</td>\n",
       "      <td>0</td>\n",
       "      <td>-0.333945</td>\n",
       "      <td>1</td>\n",
       "      <td>0</td>\n",
       "      <td>0</td>\n",
       "      <td>1</td>\n",
       "      <td>0</td>\n",
       "    </tr>\n",
       "    <tr>\n",
       "      <th>6027</th>\n",
       "      <td>2.052152</td>\n",
       "      <td>0.480939</td>\n",
       "      <td>-0.503694</td>\n",
       "      <td>1.027098</td>\n",
       "      <td>0.830152</td>\n",
       "      <td>0</td>\n",
       "      <td>1</td>\n",
       "      <td>1.503095</td>\n",
       "      <td>0</td>\n",
       "      <td>1</td>\n",
       "      <td>0</td>\n",
       "      <td>0</td>\n",
       "      <td>1</td>\n",
       "    </tr>\n",
       "    <tr>\n",
       "      <th>1247</th>\n",
       "      <td>-1.457915</td>\n",
       "      <td>-1.417129</td>\n",
       "      <td>0.461340</td>\n",
       "      <td>-1.233163</td>\n",
       "      <td>0.830152</td>\n",
       "      <td>1</td>\n",
       "      <td>0</td>\n",
       "      <td>-1.071061</td>\n",
       "      <td>1</td>\n",
       "      <td>0</td>\n",
       "      <td>0</td>\n",
       "      <td>0</td>\n",
       "      <td>1</td>\n",
       "    </tr>\n",
       "    <tr>\n",
       "      <th>3716</th>\n",
       "      <td>0.130961</td>\n",
       "      <td>-1.132419</td>\n",
       "      <td>-0.825373</td>\n",
       "      <td>1.140475</td>\n",
       "      <td>-0.891560</td>\n",
       "      <td>0</td>\n",
       "      <td>0</td>\n",
       "      <td>1.524268</td>\n",
       "      <td>0</td>\n",
       "      <td>1</td>\n",
       "      <td>0</td>\n",
       "      <td>1</td>\n",
       "      <td>0</td>\n",
       "    </tr>\n",
       "  </tbody>\n",
       "</table>\n",
       "</div>"
      ],
      "text/plain": [
       "      CreditScore       Age    Tenure   Balance  NumOfProducts  HasCrCard  \\\n",
       "7479    -0.886751 -0.373192  1.104696  1.232271      -0.891560          1   \n",
       "3411     0.608663 -0.183385  1.104696  0.600563      -0.891560          0   \n",
       "6027     2.052152  0.480939 -0.503694  1.027098       0.830152          0   \n",
       "1247    -1.457915 -1.417129  0.461340 -1.233163       0.830152          1   \n",
       "3716     0.130961 -1.132419 -0.825373  1.140475      -0.891560          0   \n",
       "\n",
       "      IsActiveMember  EstimatedSalary  Geography_France  Geography_Germany  \\\n",
       "7479               0        -0.187705                 0                  0   \n",
       "3411               0        -0.333945                 1                  0   \n",
       "6027               1         1.503095                 0                  1   \n",
       "1247               0        -1.071061                 1                  0   \n",
       "3716               0         1.524268                 0                  1   \n",
       "\n",
       "      Geography_Spain  Gender_Female  Gender_Male  \n",
       "7479                1              0            1  \n",
       "3411                0              1            0  \n",
       "6027                0              0            1  \n",
       "1247                0              0            1  \n",
       "3716                0              1            0  "
      ]
     },
     "execution_count": 13,
     "metadata": {},
     "output_type": "execute_result"
    }
   ],
   "source": [
    "# масштабирование признаков\n",
    "numeric = ['CreditScore', 'Age', 'Tenure', 'Balance', 'NumOfProducts', 'EstimatedSalary']\n",
    "scaler = StandardScaler()\n",
    "scaler.fit(features_train[numeric])\n",
    "features_train[numeric] = scaler.transform(features_train[numeric])\n",
    "features_valid[numeric] = scaler.transform(features_valid[numeric])\n",
    "features_test[numeric] = scaler.transform(features_test[numeric])\n",
    "\n",
    "pd.options.mode.chained_assignment = None\n",
    "\n",
    "features_train.head()"
   ]
  },
  {
   "cell_type": "markdown",
   "metadata": {},
   "source": [
    "\n",
    "<div class=\"alert alert-block alert-success\">\n",
    "<b>Успех:</b> Отлично, что scaler обучен только на трейне\n",
    "</div>"
   ]
  },
  {
   "cell_type": "markdown",
   "metadata": {},
   "source": [
    "\n",
    "<div class=\"alert alert-block alert-danger\">  \n",
    "<b>Ошибка:</b> После предоработки нужны выводы, что было проделано\n",
    "\n",
    "</div>"
   ]
  },
  {
   "cell_type": "markdown",
   "metadata": {},
   "source": [
    "<div class=\"alert alert-block alert-warning\">\n",
    "<b>Комментарий студента:</b> Вывод: в ходе предобработки мы избавились от пропусков в данных, перевели категориальные признаки в количественные, а также отмасштабировали количественные признаки.\n",
    "</div>"
   ]
  },
  {
   "cell_type": "markdown",
   "metadata": {},
   "source": [
    "<div class=\"alert alert-block alert-success\">\n",
    "    \n",
    "<b>Успех[2]:</b> ок\n",
    "</div>"
   ]
  },
  {
   "cell_type": "markdown",
   "metadata": {},
   "source": [
    "<div class=\"alert alert-block alert-info\">\n",
    "<b>Совет[2]:</b>  Советую обратить внимание на библиотеки sweetviz и pandas_profiling помогут в проведении более тщательного EDA анализа. Исследовательский анализ можно делать и с помощью ручного вызова функций дефолтных библиотек. Данные библиотеки хороши для максимизации комфорта презентации результатов анализа бизнес-пользователям. \n",
    "    \n",
    "Очень просты в использоовании, на вход кладется датафрейм: pandas_profiling.ProfileReport(df) \n",
    "\n",
    "</div>"
   ]
  },
  {
   "cell_type": "markdown",
   "metadata": {},
   "source": [
    "## Исследование задачи"
   ]
  },
  {
   "cell_type": "code",
   "execution_count": 14,
   "metadata": {},
   "outputs": [
    {
     "name": "stdout",
     "output_type": "stream",
     "text": [
      "DecisionTreeClassifier(max_depth=9, random_state=12345)\n",
      "F1: 0.5251396648044693\n"
     ]
    }
   ],
   "source": [
    "#обучим модель классификации решающего дерева и посчитаем F1-меру\n",
    "best_model = None\n",
    "best_result = 0\n",
    "for depth in range(1, 11):\n",
    "    \n",
    "    model = model = DecisionTreeClassifier(max_depth=depth, random_state = 12345)\n",
    "    model.fit(features_train, target_train)\n",
    "    predicted_valid = model.predict(features_valid)\n",
    "    result = f1_score(target_valid, predicted_valid)\n",
    "    if result > best_result:\n",
    "        best_model = model\n",
    "        best_result = result\n",
    "print(best_model)\n",
    "print(\"F1:\", best_result)"
   ]
  },
  {
   "cell_type": "code",
   "execution_count": 15,
   "metadata": {},
   "outputs": [
    {
     "data": {
      "image/png": "[encoded data removed]",
      "text/plain": [
       "<Figure size 432x288 with 1 Axes>"
      ]
     },
     "metadata": {
      "needs_background": "light"
     },
     "output_type": "display_data"
    },
    {
     "name": "stdout",
     "output_type": "stream",
     "text": [
      "AUC-ROC:  0.7499209229602246\n"
     ]
    }
   ],
   "source": [
    "probabilities_valid = model.predict_proba(features_valid)\n",
    "probabilities_one_valid = probabilities_valid[:, 1]\n",
    "fpr, tpr, thresholds = roc_curve(target_valid, probabilities_one_valid)\n",
    "\n",
    "plt.figure()\n",
    "plt.plot(fpr, tpr, linestyle='--')\n",
    "plt.xlim([0.0, 1.0])\n",
    "plt.ylim([0.0, 1.0])\n",
    "plt.xlabel('False Positive Rate')\n",
    "plt.ylabel('True Positive Rate')\n",
    "plt.title('ROC-кривая')\n",
    "plt.show()\n",
    "\n",
    "auc_roc = roc_auc_score(target_valid, probabilities_one_valid)\n",
    "print(\"AUC-ROC: \",auc_roc)"
   ]
  },
  {
   "cell_type": "code",
   "execution_count": 16,
   "metadata": {},
   "outputs": [
    {
     "name": "stdout",
     "output_type": "stream",
     "text": [
      "RandomForestClassifier(max_depth=15, n_estimators=50, random_state=12345)\n",
      "Лучший результат F1:  0.544918998527246\n"
     ]
    }
   ],
   "source": [
    "#обучим модель классификации случайного леса и посчитаем F1-меру\n",
    "best_model = None\n",
    "best_result = 0\n",
    "for depth in range(1, 16, 1):\n",
    "    for est in range(10, 51, 10):\n",
    "        model = RandomForestClassifier(random_state=12345, n_estimators=est, max_depth=depth)\n",
    "        model.fit(features_train, target_train)\n",
    "        predicted_valid = model.predict(features_valid)\n",
    "        result = f1_score(target_valid, predicted_valid)\n",
    "        if result > best_result:\n",
    "            best_model = model\n",
    "            best_result = result\n",
    "\n",
    "print(best_model)\n",
    "print('Лучший результат F1: ', best_result)"
   ]
  },
  {
   "cell_type": "code",
   "execution_count": 17,
   "metadata": {},
   "outputs": [
    {
     "data": {
      "image/png": "[encoded data removed]",
      "text/plain": [
       "<Figure size 432x288 with 1 Axes>"
      ]
     },
     "metadata": {
      "needs_background": "light"
     },
     "output_type": "display_data"
    },
    {
     "name": "stdout",
     "output_type": "stream",
     "text": [
      "AUC-ROC:  0.8501876112137989\n"
     ]
    }
   ],
   "source": [
    "probabilities_valid = model.predict_proba(features_valid)\n",
    "probabilities_one_valid = probabilities_valid[:, 1]\n",
    "fpr, tpr, thresholds = roc_curve(target_valid, probabilities_one_valid)\n",
    "\n",
    "plt.figure()\n",
    "plt.plot(fpr, tpr, linestyle='--')\n",
    "plt.xlim([0.0, 1.0])\n",
    "plt.ylim([0.0, 1.0])\n",
    "plt.xlabel('False Positive Rate')\n",
    "plt.ylabel('True Positive Rate')\n",
    "plt.title('ROC-кривая')\n",
    "plt.show()\n",
    "\n",
    "auc_roc = roc_auc_score(target_valid, probabilities_one_valid)\n",
    "print(\"AUC-ROC: \",auc_roc)"
   ]
  },
  {
   "cell_type": "code",
   "execution_count": 18,
   "metadata": {},
   "outputs": [
    {
     "name": "stdout",
     "output_type": "stream",
     "text": [
      "F1: 0.2743055555555555\n"
     ]
    }
   ],
   "source": [
    "#обучим модель логистической регрессии и посчитаем F1-меру\n",
    "model = LogisticRegression(random_state=12345, solver='liblinear')\n",
    "model.fit(features_train, target_train)\n",
    "predicted_valid = model.predict(features_valid)\n",
    "print(\"F1:\", f1_score(target_valid, predicted_valid))"
   ]
  },
  {
   "cell_type": "code",
   "execution_count": 19,
   "metadata": {},
   "outputs": [
    {
     "data": {
      "image/png": "[encoded data removed]",
      "text/plain": [
       "<Figure size 432x288 with 1 Axes>"
      ]
     },
     "metadata": {
      "needs_background": "light"
     },
     "output_type": "display_data"
    },
    {
     "name": "stdout",
     "output_type": "stream",
     "text": [
      "AUC-ROC:  0.7386395151340712\n"
     ]
    }
   ],
   "source": [
    "probabilities_valid = model.predict_proba(features_valid)\n",
    "probabilities_one_valid = probabilities_valid[:, 1]\n",
    "fpr, tpr, thresholds = roc_curve(target_valid, probabilities_one_valid)\n",
    "\n",
    "plt.figure()\n",
    "plt.plot(fpr, tpr, linestyle='--')\n",
    "plt.xlim([0.0, 1.0])\n",
    "plt.ylim([0.0, 1.0])\n",
    "plt.xlabel('False Positive Rate')\n",
    "plt.ylabel('True Positive Rate')\n",
    "plt.title('ROC-кривая')\n",
    "plt.show()\n",
    "\n",
    "auc_roc = roc_auc_score(target_valid, probabilities_one_valid)\n",
    "print(\"AUC-ROC: \",auc_roc)"
   ]
  },
  {
   "cell_type": "markdown",
   "metadata": {},
   "source": [
    "# Вывод: ни одна модель не дотягивает до целевого показателя F-1, при этом ROC-кривая и показатель AUC-ROC имеют показатели выше среднего. Это говорит о том, что все три модели уже лучше, чем случайные модели.\n",
    "# Улучшим метрику F-1. Взглянем на баланс классов:"
   ]
  },
  {
   "cell_type": "markdown",
   "metadata": {},
   "source": [
    "<div class=\"alert alert-block alert-info\">\n",
    "    \n",
    "<b>Совет:</b>  Пожалуйста не выделяй весь текст вывода в жирный большой шрифт - это сложно воспринимать, старайся выделять только **ключевые** и **важные** моменты.\n",
    "</div>"
   ]
  },
  {
   "cell_type": "code",
   "execution_count": 20,
   "metadata": {},
   "outputs": [
    {
     "name": "stdout",
     "output_type": "stream",
     "text": [
      "0    0.7963\n",
      "1    0.2037\n",
      "Name: Exited, dtype: float64\n"
     ]
    },
    {
     "data": {
      "text/plain": [
       "<AxesSubplot:>"
      ]
     },
     "execution_count": 20,
     "metadata": {},
     "output_type": "execute_result"
    },
    {
     "data": {
      "image/png": "[encoded data removed]",
      "text/plain": [
       "<Figure size 432x288 with 1 Axes>"
      ]
     },
     "metadata": {
      "needs_background": "light"
     },
     "output_type": "display_data"
    }
   ],
   "source": [
    "#проверим баланс классов на целевых признаках\n",
    "class_frequency = data_ohe['Exited'].value_counts(normalize=True)\n",
    "print(class_frequency)\n",
    "class_frequency.plot(kind='bar')"
   ]
  },
  {
   "cell_type": "code",
   "execution_count": 21,
   "metadata": {},
   "outputs": [
    {
     "name": "stdout",
     "output_type": "stream",
     "text": [
      "0    0.9235\n",
      "1    0.0765\n",
      "dtype: float64\n"
     ]
    },
    {
     "data": {
      "text/plain": [
       "<AxesSubplot:>"
      ]
     },
     "execution_count": 21,
     "metadata": {},
     "output_type": "execute_result"
    },
    {
     "data": {
      "image/png": "[encoded data removed]",
      "text/plain": [
       "<Figure size 432x288 with 1 Axes>"
      ]
     },
     "metadata": {
      "needs_background": "light"
     },
     "output_type": "display_data"
    }
   ],
   "source": [
    "#проверим баланс классов на предсказании модели\n",
    "predicted_valid = pd.Series(model.predict(features_valid))\n",
    "class_frequency = predicted_valid.value_counts(normalize=True)\n",
    "print(class_frequency)\n",
    "class_frequency.plot(kind='bar')"
   ]
  },
  {
   "cell_type": "markdown",
   "metadata": {},
   "source": [
    "## Борьба с дисбалансом"
   ]
  },
  {
   "cell_type": "markdown",
   "metadata": {},
   "source": [
    "\n",
    "<div class=\"alert alert-block alert-danger\">  \n",
    "<b>Ошибка:</b> Шаг проделан хорошо, но здесь нужен вывод\n",
    "\n",
    "</div>"
   ]
  },
  {
   "cell_type": "markdown",
   "metadata": {},
   "source": [
    "<div class=\"alert alert-block alert-warning\">\n",
    "<b>Комментарий студента:</b> Вывод: наблюдаем дисбаланс классов\n",
    "</div>"
   ]
  },
  {
   "cell_type": "markdown",
   "metadata": {},
   "source": [
    "<div class=\"alert alert-block alert-success\">\n",
    "    \n",
    "<b>Успех[2]:</b> Старайся научиться писать выводы - это важный навык для дата саентиста\n",
    "</div>"
   ]
  },
  {
   "cell_type": "markdown",
   "metadata": {},
   "source": [
    "# Попробуем разные модели и методы балансировки:"
   ]
  },
  {
   "cell_type": "code",
   "execution_count": 22,
   "metadata": {},
   "outputs": [],
   "source": [
    "# функция для upsampling\n",
    "def upsample(features, target, repeat):\n",
    "    features_zeros = features[target == 0]\n",
    "    features_ones = features[target == 1]\n",
    "    target_zeros = target[target == 0]\n",
    "    target_ones = target[target == 1]\n",
    "\n",
    "    features_upsampled = pd.concat([features_zeros] + [features_ones] * repeat)\n",
    "    target_upsampled = pd.concat([target_zeros] + [target_ones] * repeat)\n",
    "    \n",
    "    features_upsampled, target_upsampled = shuffle(\n",
    "        features_upsampled, target_upsampled, random_state=12345)\n",
    "    \n",
    "    return features_upsampled, target_upsampled"
   ]
  },
  {
   "cell_type": "code",
   "execution_count": 23,
   "metadata": {},
   "outputs": [],
   "source": [
    "#upsampling\n",
    "features_upsampled, target_upsampled = upsample(features_train, target_train, 4)"
   ]
  },
  {
   "cell_type": "code",
   "execution_count": 24,
   "metadata": {},
   "outputs": [
    {
     "data": {
      "text/plain": [
       "0    0.501043\n",
       "1    0.498957\n",
       "Name: Exited, dtype: float64"
      ]
     },
     "execution_count": 24,
     "metadata": {},
     "output_type": "execute_result"
    }
   ],
   "source": [
    "target_upsampled.value_counts(normalize=True)"
   ]
  },
  {
   "cell_type": "code",
   "execution_count": 25,
   "metadata": {},
   "outputs": [],
   "source": [
    "#функция для downsampling\n",
    "def downsample(features, target, fraction):\n",
    "    features_zeros = features[target == 0]\n",
    "    features_ones = features[target == 1]\n",
    "    target_zeros = target[target == 0]\n",
    "    target_ones = target[target == 1]\n",
    "\n",
    "    features_downsampled = pd.concat(\n",
    "        [features_zeros.sample(frac=fraction, random_state=12345)] + [features_ones])\n",
    "    target_downsampled = pd.concat(\n",
    "        [target_zeros.sample(frac=fraction, random_state=12345)] + [target_ones])\n",
    "    \n",
    "    features_downsampled, target_downsampled = shuffle(\n",
    "        features_downsampled, target_downsampled, random_state=12345)\n",
    "    \n",
    "    return features_downsampled, target_downsampled"
   ]
  },
  {
   "cell_type": "code",
   "execution_count": 26,
   "metadata": {},
   "outputs": [],
   "source": [
    "#downsampling\n",
    "features_downsampled, target_downsampled = downsample(features_train, target_train, 0.25)"
   ]
  },
  {
   "cell_type": "code",
   "execution_count": 27,
   "metadata": {},
   "outputs": [
    {
     "data": {
      "text/plain": [
       "0    0.501043\n",
       "1    0.498957\n",
       "Name: Exited, dtype: float64"
      ]
     },
     "execution_count": 27,
     "metadata": {},
     "output_type": "execute_result"
    }
   ],
   "source": [
    "target_downsampled.value_counts(normalize=True)"
   ]
  },
  {
   "cell_type": "markdown",
   "metadata": {},
   "source": [
    "# Модель решающего дерева:"
   ]
  },
  {
   "cell_type": "code",
   "execution_count": 28,
   "metadata": {},
   "outputs": [
    {
     "name": "stdout",
     "output_type": "stream",
     "text": [
      "DecisionTreeClassifier(class_weight='balanced', max_depth=5, random_state=12345)\n",
      "F1: 0.5809128630705395\n"
     ]
    }
   ],
   "source": [
    "#взвешивание классов\n",
    "best_model = None\n",
    "best_result = 0\n",
    "for depth in range(1, 11):   \n",
    "    model = model = DecisionTreeClassifier(max_depth=depth, random_state = 12345, class_weight='balanced')\n",
    "    model.fit(features_train, target_train)\n",
    "    predicted_valid = model.predict(features_valid)\n",
    "    result = f1_score(target_valid, predicted_valid)\n",
    "    if result > best_result:\n",
    "        best_model = model\n",
    "        best_result = result\n",
    "print(best_model)\n",
    "print(\"F1:\", best_result)\n",
    "\n",
    "probabilities_valid = model.predict_proba(features_valid)\n",
    "probabilities_one_valid = probabilities_valid[:, 1]\n",
    "fpr, tpr, thresholds = roc_curve(target_valid, probabilities_one_valid)"
   ]
  },
  {
   "cell_type": "code",
   "execution_count": 29,
   "metadata": {},
   "outputs": [
    {
     "data": {
      "image/png": "[encoded data removed]",
      "text/plain": [
       "<Figure size 432x288 with 1 Axes>"
      ]
     },
     "metadata": {
      "needs_background": "light"
     },
     "output_type": "display_data"
    },
    {
     "name": "stdout",
     "output_type": "stream",
     "text": [
      "AUC-ROC:  0.7442678515480361\n"
     ]
    }
   ],
   "source": [
    "plt.figure()\n",
    "plt.plot(fpr, tpr, linestyle='--')\n",
    "plt.xlim([0.0, 1.0])\n",
    "plt.ylim([0.0, 1.0])\n",
    "plt.xlabel('False Positive Rate')\n",
    "plt.ylabel('True Positive Rate')\n",
    "plt.title('ROC-кривая')\n",
    "plt.show()\n",
    "\n",
    "auc_roc = roc_auc_score(target_valid, probabilities_one_valid)\n",
    "print(\"AUC-ROC: \",auc_roc)"
   ]
  },
  {
   "cell_type": "code",
   "execution_count": 30,
   "metadata": {},
   "outputs": [
    {
     "name": "stdout",
     "output_type": "stream",
     "text": [
      "DecisionTreeClassifier(max_depth=5, random_state=12345)\n",
      "F1: 0.5809128630705395\n"
     ]
    }
   ],
   "source": [
    "#upsampling\n",
    "best_model = None\n",
    "best_result = 0\n",
    "for depth in range(1, 11):\n",
    "    \n",
    "    model = model = DecisionTreeClassifier(max_depth=depth, random_state = 12345)\n",
    "    model.fit(features_upsampled, target_upsampled)\n",
    "    predicted_valid = model.predict(features_valid)\n",
    "    result = f1_score(target_valid, predicted_valid)\n",
    "    if result > best_result:\n",
    "        best_model = model\n",
    "        best_result = result\n",
    "print(best_model)\n",
    "print(\"F1:\", best_result)\n",
    "\n",
    "probabilities_valid = model.predict_proba(features_valid)\n",
    "probabilities_one_valid = probabilities_valid[:, 1]\n",
    "fpr, tpr, thresholds = roc_curve(target_valid, probabilities_one_valid)"
   ]
  },
  {
   "cell_type": "code",
   "execution_count": 31,
   "metadata": {},
   "outputs": [
    {
     "data": {
      "image/png": "[encoded data removed]",
      "text/plain": [
       "<Figure size 432x288 with 1 Axes>"
      ]
     },
     "metadata": {
      "needs_background": "light"
     },
     "output_type": "display_data"
    },
    {
     "name": "stdout",
     "output_type": "stream",
     "text": [
      "AUC-ROC:  0.7479526167379484\n"
     ]
    }
   ],
   "source": [
    "plt.figure()\n",
    "plt.plot(fpr, tpr, linestyle='--')\n",
    "plt.xlim([0.0, 1.0])\n",
    "plt.ylim([0.0, 1.0])\n",
    "plt.xlabel('False Positive Rate')\n",
    "plt.ylabel('True Positive Rate')\n",
    "plt.title('ROC-кривая')\n",
    "plt.show()\n",
    "\n",
    "auc_roc = roc_auc_score(target_valid, probabilities_one_valid)\n",
    "print(\"AUC-ROC: \",auc_roc)"
   ]
  },
  {
   "cell_type": "markdown",
   "metadata": {},
   "source": [
    "\n",
    "<div class=\"alert alert-block alert-danger\">  \n",
    "<b>Ошибка:</b> \n",
    "    \n",
    "1) Пожалуйста разделяй такие большие ячейки, на составляющие - каждое логическое действие должно быть отдельным. Так легче отслеживать ошибки, дебажить код, да и мне его комментировать\n",
    "    \n",
    "2) Наша цель избавиться от дисбаланса, то есть использовать такой `repeat`, который устраняет дисбаланс, а не создает новый. Проверить можно через `target_upsampled.value_counts()`\n",
    "\n",
    "\n",
    "</div>"
   ]
  },
  {
   "cell_type": "markdown",
   "metadata": {},
   "source": [
    "<div class=\"alert alert-block alert-warning\">\n",
    "<b>Изменения:</b> Разбил код на меньшие куски. Подобрал величину repeat везде такую, чтобы получалось максимальное значение F-1 меры\n",
    "</div>"
   ]
  },
  {
   "cell_type": "markdown",
   "metadata": {},
   "source": [
    "\n",
    "<div class=\"alert alert-block alert-danger\">  \n",
    "    \n",
    "<b>Ошибка[2]:</b> \n",
    "    \n",
    "- Не нужно подбирать repeat. нужно использовать такой `repeat`, который устраняет дисбаланс\n",
    "    \n",
    "- Проверить можно через `target_upsampled.value_counts()`. \n",
    "    \n",
    "- Мы же не просто так исследовали дисбаланс - нужно применить правильное значение.\n",
    "    \n",
    "- Ниже повторять вызов upsmple/downsample не нужно, достаточно будет сделать 1 раз\n",
    "\n",
    "\n",
    "</div>"
   ]
  },
  {
   "cell_type": "markdown",
   "metadata": {},
   "source": [
    "<div class=\"alert alert-block alert-warning\">\n",
    "<b>Комментарий:</b> исправил\n",
    "</div>"
   ]
  },
  {
   "cell_type": "markdown",
   "metadata": {},
   "source": [
    "\n",
    "<div class=\"alert alert-block alert-success\">\n",
    "    \n",
    "<b>Успех[3]:</b> Есть контакт\n",
    "</div>\n"
   ]
  },
  {
   "cell_type": "code",
   "execution_count": 32,
   "metadata": {},
   "outputs": [
    {
     "name": "stdout",
     "output_type": "stream",
     "text": [
      "DecisionTreeClassifier(max_depth=5, random_state=12345)\n",
      "F1: 0.5913875598086125\n"
     ]
    }
   ],
   "source": [
    "#downsampling\n",
    "best_model = None\n",
    "best_result = 0\n",
    "for depth in range(1, 11):\n",
    "    \n",
    "    model = model = DecisionTreeClassifier(max_depth=depth, random_state = 12345)\n",
    "    model.fit(features_downsampled, target_downsampled)\n",
    "    predicted_valid = model.predict(features_valid)\n",
    "    result = f1_score(target_valid, predicted_valid)\n",
    "    if result > best_result:\n",
    "        best_model = model\n",
    "        best_result = result\n",
    "print(best_model)\n",
    "print(\"F1:\", best_result)\n",
    "\n",
    "probabilities_valid = model.predict_proba(features_valid)\n",
    "probabilities_one_valid = probabilities_valid[:, 1]\n",
    "fpr, tpr, thresholds = roc_curve(target_valid, probabilities_one_valid)"
   ]
  },
  {
   "cell_type": "code",
   "execution_count": 33,
   "metadata": {},
   "outputs": [
    {
     "data": {
      "image/png": "[encoded data removed]",
      "text/plain": [
       "<Figure size 432x288 with 1 Axes>"
      ]
     },
     "metadata": {
      "needs_background": "light"
     },
     "output_type": "display_data"
    },
    {
     "name": "stdout",
     "output_type": "stream",
     "text": [
      "AUC-ROC:  0.7557658779949961\n"
     ]
    }
   ],
   "source": [
    "plt.figure()\n",
    "plt.plot(fpr, tpr, linestyle='--')\n",
    "plt.xlim([0.0, 1.0])\n",
    "plt.ylim([0.0, 1.0])\n",
    "plt.xlabel('False Positive Rate')\n",
    "plt.ylabel('True Positive Rate')\n",
    "plt.title('ROC-кривая')\n",
    "plt.show()\n",
    "\n",
    "auc_roc = roc_auc_score(target_valid, probabilities_one_valid)\n",
    "print(\"AUC-ROC: \",auc_roc)"
   ]
  },
  {
   "cell_type": "markdown",
   "metadata": {},
   "source": [
    "\n",
    "<div class=\"alert alert-block alert-danger\">  \n",
    "<b>Ошибка:</b> \n",
    "    \n",
    "1) Тоже самое\n",
    "    \n",
    "2)Тоже самое с `fraction`\n",
    "\n",
    "\n",
    "</div>"
   ]
  },
  {
   "cell_type": "markdown",
   "metadata": {},
   "source": [
    "<div class=\"alert alert-block alert-warning\">\n",
    "<b>Изменения:</b> Разбил код на меньшие куски. Подобрал величину fraction везде такую, чтобы получалось максимальное значение F-1 меры\n",
    "</div>"
   ]
  },
  {
   "cell_type": "markdown",
   "metadata": {},
   "source": [
    "# Модель случайного леса:"
   ]
  },
  {
   "cell_type": "code",
   "execution_count": 34,
   "metadata": {},
   "outputs": [
    {
     "name": "stdout",
     "output_type": "stream",
     "text": [
      "RandomForestClassifier(class_weight='balanced', max_depth=9, n_estimators=30,\n",
      "                       random_state=12345)\n",
      "Лучший результат F1:  0.6170921198668147\n"
     ]
    }
   ],
   "source": [
    "#взвешивание классов\n",
    "best_model = None\n",
    "best_result = 0\n",
    "for depth in range(1, 16, 1):\n",
    "    for est in range(10, 51, 10):\n",
    "        model_rf_w = RandomForestClassifier(random_state=12345, n_estimators=est, max_depth=depth, class_weight='balanced')\n",
    "        model_rf_w.fit(features_train, target_train)\n",
    "        predicted_valid = model_rf_w.predict(features_valid)\n",
    "        result = f1_score(target_valid, predicted_valid)\n",
    "        if result > best_result:\n",
    "            best_model = model_rf_w\n",
    "            best_result = result\n",
    "\n",
    "print(best_model)\n",
    "print('Лучший результат F1: ', best_result)\n",
    "\n",
    "probabilities_valid = model_rf_w.predict_proba(features_valid)\n",
    "probabilities_one_valid = probabilities_valid[:, 1]\n",
    "fpr, tpr, thresholds = roc_curve(target_valid, probabilities_one_valid)"
   ]
  },
  {
   "cell_type": "code",
   "execution_count": 35,
   "metadata": {},
   "outputs": [
    {
     "data": {
      "image/png": "[encoded data removed]",
      "text/plain": [
       "<Figure size 432x288 with 1 Axes>"
      ]
     },
     "metadata": {
      "needs_background": "light"
     },
     "output_type": "display_data"
    },
    {
     "name": "stdout",
     "output_type": "stream",
     "text": [
      "AUC-ROC:  0.8395598069770683\n"
     ]
    }
   ],
   "source": [
    "plt.figure()\n",
    "plt.plot(fpr, tpr, linestyle='--')\n",
    "plt.xlim([0.0, 1.0])\n",
    "plt.ylim([0.0, 1.0])\n",
    "plt.xlabel('False Positive Rate')\n",
    "plt.ylabel('True Positive Rate')\n",
    "plt.title('ROC-кривая')\n",
    "plt.show()\n",
    "\n",
    "auc_roc = roc_auc_score(target_valid, probabilities_one_valid)\n",
    "print(\"AUC-ROC: \",auc_roc)"
   ]
  },
  {
   "cell_type": "code",
   "execution_count": 36,
   "metadata": {},
   "outputs": [
    {
     "name": "stdout",
     "output_type": "stream",
     "text": [
      "RandomForestClassifier(max_depth=12, n_estimators=30, random_state=12345)\n",
      "Лучший результат F1:  0.6118192352259559\n"
     ]
    }
   ],
   "source": [
    "#upsampling\n",
    "best_model = None\n",
    "best_result = 0\n",
    "for depth in range(1, 16, 1):\n",
    "    for est in range(10, 51, 10):\n",
    "        model_rf_u = RandomForestClassifier(random_state=12345, n_estimators=est, max_depth=depth)\n",
    "        model_rf_u.fit(features_upsampled, target_upsampled)\n",
    "        predicted_valid = model_rf_u.predict(features_valid)\n",
    "        result = f1_score(target_valid, predicted_valid)\n",
    "        if result > best_result:\n",
    "            best_model = model_rf_u\n",
    "            best_result = result\n",
    "\n",
    "print(best_model)\n",
    "print('Лучший результат F1: ', best_result)\n",
    "\n",
    "probabilities_valid = model_rf_u.predict_proba(features_valid)\n",
    "probabilities_one_valid = probabilities_valid[:, 1]\n",
    "fpr, tpr, thresholds = roc_curve(target_valid, probabilities_one_valid)"
   ]
  },
  {
   "cell_type": "code",
   "execution_count": 37,
   "metadata": {},
   "outputs": [
    {
     "data": {
      "image/png": "[encoded data removed]",
      "text/plain": [
       "<Figure size 432x288 with 1 Axes>"
      ]
     },
     "metadata": {
      "needs_background": "light"
     },
     "output_type": "display_data"
    },
    {
     "name": "stdout",
     "output_type": "stream",
     "text": [
      "AUC-ROC:  0.8485528526948406\n"
     ]
    }
   ],
   "source": [
    "plt.figure()\n",
    "plt.plot(fpr, tpr, linestyle='--')\n",
    "plt.xlim([0.0, 1.0])\n",
    "plt.ylim([0.0, 1.0])\n",
    "plt.xlabel('False Positive Rate')\n",
    "plt.ylabel('True Positive Rate')\n",
    "plt.title('ROC-кривая')\n",
    "plt.show()\n",
    "\n",
    "auc_roc = roc_auc_score(target_valid, probabilities_one_valid)\n",
    "print(\"AUC-ROC: \",auc_roc)"
   ]
  },
  {
   "cell_type": "markdown",
   "metadata": {},
   "source": [
    "\n",
    "<div class=\"alert alert-block alert-danger\">  \n",
    "<b>Ошибка:</b>  Не нужно дублировать функции upsample/downsample. Функции созданы для того, чтобы их 1 раз объявлять и вызывать по надобности с разными аргументами. Но у нас такой надобности нет - нам даже вызов функции достаточно сделать 1 раз. Исправь это везде\n",
    "\n",
    "\n",
    "</div>"
   ]
  },
  {
   "cell_type": "markdown",
   "metadata": {},
   "source": [
    "<div class=\"alert alert-block alert-warning\">\n",
    "<b>Изменения:</b> Исправил везде\n",
    "</div>"
   ]
  },
  {
   "cell_type": "code",
   "execution_count": 38,
   "metadata": {},
   "outputs": [
    {
     "name": "stdout",
     "output_type": "stream",
     "text": [
      "RandomForestClassifier(max_depth=7, n_estimators=30, random_state=12345)\n",
      "Лучший результат F1:  0.5888787602552416\n"
     ]
    }
   ],
   "source": [
    "#downsampling\n",
    "best_model = None\n",
    "best_result = 0\n",
    "for depth in range(1, 16, 1):\n",
    "    for est in range(10, 51, 10):\n",
    "        model_rf_d = RandomForestClassifier(random_state=12345, n_estimators=est, max_depth=depth)\n",
    "        model_rf_d.fit(features_downsampled, target_downsampled)\n",
    "        predicted_valid = model_rf_d.predict(features_valid)\n",
    "        result = f1_score(target_valid, predicted_valid)\n",
    "        if result > best_result:\n",
    "            best_model = model_rf_d\n",
    "            best_result = result\n",
    "\n",
    "print(best_model)\n",
    "print('Лучший результат F1: ', best_result)\n",
    "\n",
    "probabilities_valid = model_rf_d.predict_proba(features_valid)\n",
    "probabilities_one_valid = probabilities_valid[:, 1]\n",
    "fpr, tpr, thresholds = roc_curve(target_valid, probabilities_one_valid)"
   ]
  },
  {
   "cell_type": "code",
   "execution_count": 39,
   "metadata": {},
   "outputs": [
    {
     "data": {
      "image/png": "[encoded data removed]",
      "text/plain": [
       "<Figure size 432x288 with 1 Axes>"
      ]
     },
     "metadata": {
      "needs_background": "light"
     },
     "output_type": "display_data"
    },
    {
     "name": "stdout",
     "output_type": "stream",
     "text": [
      "AUC-ROC:  0.8410319141440715\n"
     ]
    }
   ],
   "source": [
    "plt.figure()\n",
    "plt.plot(fpr, tpr, linestyle='--')\n",
    "plt.xlim([0.0, 1.0])\n",
    "plt.ylim([0.0, 1.0])\n",
    "plt.xlabel('False Positive Rate')\n",
    "plt.ylabel('True Positive Rate')\n",
    "plt.title('ROC-кривая')\n",
    "plt.show()\n",
    "\n",
    "auc_roc = roc_auc_score(target_valid, probabilities_one_valid)\n",
    "print(\"AUC-ROC: \",auc_roc)"
   ]
  },
  {
   "cell_type": "markdown",
   "metadata": {},
   "source": [
    "# Модель логистической регрессии:"
   ]
  },
  {
   "cell_type": "code",
   "execution_count": 40,
   "metadata": {},
   "outputs": [
    {
     "name": "stdout",
     "output_type": "stream",
     "text": [
      "F1: 0.4788245462402766\n"
     ]
    },
    {
     "data": {
      "image/png": "[encoded data removed]",
      "text/plain": [
       "<Figure size 432x288 with 1 Axes>"
      ]
     },
     "metadata": {
      "needs_background": "light"
     },
     "output_type": "display_data"
    },
    {
     "name": "stdout",
     "output_type": "stream",
     "text": [
      "AUC-ROC:  0.7417396349114262\n"
     ]
    }
   ],
   "source": [
    "#взвешивание классов\n",
    "model = LogisticRegression(random_state=12345, solver='liblinear', class_weight='balanced')\n",
    "model.fit(features_train, target_train)\n",
    "predicted_valid = model.predict(features_valid)\n",
    "print(\"F1:\", f1_score(target_valid, predicted_valid))\n",
    "\n",
    "probabilities_valid = model.predict_proba(features_valid)\n",
    "probabilities_one_valid = probabilities_valid[:, 1]\n",
    "fpr, tpr, thresholds = roc_curve(target_valid, probabilities_one_valid)\n",
    "\n",
    "plt.figure()\n",
    "plt.plot(fpr, tpr, linestyle='--')\n",
    "plt.xlim([0.0, 1.0])\n",
    "plt.ylim([0.0, 1.0])\n",
    "plt.xlabel('False Positive Rate')\n",
    "plt.ylabel('True Positive Rate')\n",
    "plt.title('ROC-кривая')\n",
    "plt.show()\n",
    "\n",
    "auc_roc = roc_auc_score(target_valid, probabilities_one_valid)\n",
    "print(\"AUC-ROC: \",auc_roc)"
   ]
  },
  {
   "cell_type": "code",
   "execution_count": 41,
   "metadata": {},
   "outputs": [
    {
     "name": "stdout",
     "output_type": "stream",
     "text": [
      "F1: 0.4779220779220779\n"
     ]
    }
   ],
   "source": [
    "#upsampling\n",
    "model = LogisticRegression(random_state=12345, solver='liblinear')\n",
    "model.fit(features_upsampled, target_upsampled)\n",
    "predicted_valid = model.predict(features_valid)\n",
    "print(\"F1:\", f1_score(target_valid, predicted_valid))\n",
    "\n",
    "probabilities_valid = model.predict_proba(features_valid)\n",
    "probabilities_one_valid = probabilities_valid[:, 1]\n",
    "fpr, tpr, thresholds = roc_curve(target_valid, probabilities_one_valid)"
   ]
  },
  {
   "cell_type": "code",
   "execution_count": 42,
   "metadata": {},
   "outputs": [
    {
     "data": {
      "image/png": "[encoded data removed]",
      "text/plain": [
       "<Figure size 432x288 with 1 Axes>"
      ]
     },
     "metadata": {
      "needs_background": "light"
     },
     "output_type": "display_data"
    },
    {
     "name": "stdout",
     "output_type": "stream",
     "text": [
      "AUC-ROC:  0.7416856676425747\n"
     ]
    }
   ],
   "source": [
    "plt.figure()\n",
    "plt.plot(fpr, tpr, linestyle='--')\n",
    "plt.xlim([0.0, 1.0])\n",
    "plt.ylim([0.0, 1.0])\n",
    "plt.xlabel('False Positive Rate')\n",
    "plt.ylabel('True Positive Rate')\n",
    "plt.title('ROC-кривая')\n",
    "plt.show()\n",
    "\n",
    "auc_roc = roc_auc_score(target_valid, probabilities_one_valid)\n",
    "print(\"AUC-ROC: \",auc_roc)"
   ]
  },
  {
   "cell_type": "code",
   "execution_count": 43,
   "metadata": {},
   "outputs": [
    {
     "name": "stdout",
     "output_type": "stream",
     "text": [
      "F1: 0.48370497427101194\n"
     ]
    }
   ],
   "source": [
    "#downsampling\n",
    "model = LogisticRegression(random_state=12345, solver='liblinear', max_iter=1000)\n",
    "model.fit(features_downsampled, target_downsampled)\n",
    "predicted_valid = model.predict(features_valid)\n",
    "\n",
    "print(\"F1:\", f1_score(target_valid, predicted_valid))\n",
    "\n",
    "probabilities_valid = model.predict_proba(features_valid)\n",
    "probabilities_one_valid = probabilities_valid[:, 1]\n",
    "fpr, tpr, thresholds = roc_curve(target_valid, probabilities_one_valid)"
   ]
  },
  {
   "cell_type": "code",
   "execution_count": 44,
   "metadata": {},
   "outputs": [
    {
     "data": {
      "image/png": "[encoded data removed]",
      "text/plain": [
       "<Figure size 432x288 with 1 Axes>"
      ]
     },
     "metadata": {
      "needs_background": "light"
     },
     "output_type": "display_data"
    },
    {
     "name": "stdout",
     "output_type": "stream",
     "text": [
      "AUC-ROC:  0.7412224485849332\n"
     ]
    }
   ],
   "source": [
    "plt.figure()\n",
    "plt.plot(fpr, tpr, linestyle='--')\n",
    "plt.xlim([0.0, 1.0])\n",
    "plt.ylim([0.0, 1.0])\n",
    "plt.xlabel('False Positive Rate')\n",
    "plt.ylabel('True Positive Rate')\n",
    "plt.title('ROC-кривая')\n",
    "plt.show()\n",
    "\n",
    "auc_roc = roc_auc_score(target_valid, probabilities_one_valid)\n",
    "print(\"AUC-ROC: \",auc_roc)"
   ]
  },
  {
   "cell_type": "markdown",
   "metadata": {},
   "source": [
    "# Вывод: целевого показателя F-1 достигла только модель случайного леса через взвешивание классов и upsampling, а также модель решающего дерева через downsampling."
   ]
  },
  {
   "cell_type": "markdown",
   "metadata": {},
   "source": [
    "## Тестирование модели"
   ]
  },
  {
   "cell_type": "markdown",
   "metadata": {},
   "source": [
    "\n",
    "<div class=\"alert alert-block alert-danger\">\n",
    "    \n",
    "<b>Ошибка:</b> \n",
    "    \n",
    "- Все, что ниже происходит с валидационной выборке, находится не на своем месте. Подбор гиперпараметров должен быть в шаге `3 борьба с дисбалансом`, потому что тестирование модели - это означает, оценить лучшую модель на тестовой выборке (f1, roc_auc), то есть одно логическое действие.\n",
    "    \n",
    "\n",
    "</div>\n"
   ]
  },
  {
   "cell_type": "markdown",
   "metadata": {},
   "source": [
    "<div class=\"alert alert-block alert-warning\">\n",
    "<b>Изменения:</b> Исправил\n",
    "</div>"
   ]
  },
  {
   "cell_type": "markdown",
   "metadata": {},
   "source": [
    "<div class=\"alert alert-block alert-success\">\n",
    "    \n",
    "<b>Успех[2]:</b> 👍\n",
    "</div>"
   ]
  },
  {
   "cell_type": "markdown",
   "metadata": {},
   "source": [
    "\n",
    "<div class=\"alert alert-block alert-danger\">  \n",
    "    \n",
    "<b>Ошибка[2]:</b> f1 на тесте нужно достичь > 0.59 - достигается за счет удаления неинформативных признаков, правильного устранения дисбаланса и подбора гиперпараметров на валидации\n",
    "\n",
    "</div>"
   ]
  },
  {
   "cell_type": "markdown",
   "metadata": {},
   "source": [
    "<div class=\"alert alert-block alert-warning\">\n",
    "<b>Комментарий:</b> Исправил. Теперь на тесте получилось >0.59\n",
    "</div>"
   ]
  },
  {
   "cell_type": "markdown",
   "metadata": {},
   "source": [
    "\n",
    "<div class=\"alert alert-block alert-success\">\n",
    "    \n",
    "<b>Успех[3]:</b> Рад, это наблюдать, молодец!\n",
    "</div>\n"
   ]
  },
  {
   "cell_type": "markdown",
   "metadata": {},
   "source": [
    "# Протестируем все модели случайного леса:"
   ]
  },
  {
   "cell_type": "code",
   "execution_count": 45,
   "metadata": {},
   "outputs": [
    {
     "name": "stdout",
     "output_type": "stream",
     "text": [
      "Результат F1 на тестовой выборке:  0.5916305916305916\n"
     ]
    },
    {
     "data": {
      "image/png": "[encoded data removed]",
      "text/plain": [
       "<Figure size 432x288 with 1 Axes>"
      ]
     },
     "metadata": {
      "needs_background": "light"
     },
     "output_type": "display_data"
    },
    {
     "name": "stdout",
     "output_type": "stream",
     "text": [
      "AUC-ROC на тестовой выборке:  0.8370445925755661\n"
     ]
    }
   ],
   "source": [
    "#взвешивание классов\n",
    "predicted_test = model_rf_w.predict(features_test)\n",
    "print('Результат F1 на тестовой выборке: ', f1_score(target_test, predicted_test))\n",
    "\n",
    "probabilities_test = model_rf_w.predict_proba(features_test)\n",
    "probabilities_one_test = probabilities_test[:, 1]\n",
    "fpr, tpr, thresholds = roc_curve(target_test, probabilities_one_test)\n",
    "\n",
    "plt.figure()\n",
    "plt.plot(fpr, tpr, linestyle='--')\n",
    "plt.xlim([0.0, 1.0])\n",
    "plt.ylim([0.0, 1.0])\n",
    "plt.xlabel('False Positive Rate')\n",
    "plt.ylabel('True Positive Rate')\n",
    "plt.title('ROC-кривая')\n",
    "plt.show()\n",
    "\n",
    "auc_roc = roc_auc_score(target_test, probabilities_one_test)\n",
    "print(\"AUC-ROC на тестовой выборке: \",auc_roc) "
   ]
  },
  {
   "cell_type": "code",
   "execution_count": 46,
   "metadata": {},
   "outputs": [
    {
     "name": "stdout",
     "output_type": "stream",
     "text": [
      "Результат F1 на тестовой выборке:  0.6025316455696201\n"
     ]
    }
   ],
   "source": [
    "#upsampling\n",
    "predicted_test = model_rf_u.predict(features_test)\n",
    "print('Результат F1 на тестовой выборке: ', f1_score(target_test, predicted_test))\n",
    "\n",
    "probabilities_test = model_rf_u.predict_proba(features_test)\n",
    "probabilities_one_test = probabilities_test[:, 1]\n",
    "fpr, tpr, thresholds = roc_curve(target_test, probabilities_one_test)"
   ]
  },
  {
   "cell_type": "code",
   "execution_count": 47,
   "metadata": {},
   "outputs": [
    {
     "data": {
      "image/png": "[encoded data removed]",
      "text/plain": [
       "<Figure size 432x288 with 1 Axes>"
      ]
     },
     "metadata": {
      "needs_background": "light"
     },
     "output_type": "display_data"
    },
    {
     "name": "stdout",
     "output_type": "stream",
     "text": [
      "AUC-ROC на тестовой выборке:  0.8380502241121711\n"
     ]
    }
   ],
   "source": [
    "plt.figure()\n",
    "plt.plot(fpr, tpr, linestyle='--')\n",
    "plt.xlim([0.0, 1.0])\n",
    "plt.ylim([0.0, 1.0])\n",
    "plt.xlabel('False Positive Rate')\n",
    "plt.ylabel('True Positive Rate')\n",
    "plt.title('ROC-кривая')\n",
    "plt.show()\n",
    "\n",
    "auc_roc = roc_auc_score(target_test, probabilities_one_test)\n",
    "print(\"AUC-ROC на тестовой выборке: \",auc_roc) "
   ]
  },
  {
   "cell_type": "code",
   "execution_count": 48,
   "metadata": {},
   "outputs": [
    {
     "name": "stdout",
     "output_type": "stream",
     "text": [
      "Результат F1 на тестовой выборке:  0.5743685687558465\n"
     ]
    }
   ],
   "source": [
    "#downsampling\n",
    "predicted_test = model_rf_d.predict(features_test)\n",
    "print('Результат F1 на тестовой выборке: ', f1_score(target_test, predicted_test))\n",
    "\n",
    "probabilities_test = model_rf_d.predict_proba(features_test)\n",
    "probabilities_one_test = probabilities_test[:, 1]\n",
    "fpr, tpr, thresholds = roc_curve(target_test, probabilities_one_test)"
   ]
  },
  {
   "cell_type": "code",
   "execution_count": 49,
   "metadata": {},
   "outputs": [
    {
     "data": {
      "image/png": "[encoded data removed]",
      "text/plain": [
       "<Figure size 432x288 with 1 Axes>"
      ]
     },
     "metadata": {
      "needs_background": "light"
     },
     "output_type": "display_data"
    },
    {
     "name": "stdout",
     "output_type": "stream",
     "text": [
      "AUC-ROC на тестовой выборке:  0.8393015926783975\n"
     ]
    }
   ],
   "source": [
    "plt.figure()\n",
    "plt.plot(fpr, tpr, linestyle='--')\n",
    "plt.xlim([0.0, 1.0])\n",
    "plt.ylim([0.0, 1.0])\n",
    "plt.xlabel('False Positive Rate')\n",
    "plt.ylabel('True Positive Rate')\n",
    "plt.title('ROC-кривая')\n",
    "plt.show()\n",
    "\n",
    "auc_roc = roc_auc_score(target_test, probabilities_one_test)\n",
    "print(\"AUC-ROC на тестовой выборке: \",auc_roc) "
   ]
  },
  {
   "cell_type": "markdown",
   "metadata": {},
   "source": [
    "# Вывод: Ближайшее к целевому (и к валидационному) значение F-1 на тестовой выборке показывает модель случайного леса, обученная с балансировкой классов через downsampling."
   ]
  },
  {
   "cell_type": "markdown",
   "metadata": {},
   "source": [
    "<div class=\"alert alert-block alert-warning\">\n",
    "<b>Изменения:</b> Изменил вывод\n",
    "</div>"
   ]
  },
  {
   "cell_type": "markdown",
   "metadata": {},
   "source": [
    "<div class=\"alert alert-block alert-info\">\n",
    "<b>Совет:</b> Для понимания, а какие в итоге факторы важны при моделировании, можно выводить их важность, использую feature_importances_, ну и график заодно. Это будет смотреться очнь здорово: результативная метрика и график важности факторов)))<br> Очень ВАЖНАЯ для аналитики штука. Ведь нам не просто модель с метрикой нужна, а ещё и причины понять высокой/низкой метрики. Т.е. понять с какой силой сами факторы влияют на целевую.\n",
    "</div>\n",
    "\n"
   ]
  },
  {
   "cell_type": "markdown",
   "metadata": {},
   "source": [
    "## Чек-лист готовности проекта"
   ]
  },
  {
   "cell_type": "markdown",
   "metadata": {},
   "source": [
    "Поставьте 'x' в выполненных пунктах. Далее нажмите Shift+Enter."
   ]
  },
  {
   "cell_type": "markdown",
   "metadata": {},
   "source": [
    "- [x]  Jupyter Notebook открыт\n",
    "- [x]  Весь код выполняется без ошибок\n",
    "- [x]  Ячейки с кодом расположены в порядке исполнения\n",
    "- [x]  Выполнен шаг 1: данные подготовлены\n",
    "- [x]  Выполнен шаг 2: задача исследована\n",
    "    - [x]  Исследован баланс классов\n",
    "    - [x]  Изучены модели без учёта дисбаланса\n",
    "    - [x]  Написаны выводы по результатам исследования\n",
    "- [x]  Выполнен шаг 3: учтён дисбаланс\n",
    "    - [x]  Применено несколько способов борьбы с дисбалансом\n",
    "    - [x]  Написаны выводы по результатам исследования\n",
    "- [x]  Выполнен шаг 4: проведено тестирование\n",
    "- [x]  Удалось достичь *F1*-меры не менее 0.59\n",
    "- [x]  Исследована метрика *AUC-ROC*"
   ]
  }
 ],
 "metadata": {
  "ExecuteTimeLog": [
   {
    "duration": 72,
    "start_time": "2023-04-22T09:25:04.566Z"
   },
   {
    "duration": 1363,
    "start_time": "2023-04-22T09:25:07.896Z"
   },
   {
    "duration": 6,
    "start_time": "2023-04-22T09:25:10.837Z"
   },
   {
    "duration": 9,
    "start_time": "2023-04-22T09:25:28.581Z"
   },
   {
    "duration": 25,
    "start_time": "2023-04-22T09:25:35.924Z"
   },
   {
    "duration": 568,
    "start_time": "2023-04-22T09:26:32.513Z"
   },
   {
    "duration": 1188,
    "start_time": "2023-04-22T09:26:44.308Z"
   },
   {
    "duration": 6,
    "start_time": "2023-04-22T09:29:04.371Z"
   },
   {
    "duration": 20,
    "start_time": "2023-04-22T09:29:40.152Z"
   },
   {
    "duration": 18,
    "start_time": "2023-04-22T09:30:48.063Z"
   },
   {
    "duration": 65,
    "start_time": "2023-04-22T09:30:56.184Z"
   },
   {
    "duration": 15,
    "start_time": "2023-04-22T09:31:05.747Z"
   },
   {
    "duration": 49,
    "start_time": "2023-04-22T09:31:26.422Z"
   },
   {
    "duration": 11,
    "start_time": "2023-04-22T09:31:42.232Z"
   },
   {
    "duration": 9,
    "start_time": "2023-04-22T09:32:16.485Z"
   },
   {
    "duration": 14,
    "start_time": "2023-04-22T09:32:35.820Z"
   },
   {
    "duration": 10,
    "start_time": "2023-04-22T09:32:57.331Z"
   },
   {
    "duration": 10,
    "start_time": "2023-04-22T09:33:42.536Z"
   },
   {
    "duration": 6,
    "start_time": "2023-04-22T09:33:48.149Z"
   },
   {
    "duration": 6,
    "start_time": "2023-04-22T09:33:52.982Z"
   },
   {
    "duration": 5,
    "start_time": "2023-04-22T09:34:16.140Z"
   },
   {
    "duration": 9,
    "start_time": "2023-04-22T09:34:21.379Z"
   },
   {
    "duration": 19,
    "start_time": "2023-04-22T09:34:44.210Z"
   },
   {
    "duration": 12,
    "start_time": "2023-04-22T09:35:05.917Z"
   },
   {
    "duration": 19,
    "start_time": "2023-04-22T09:35:16.012Z"
   },
   {
    "duration": 5,
    "start_time": "2023-04-22T09:35:25.513Z"
   },
   {
    "duration": 6,
    "start_time": "2023-04-22T09:35:32.320Z"
   },
   {
    "duration": 5,
    "start_time": "2023-04-22T09:35:38.315Z"
   },
   {
    "duration": 10,
    "start_time": "2023-04-22T09:36:24.380Z"
   },
   {
    "duration": 11,
    "start_time": "2023-04-22T09:36:36.164Z"
   },
   {
    "duration": 4,
    "start_time": "2023-04-22T09:37:26.066Z"
   },
   {
    "duration": 11,
    "start_time": "2023-04-22T09:37:36.728Z"
   },
   {
    "duration": 13,
    "start_time": "2023-04-22T09:38:02.273Z"
   },
   {
    "duration": 6,
    "start_time": "2023-04-22T09:38:08.163Z"
   },
   {
    "duration": 10,
    "start_time": "2023-04-22T09:39:01.762Z"
   },
   {
    "duration": 12,
    "start_time": "2023-04-22T09:39:11.733Z"
   },
   {
    "duration": 10,
    "start_time": "2023-04-22T09:39:32.120Z"
   },
   {
    "duration": 9,
    "start_time": "2023-04-22T09:39:52.848Z"
   },
   {
    "duration": 18,
    "start_time": "2023-04-22T09:40:01.544Z"
   },
   {
    "duration": 3,
    "start_time": "2023-04-22T09:40:18.264Z"
   },
   {
    "duration": 3,
    "start_time": "2023-04-22T09:40:22.025Z"
   },
   {
    "duration": 10,
    "start_time": "2023-04-22T09:40:32.179Z"
   },
   {
    "duration": 9,
    "start_time": "2023-04-22T09:40:37.477Z"
   },
   {
    "duration": 63,
    "start_time": "2023-04-22T09:40:44.572Z"
   },
   {
    "duration": 11,
    "start_time": "2023-04-22T09:40:49.250Z"
   },
   {
    "duration": 12,
    "start_time": "2023-04-22T09:49:22.351Z"
   },
   {
    "duration": 15,
    "start_time": "2023-04-22T09:49:36.521Z"
   },
   {
    "duration": 7,
    "start_time": "2023-04-22T09:54:12.160Z"
   },
   {
    "duration": 17,
    "start_time": "2023-04-22T09:54:12.169Z"
   },
   {
    "duration": 39,
    "start_time": "2023-04-22T09:54:31.355Z"
   },
   {
    "duration": 5,
    "start_time": "2023-04-22T09:54:32.708Z"
   },
   {
    "duration": 3,
    "start_time": "2023-04-22T09:54:34.156Z"
   },
   {
    "duration": 5,
    "start_time": "2023-04-22T09:54:35.452Z"
   },
   {
    "duration": 4,
    "start_time": "2023-04-22T09:54:36.124Z"
   },
   {
    "duration": 3,
    "start_time": "2023-04-22T09:54:36.685Z"
   },
   {
    "duration": 6,
    "start_time": "2023-04-22T09:54:37.174Z"
   },
   {
    "duration": 5,
    "start_time": "2023-04-22T09:54:38.120Z"
   },
   {
    "duration": 19,
    "start_time": "2023-04-22T09:54:47.230Z"
   },
   {
    "duration": 857,
    "start_time": "2023-04-22T09:54:47.755Z"
   },
   {
    "duration": 0,
    "start_time": "2023-04-22T09:54:48.614Z"
   },
   {
    "duration": 0,
    "start_time": "2023-04-22T09:54:48.615Z"
   },
   {
    "duration": 5,
    "start_time": "2023-04-22T09:54:48.629Z"
   },
   {
    "duration": 48,
    "start_time": "2023-04-22T09:54:56.284Z"
   },
   {
    "duration": 5,
    "start_time": "2023-04-22T09:54:56.578Z"
   },
   {
    "duration": 13,
    "start_time": "2023-04-22T09:54:57.304Z"
   },
   {
    "duration": 5,
    "start_time": "2023-04-22T09:54:58.454Z"
   },
   {
    "duration": 4,
    "start_time": "2023-04-22T09:54:59.533Z"
   },
   {
    "duration": 11,
    "start_time": "2023-04-22T09:55:00.156Z"
   },
   {
    "duration": 4,
    "start_time": "2023-04-22T09:55:01.070Z"
   },
   {
    "duration": 5,
    "start_time": "2023-04-22T09:55:01.683Z"
   },
   {
    "duration": 9,
    "start_time": "2023-04-22T09:55:02.348Z"
   },
   {
    "duration": 10,
    "start_time": "2023-04-22T09:55:04.520Z"
   },
   {
    "duration": 11,
    "start_time": "2023-04-22T09:55:57.619Z"
   },
   {
    "duration": 16,
    "start_time": "2023-04-22T10:00:18.410Z"
   },
   {
    "duration": 7,
    "start_time": "2023-04-22T10:00:34.671Z"
   },
   {
    "duration": 14,
    "start_time": "2023-04-22T10:00:36.204Z"
   },
   {
    "duration": 12,
    "start_time": "2023-04-22T10:00:38.116Z"
   },
   {
    "duration": 18,
    "start_time": "2023-04-22T10:02:39.536Z"
   },
   {
    "duration": 12,
    "start_time": "2023-04-22T10:02:57.547Z"
   },
   {
    "duration": 13,
    "start_time": "2023-04-22T10:03:03.732Z"
   },
   {
    "duration": 11,
    "start_time": "2023-04-22T10:03:09.851Z"
   },
   {
    "duration": 10,
    "start_time": "2023-04-22T10:11:15.742Z"
   },
   {
    "duration": 9,
    "start_time": "2023-04-22T10:11:40.597Z"
   },
   {
    "duration": 7,
    "start_time": "2023-04-22T10:11:41.230Z"
   },
   {
    "duration": 11,
    "start_time": "2023-04-22T10:11:53.632Z"
   },
   {
    "duration": 21,
    "start_time": "2023-04-22T10:12:22.123Z"
   },
   {
    "duration": 13,
    "start_time": "2023-04-22T10:13:16.106Z"
   },
   {
    "duration": 26,
    "start_time": "2023-04-22T10:14:40.354Z"
   },
   {
    "duration": 29,
    "start_time": "2023-04-22T10:14:53.573Z"
   },
   {
    "duration": 23,
    "start_time": "2023-04-22T10:15:28.229Z"
   },
   {
    "duration": 20,
    "start_time": "2023-04-22T10:15:31.470Z"
   },
   {
    "duration": 31,
    "start_time": "2023-04-22T10:15:48.657Z"
   },
   {
    "duration": 12,
    "start_time": "2023-04-22T10:18:23.637Z"
   },
   {
    "duration": 11,
    "start_time": "2023-04-22T10:18:29.106Z"
   },
   {
    "duration": 13,
    "start_time": "2023-04-22T10:19:01.183Z"
   },
   {
    "duration": 31,
    "start_time": "2023-04-22T10:30:57.619Z"
   },
   {
    "duration": 37,
    "start_time": "2023-04-22T10:31:33.662Z"
   },
   {
    "duration": 15,
    "start_time": "2023-04-22T10:31:59.612Z"
   },
   {
    "duration": 11,
    "start_time": "2023-04-22T10:35:38.443Z"
   },
   {
    "duration": 73,
    "start_time": "2023-04-22T10:36:00.257Z"
   },
   {
    "duration": 7,
    "start_time": "2023-04-22T10:36:00.523Z"
   },
   {
    "duration": 51,
    "start_time": "2023-04-22T10:36:00.852Z"
   },
   {
    "duration": 6,
    "start_time": "2023-04-22T10:36:01.140Z"
   },
   {
    "duration": 6,
    "start_time": "2023-04-22T10:36:01.399Z"
   },
   {
    "duration": 6,
    "start_time": "2023-04-22T10:36:01.637Z"
   },
   {
    "duration": 15,
    "start_time": "2023-04-22T10:36:01.875Z"
   },
   {
    "duration": 24,
    "start_time": "2023-04-22T10:36:02.107Z"
   },
   {
    "duration": 52,
    "start_time": "2023-04-22T10:36:02.352Z"
   },
   {
    "duration": 29,
    "start_time": "2023-04-22T10:36:03.409Z"
   },
   {
    "duration": 4,
    "start_time": "2023-04-22T10:36:31.689Z"
   },
   {
    "duration": 13,
    "start_time": "2023-04-22T10:37:50.356Z"
   },
   {
    "duration": 43,
    "start_time": "2023-04-22T10:38:43.098Z"
   },
   {
    "duration": 15,
    "start_time": "2023-04-22T10:38:44.594Z"
   },
   {
    "duration": 56,
    "start_time": "2023-04-22T10:38:45.856Z"
   },
   {
    "duration": 59,
    "start_time": "2023-04-22T10:39:56.971Z"
   },
   {
    "duration": 52,
    "start_time": "2023-04-22T10:40:01.915Z"
   },
   {
    "duration": 8,
    "start_time": "2023-04-22T10:44:19.420Z"
   },
   {
    "duration": 15,
    "start_time": "2023-04-22T10:44:43.331Z"
   },
   {
    "duration": 53,
    "start_time": "2023-04-22T10:47:44.294Z"
   },
   {
    "duration": 13,
    "start_time": "2023-04-22T10:47:45.211Z"
   },
   {
    "duration": 6,
    "start_time": "2023-04-22T10:47:46.157Z"
   },
   {
    "duration": 12,
    "start_time": "2023-04-22T10:47:47.011Z"
   },
   {
    "duration": 1101,
    "start_time": "2023-04-22T10:48:06.645Z"
   },
   {
    "duration": 17,
    "start_time": "2023-04-22T10:48:07.748Z"
   },
   {
    "duration": 17,
    "start_time": "2023-04-22T10:48:07.766Z"
   },
   {
    "duration": 21,
    "start_time": "2023-04-22T10:48:07.785Z"
   },
   {
    "duration": 11,
    "start_time": "2023-04-22T10:48:07.809Z"
   },
   {
    "duration": 46,
    "start_time": "2023-04-22T10:48:07.822Z"
   },
   {
    "duration": 0,
    "start_time": "2023-04-22T10:48:07.870Z"
   },
   {
    "duration": 0,
    "start_time": "2023-04-22T10:48:07.871Z"
   },
   {
    "duration": 0,
    "start_time": "2023-04-22T10:48:07.872Z"
   },
   {
    "duration": 0,
    "start_time": "2023-04-22T10:48:07.873Z"
   },
   {
    "duration": 0,
    "start_time": "2023-04-22T10:48:07.874Z"
   },
   {
    "duration": 0,
    "start_time": "2023-04-22T10:48:07.876Z"
   },
   {
    "duration": 0,
    "start_time": "2023-04-22T10:48:07.877Z"
   },
   {
    "duration": 6,
    "start_time": "2023-04-22T10:48:28.453Z"
   },
   {
    "duration": 47,
    "start_time": "2023-04-22T10:49:46.282Z"
   },
   {
    "duration": 15,
    "start_time": "2023-04-22T10:49:47.270Z"
   },
   {
    "duration": 4,
    "start_time": "2023-04-22T10:49:48.215Z"
   },
   {
    "duration": 19,
    "start_time": "2023-04-22T10:49:49.678Z"
   },
   {
    "duration": 7,
    "start_time": "2023-04-22T10:49:55.136Z"
   },
   {
    "duration": 6,
    "start_time": "2023-04-22T10:49:58.115Z"
   },
   {
    "duration": 6,
    "start_time": "2023-04-22T10:49:59.112Z"
   },
   {
    "duration": 5,
    "start_time": "2023-04-22T10:50:00.080Z"
   },
   {
    "duration": 6,
    "start_time": "2023-04-22T10:50:01.248Z"
   },
   {
    "duration": 18,
    "start_time": "2023-04-22T10:50:02.081Z"
   },
   {
    "duration": 29,
    "start_time": "2023-04-22T10:50:03.641Z"
   },
   {
    "duration": 56,
    "start_time": "2023-04-22T10:50:04.875Z"
   },
   {
    "duration": 41,
    "start_time": "2023-04-22T10:50:09.620Z"
   },
   {
    "duration": 76,
    "start_time": "2023-04-22T10:50:19.716Z"
   },
   {
    "duration": 1077,
    "start_time": "2023-04-22T10:53:45.413Z"
   },
   {
    "duration": 510,
    "start_time": "2023-04-22T10:53:55.833Z"
   },
   {
    "duration": 139,
    "start_time": "2023-04-22T10:55:26.093Z"
   },
   {
    "duration": 117,
    "start_time": "2023-04-22T10:55:55.011Z"
   },
   {
    "duration": 110,
    "start_time": "2023-04-22T10:56:01.142Z"
   },
   {
    "duration": 115,
    "start_time": "2023-04-22T10:56:04.512Z"
   },
   {
    "duration": 5,
    "start_time": "2023-04-22T10:57:20.205Z"
   },
   {
    "duration": 61,
    "start_time": "2023-04-22T10:59:29.897Z"
   },
   {
    "duration": 205,
    "start_time": "2023-04-22T10:59:30.609Z"
   },
   {
    "duration": 121,
    "start_time": "2023-04-22T10:59:31.676Z"
   },
   {
    "duration": 6,
    "start_time": "2023-04-22T10:59:32.481Z"
   },
   {
    "duration": 17,
    "start_time": "2023-04-22T11:01:38.310Z"
   },
   {
    "duration": 13,
    "start_time": "2023-04-22T11:01:51.100Z"
   },
   {
    "duration": 7,
    "start_time": "2023-04-22T11:02:03.411Z"
   },
   {
    "duration": 14,
    "start_time": "2023-04-22T11:09:32.135Z"
   },
   {
    "duration": 17,
    "start_time": "2023-04-22T11:09:53.591Z"
   },
   {
    "duration": 16,
    "start_time": "2023-04-22T11:10:11.409Z"
   },
   {
    "duration": 124,
    "start_time": "2023-04-22T11:11:09.608Z"
   },
   {
    "duration": 1310,
    "start_time": "2023-04-22T11:12:40.585Z"
   },
   {
    "duration": 12,
    "start_time": "2023-04-22T11:12:41.897Z"
   },
   {
    "duration": 3,
    "start_time": "2023-04-22T11:12:41.911Z"
   },
   {
    "duration": 12,
    "start_time": "2023-04-22T11:12:41.915Z"
   },
   {
    "duration": 7,
    "start_time": "2023-04-22T11:12:41.929Z"
   },
   {
    "duration": 4,
    "start_time": "2023-04-22T11:12:41.938Z"
   },
   {
    "duration": 4,
    "start_time": "2023-04-22T11:12:41.944Z"
   },
   {
    "duration": 7,
    "start_time": "2023-04-22T11:12:41.949Z"
   },
   {
    "duration": 43,
    "start_time": "2023-04-22T11:12:41.957Z"
   },
   {
    "duration": 11,
    "start_time": "2023-04-22T11:12:42.001Z"
   },
   {
    "duration": 18,
    "start_time": "2023-04-22T11:12:42.013Z"
   },
   {
    "duration": 65,
    "start_time": "2023-04-22T11:12:42.033Z"
   },
   {
    "duration": 59,
    "start_time": "2023-04-22T11:12:42.100Z"
   },
   {
    "duration": 177,
    "start_time": "2023-04-22T11:12:42.162Z"
   },
   {
    "duration": 111,
    "start_time": "2023-04-22T11:12:42.340Z"
   },
   {
    "duration": 4,
    "start_time": "2023-04-22T11:12:42.452Z"
   },
   {
    "duration": 7,
    "start_time": "2023-04-22T11:12:42.458Z"
   },
   {
    "duration": 137,
    "start_time": "2023-04-22T11:12:42.466Z"
   },
   {
    "duration": 9,
    "start_time": "2023-04-22T11:12:42.605Z"
   },
   {
    "duration": 39,
    "start_time": "2023-04-22T11:18:03.055Z"
   },
   {
    "duration": 145,
    "start_time": "2023-04-22T11:27:54.097Z"
   },
   {
    "duration": 46,
    "start_time": "2023-04-22T11:28:14.331Z"
   },
   {
    "duration": 301,
    "start_time": "2023-04-22T11:28:22.265Z"
   },
   {
    "duration": 322,
    "start_time": "2023-04-22T11:28:41.488Z"
   },
   {
    "duration": 25,
    "start_time": "2023-04-22T11:30:00.083Z"
   },
   {
    "duration": 30,
    "start_time": "2023-04-22T11:45:50.225Z"
   },
   {
    "duration": 19,
    "start_time": "2023-04-22T11:45:51.080Z"
   },
   {
    "duration": 49,
    "start_time": "2023-04-22T11:46:07.299Z"
   },
   {
    "duration": 24,
    "start_time": "2023-04-22T11:46:13.986Z"
   },
   {
    "duration": 61,
    "start_time": "2023-04-22T11:48:53.901Z"
   },
   {
    "duration": 39,
    "start_time": "2023-04-22T11:53:51.625Z"
   },
   {
    "duration": 13,
    "start_time": "2023-04-22T11:53:52.387Z"
   },
   {
    "duration": 4,
    "start_time": "2023-04-22T11:53:55.591Z"
   },
   {
    "duration": 16,
    "start_time": "2023-04-22T11:53:56.414Z"
   },
   {
    "duration": 5,
    "start_time": "2023-04-22T11:53:59.480Z"
   },
   {
    "duration": 6,
    "start_time": "2023-04-22T11:54:00.446Z"
   },
   {
    "duration": 4,
    "start_time": "2023-04-22T11:54:01.209Z"
   },
   {
    "duration": 5,
    "start_time": "2023-04-22T11:54:01.973Z"
   },
   {
    "duration": 4,
    "start_time": "2023-04-22T11:54:02.721Z"
   },
   {
    "duration": 9,
    "start_time": "2023-04-22T11:54:03.466Z"
   },
   {
    "duration": 26,
    "start_time": "2023-04-22T11:54:04.542Z"
   },
   {
    "duration": 43,
    "start_time": "2023-04-22T11:54:05.289Z"
   },
   {
    "duration": 56,
    "start_time": "2023-04-22T11:54:10.253Z"
   },
   {
    "duration": 99,
    "start_time": "2023-04-22T11:54:11.040Z"
   },
   {
    "duration": 203,
    "start_time": "2023-04-22T11:54:14.277Z"
   },
   {
    "duration": 5,
    "start_time": "2023-04-22T11:54:14.818Z"
   },
   {
    "duration": 7,
    "start_time": "2023-04-22T11:54:15.607Z"
   },
   {
    "duration": 315,
    "start_time": "2023-04-22T11:54:16.704Z"
   },
   {
    "duration": 14,
    "start_time": "2023-04-22T11:57:02.348Z"
   },
   {
    "duration": 33,
    "start_time": "2023-04-22T11:57:20.241Z"
   },
   {
    "duration": 41,
    "start_time": "2023-04-22T11:57:27.551Z"
   },
   {
    "duration": 529,
    "start_time": "2023-04-22T11:58:27.595Z"
   },
   {
    "duration": 546,
    "start_time": "2023-04-22T11:59:29.550Z"
   },
   {
    "duration": 1053,
    "start_time": "2023-04-22T11:59:45.954Z"
   },
   {
    "duration": 2644,
    "start_time": "2023-04-22T11:59:55.473Z"
   },
   {
    "duration": 43650,
    "start_time": "2023-04-22T12:00:04.865Z"
   },
   {
    "duration": 2233,
    "start_time": "2023-04-22T12:01:46.161Z"
   },
   {
    "duration": 14167,
    "start_time": "2023-04-22T12:01:58.856Z"
   },
   {
    "duration": 13233,
    "start_time": "2023-04-22T12:03:25.446Z"
   },
   {
    "duration": 68724,
    "start_time": "2023-04-22T12:04:15.792Z"
   },
   {
    "duration": 67,
    "start_time": "2023-04-22T12:05:45.762Z"
   },
   {
    "duration": 13364,
    "start_time": "2023-04-22T12:05:49.088Z"
   },
   {
    "duration": 50,
    "start_time": "2023-04-22T12:07:28.844Z"
   },
   {
    "duration": 62,
    "start_time": "2023-04-22T12:07:34.538Z"
   },
   {
    "duration": 21,
    "start_time": "2023-04-22T12:07:37.093Z"
   },
   {
    "duration": 61,
    "start_time": "2023-04-22T12:07:42.633Z"
   },
   {
    "duration": 25,
    "start_time": "2023-04-22T12:07:53.223Z"
   },
   {
    "duration": 13258,
    "start_time": "2023-04-22T12:07:54.363Z"
   },
   {
    "duration": 95,
    "start_time": "2023-04-22T12:09:29.899Z"
   },
   {
    "duration": 12857,
    "start_time": "2023-04-22T12:09:31.573Z"
   },
   {
    "duration": 13953,
    "start_time": "2023-04-22T12:11:51.174Z"
   },
   {
    "duration": 612,
    "start_time": "2023-04-22T12:13:06.687Z"
   },
   {
    "duration": 27,
    "start_time": "2023-04-22T12:13:14.803Z"
   },
   {
    "duration": 166,
    "start_time": "2023-04-22T12:13:15.532Z"
   },
   {
    "duration": 22,
    "start_time": "2023-04-22T12:13:23.347Z"
   },
   {
    "duration": 13491,
    "start_time": "2023-04-22T12:16:08.573Z"
   },
   {
    "duration": 13307,
    "start_time": "2023-04-22T12:17:04.787Z"
   },
   {
    "duration": 58,
    "start_time": "2023-04-22T12:19:20.154Z"
   },
   {
    "duration": 107,
    "start_time": "2023-04-22T12:19:33.339Z"
   },
   {
    "duration": 4,
    "start_time": "2023-04-22T12:19:38.094Z"
   },
   {
    "duration": 6,
    "start_time": "2023-04-22T12:19:44.628Z"
   },
   {
    "duration": 311,
    "start_time": "2023-04-22T12:20:01.385Z"
   },
   {
    "duration": 57,
    "start_time": "2023-04-22T12:20:25.686Z"
   },
   {
    "duration": 1004,
    "start_time": "2023-04-22T12:23:43.337Z"
   },
   {
    "duration": 481,
    "start_time": "2023-04-22T12:24:04.732Z"
   },
   {
    "duration": 472,
    "start_time": "2023-04-22T12:24:36.288Z"
   },
   {
    "duration": 1314,
    "start_time": "2023-04-22T12:25:19.633Z"
   },
   {
    "duration": 14,
    "start_time": "2023-04-22T12:25:20.949Z"
   },
   {
    "duration": 7,
    "start_time": "2023-04-22T12:25:20.964Z"
   },
   {
    "duration": 14,
    "start_time": "2023-04-22T12:25:20.974Z"
   },
   {
    "duration": 13,
    "start_time": "2023-04-22T12:25:20.990Z"
   },
   {
    "duration": 18,
    "start_time": "2023-04-22T12:25:21.005Z"
   },
   {
    "duration": 20,
    "start_time": "2023-04-22T12:25:21.024Z"
   },
   {
    "duration": 10,
    "start_time": "2023-04-22T12:25:21.046Z"
   },
   {
    "duration": 6,
    "start_time": "2023-04-22T12:25:21.058Z"
   },
   {
    "duration": 29,
    "start_time": "2023-04-22T12:25:21.067Z"
   },
   {
    "duration": 37,
    "start_time": "2023-04-22T12:25:21.099Z"
   },
   {
    "duration": 38,
    "start_time": "2023-04-22T12:25:21.137Z"
   },
   {
    "duration": 63,
    "start_time": "2023-04-22T12:25:21.176Z"
   },
   {
    "duration": 124,
    "start_time": "2023-04-22T12:25:21.240Z"
   },
   {
    "duration": 140,
    "start_time": "2023-04-22T12:25:21.366Z"
   },
   {
    "duration": 5,
    "start_time": "2023-04-22T12:25:21.508Z"
   },
   {
    "duration": 293,
    "start_time": "2023-04-22T12:25:21.514Z"
   },
   {
    "duration": 265,
    "start_time": "2023-04-22T12:25:21.808Z"
   },
   {
    "duration": 0,
    "start_time": "2023-04-22T12:25:22.074Z"
   },
   {
    "duration": 0,
    "start_time": "2023-04-22T12:25:22.075Z"
   },
   {
    "duration": 0,
    "start_time": "2023-04-22T12:25:22.076Z"
   },
   {
    "duration": 0,
    "start_time": "2023-04-22T12:25:22.077Z"
   },
   {
    "duration": 0,
    "start_time": "2023-04-22T12:25:22.095Z"
   },
   {
    "duration": 495,
    "start_time": "2023-04-22T12:25:51.315Z"
   },
   {
    "duration": 275,
    "start_time": "2023-04-22T12:26:21.578Z"
   },
   {
    "duration": 1339,
    "start_time": "2023-04-22T12:26:26.383Z"
   },
   {
    "duration": 12,
    "start_time": "2023-04-22T12:26:27.724Z"
   },
   {
    "duration": 3,
    "start_time": "2023-04-22T12:26:27.737Z"
   },
   {
    "duration": 16,
    "start_time": "2023-04-22T12:26:27.741Z"
   },
   {
    "duration": 5,
    "start_time": "2023-04-22T12:26:27.759Z"
   },
   {
    "duration": 11,
    "start_time": "2023-04-22T12:26:27.765Z"
   },
   {
    "duration": 8,
    "start_time": "2023-04-22T12:26:27.777Z"
   },
   {
    "duration": 14,
    "start_time": "2023-04-22T12:26:27.786Z"
   },
   {
    "duration": 7,
    "start_time": "2023-04-22T12:26:27.802Z"
   },
   {
    "duration": 16,
    "start_time": "2023-04-22T12:26:27.810Z"
   },
   {
    "duration": 19,
    "start_time": "2023-04-22T12:26:27.828Z"
   },
   {
    "duration": 37,
    "start_time": "2023-04-22T12:26:27.849Z"
   },
   {
    "duration": 58,
    "start_time": "2023-04-22T12:26:27.887Z"
   },
   {
    "duration": 118,
    "start_time": "2023-04-22T12:26:27.948Z"
   },
   {
    "duration": 113,
    "start_time": "2023-04-22T12:26:28.067Z"
   },
   {
    "duration": 15,
    "start_time": "2023-04-22T12:26:28.182Z"
   },
   {
    "duration": 300,
    "start_time": "2023-04-22T12:26:28.199Z"
   },
   {
    "duration": 459,
    "start_time": "2023-04-22T12:26:28.501Z"
   },
   {
    "duration": 508,
    "start_time": "2023-04-22T12:26:28.963Z"
   },
   {
    "duration": 32,
    "start_time": "2023-04-22T12:26:29.473Z"
   },
   {
    "duration": 13021,
    "start_time": "2023-04-22T12:26:29.507Z"
   },
   {
    "duration": 69,
    "start_time": "2023-04-22T12:26:42.529Z"
   },
   {
    "duration": 13243,
    "start_time": "2023-04-22T12:26:42.599Z"
   },
   {
    "duration": 286,
    "start_time": "2023-04-22T12:26:55.844Z"
   },
   {
    "duration": 463,
    "start_time": "2023-04-22T12:26:57.003Z"
   },
   {
    "duration": 25,
    "start_time": "2023-04-22T12:29:07.670Z"
   },
   {
    "duration": 169,
    "start_time": "2023-04-22T12:29:08.335Z"
   },
   {
    "duration": 430,
    "start_time": "2023-04-22T12:29:09.274Z"
   },
   {
    "duration": 24,
    "start_time": "2023-04-22T12:29:50.745Z"
   },
   {
    "duration": 212,
    "start_time": "2023-04-22T12:29:51.486Z"
   },
   {
    "duration": 445,
    "start_time": "2023-04-22T12:29:52.250Z"
   },
   {
    "duration": 12959,
    "start_time": "2023-04-22T12:33:48.750Z"
   },
   {
    "duration": 94,
    "start_time": "2023-04-22T12:34:01.711Z"
   },
   {
    "duration": 25145,
    "start_time": "2023-04-22T12:35:28.620Z"
   },
   {
    "duration": 48,
    "start_time": "2023-04-22T12:37:07.368Z"
   },
   {
    "duration": 81,
    "start_time": "2023-04-22T12:37:19.014Z"
   },
   {
    "duration": 52,
    "start_time": "2023-04-22T12:38:11.441Z"
   },
   {
    "duration": 45,
    "start_time": "2023-04-22T12:38:21.768Z"
   },
   {
    "duration": 22,
    "start_time": "2023-04-22T12:38:24.794Z"
   },
   {
    "duration": 25,
    "start_time": "2023-04-22T12:39:37.836Z"
   },
   {
    "duration": 5977,
    "start_time": "2023-04-22T12:42:06.834Z"
   },
   {
    "duration": 167,
    "start_time": "2023-04-22T12:43:11.382Z"
   },
   {
    "duration": 9,
    "start_time": "2023-04-22T12:46:06.808Z"
   },
   {
    "duration": 144,
    "start_time": "2023-04-22T12:53:14.178Z"
   },
   {
    "duration": 6,
    "start_time": "2023-04-22T12:53:38.700Z"
   },
   {
    "duration": 33,
    "start_time": "2023-04-22T12:54:22.961Z"
   },
   {
    "duration": 9,
    "start_time": "2023-04-22T12:56:20.098Z"
   },
   {
    "duration": 16,
    "start_time": "2023-04-22T12:56:21.026Z"
   },
   {
    "duration": 38,
    "start_time": "2023-04-22T12:56:53.003Z"
   },
   {
    "duration": 12,
    "start_time": "2023-04-22T12:56:53.402Z"
   },
   {
    "duration": 14,
    "start_time": "2023-04-22T12:56:54.153Z"
   },
   {
    "duration": 9,
    "start_time": "2023-04-22T13:02:40.316Z"
   },
   {
    "duration": 10,
    "start_time": "2023-04-22T13:02:44.746Z"
   },
   {
    "duration": 9,
    "start_time": "2023-04-22T13:08:09.503Z"
   },
   {
    "duration": 14,
    "start_time": "2023-04-22T13:09:46.007Z"
   },
   {
    "duration": 17,
    "start_time": "2023-04-22T13:10:20.953Z"
   },
   {
    "duration": 23,
    "start_time": "2023-04-22T13:10:44.851Z"
   },
   {
    "duration": 44,
    "start_time": "2023-04-22T13:11:41.377Z"
   },
   {
    "duration": 1382,
    "start_time": "2023-04-22T13:11:47.171Z"
   },
   {
    "duration": 13,
    "start_time": "2023-04-22T13:11:48.555Z"
   },
   {
    "duration": 6,
    "start_time": "2023-04-22T13:11:48.570Z"
   },
   {
    "duration": 12,
    "start_time": "2023-04-22T13:11:48.578Z"
   },
   {
    "duration": 6,
    "start_time": "2023-04-22T13:11:48.593Z"
   },
   {
    "duration": 5,
    "start_time": "2023-04-22T13:11:48.600Z"
   },
   {
    "duration": 8,
    "start_time": "2023-04-22T13:11:48.607Z"
   },
   {
    "duration": 27,
    "start_time": "2023-04-22T13:11:48.617Z"
   },
   {
    "duration": 8,
    "start_time": "2023-04-22T13:11:48.646Z"
   },
   {
    "duration": 11,
    "start_time": "2023-04-22T13:11:48.656Z"
   },
   {
    "duration": 2,
    "start_time": "2023-04-22T13:11:48.669Z"
   },
   {
    "duration": 35,
    "start_time": "2023-04-22T13:11:48.673Z"
   },
   {
    "duration": 41,
    "start_time": "2023-04-22T13:11:48.710Z"
   },
   {
    "duration": 64,
    "start_time": "2023-04-22T13:11:48.754Z"
   },
   {
    "duration": 129,
    "start_time": "2023-04-22T13:11:48.820Z"
   },
   {
    "duration": 113,
    "start_time": "2023-04-22T13:11:48.950Z"
   },
   {
    "duration": 120,
    "start_time": "2023-04-22T13:11:49.065Z"
   },
   {
    "duration": 0,
    "start_time": "2023-04-22T13:11:49.187Z"
   },
   {
    "duration": 0,
    "start_time": "2023-04-22T13:11:49.195Z"
   },
   {
    "duration": 0,
    "start_time": "2023-04-22T13:11:49.197Z"
   },
   {
    "duration": 0,
    "start_time": "2023-04-22T13:11:49.199Z"
   },
   {
    "duration": 0,
    "start_time": "2023-04-22T13:11:49.200Z"
   },
   {
    "duration": 0,
    "start_time": "2023-04-22T13:11:49.202Z"
   },
   {
    "duration": 0,
    "start_time": "2023-04-22T13:11:49.203Z"
   },
   {
    "duration": 0,
    "start_time": "2023-04-22T13:11:49.205Z"
   },
   {
    "duration": 0,
    "start_time": "2023-04-22T13:11:49.207Z"
   },
   {
    "duration": 0,
    "start_time": "2023-04-22T13:11:49.208Z"
   },
   {
    "duration": 9,
    "start_time": "2023-04-22T13:12:27.881Z"
   },
   {
    "duration": 4,
    "start_time": "2023-04-22T13:12:38.728Z"
   },
   {
    "duration": 6,
    "start_time": "2023-04-22T13:12:46.106Z"
   },
   {
    "duration": 276,
    "start_time": "2023-04-22T13:13:11.633Z"
   },
   {
    "duration": 220,
    "start_time": "2023-04-22T13:14:19.922Z"
   },
   {
    "duration": 11255,
    "start_time": "2023-04-22T13:15:45.119Z"
   },
   {
    "duration": 26,
    "start_time": "2023-04-22T13:16:29.348Z"
   },
   {
    "duration": 21,
    "start_time": "2023-04-22T13:16:35.815Z"
   },
   {
    "duration": 287,
    "start_time": "2023-04-22T13:19:14.572Z"
   },
   {
    "duration": 215,
    "start_time": "2023-04-22T13:19:41.651Z"
   },
   {
    "duration": 221,
    "start_time": "2023-04-22T13:19:45.334Z"
   },
   {
    "duration": 195,
    "start_time": "2023-04-22T13:19:46.504Z"
   },
   {
    "duration": 112,
    "start_time": "2023-04-22T13:20:14.245Z"
   },
   {
    "duration": 11096,
    "start_time": "2023-04-22T13:20:15.425Z"
   },
   {
    "duration": 120,
    "start_time": "2023-04-22T13:20:28.532Z"
   },
   {
    "duration": 22,
    "start_time": "2023-04-22T13:20:31.722Z"
   },
   {
    "duration": 264,
    "start_time": "2023-04-22T13:20:33.004Z"
   },
   {
    "duration": 250,
    "start_time": "2023-04-22T13:25:20.225Z"
   },
   {
    "duration": 120,
    "start_time": "2023-04-22T13:25:22.416Z"
   },
   {
    "duration": 433,
    "start_time": "2023-04-22T13:25:34.489Z"
   },
   {
    "duration": 420,
    "start_time": "2023-04-22T13:25:43.494Z"
   },
   {
    "duration": 122,
    "start_time": "2023-04-22T13:25:45.469Z"
   },
   {
    "duration": 417,
    "start_time": "2023-04-22T13:25:54.067Z"
   },
   {
    "duration": 127,
    "start_time": "2023-04-22T13:25:55.294Z"
   },
   {
    "duration": 515,
    "start_time": "2023-04-22T13:26:16.907Z"
   },
   {
    "duration": 562,
    "start_time": "2023-04-22T13:26:33.737Z"
   },
   {
    "duration": 460,
    "start_time": "2023-04-22T13:26:38.184Z"
   },
   {
    "duration": 209,
    "start_time": "2023-04-22T13:27:00.215Z"
   },
   {
    "duration": 10825,
    "start_time": "2023-04-22T13:27:30.185Z"
   },
   {
    "duration": 20709,
    "start_time": "2023-04-22T13:27:41.012Z"
   },
   {
    "duration": 5862,
    "start_time": "2023-04-22T13:28:01.722Z"
   },
   {
    "duration": 341,
    "start_time": "2023-04-22T13:28:07.595Z"
   },
   {
    "duration": 355,
    "start_time": "2023-04-22T13:28:37.859Z"
   },
   {
    "duration": 433,
    "start_time": "2023-04-22T13:28:39.267Z"
   },
   {
    "duration": 354,
    "start_time": "2023-04-22T13:28:55.345Z"
   },
   {
    "duration": 10776,
    "start_time": "2023-04-22T13:38:34.649Z"
   },
   {
    "duration": 12839,
    "start_time": "2023-04-22T13:39:42.579Z"
   },
   {
    "duration": 11255,
    "start_time": "2023-04-22T13:40:24.595Z"
   },
   {
    "duration": 1220,
    "start_time": "2023-04-22T13:49:41.648Z"
   },
   {
    "duration": 11,
    "start_time": "2023-04-22T13:49:42.869Z"
   },
   {
    "duration": 4,
    "start_time": "2023-04-22T13:49:42.882Z"
   },
   {
    "duration": 11,
    "start_time": "2023-04-22T13:49:42.888Z"
   },
   {
    "duration": 6,
    "start_time": "2023-04-22T13:49:42.900Z"
   },
   {
    "duration": 6,
    "start_time": "2023-04-22T13:49:42.907Z"
   },
   {
    "duration": 4,
    "start_time": "2023-04-22T13:49:42.915Z"
   },
   {
    "duration": 6,
    "start_time": "2023-04-22T13:49:42.920Z"
   },
   {
    "duration": 5,
    "start_time": "2023-04-22T13:49:42.928Z"
   },
   {
    "duration": 9,
    "start_time": "2023-04-22T13:49:42.936Z"
   },
   {
    "duration": 3,
    "start_time": "2023-04-22T13:49:42.946Z"
   },
   {
    "duration": 58,
    "start_time": "2023-04-22T13:49:42.950Z"
   },
   {
    "duration": 37,
    "start_time": "2023-04-22T13:49:43.009Z"
   },
   {
    "duration": 235,
    "start_time": "2023-04-22T13:49:43.048Z"
   },
   {
    "duration": 115,
    "start_time": "2023-04-22T13:49:43.284Z"
   },
   {
    "duration": 11603,
    "start_time": "2023-04-22T13:49:43.400Z"
   },
   {
    "duration": 133,
    "start_time": "2023-04-22T13:49:55.005Z"
   },
   {
    "duration": 56,
    "start_time": "2023-04-22T13:49:55.140Z"
   },
   {
    "duration": 300,
    "start_time": "2023-04-22T13:49:55.197Z"
   },
   {
    "duration": 118,
    "start_time": "2023-04-22T13:49:55.498Z"
   },
   {
    "duration": 242,
    "start_time": "2023-04-22T13:49:55.617Z"
   },
   {
    "duration": 406,
    "start_time": "2023-04-22T13:49:55.860Z"
   },
   {
    "duration": 475,
    "start_time": "2023-04-22T13:49:56.267Z"
   },
   {
    "duration": 214,
    "start_time": "2023-04-22T13:49:56.744Z"
   },
   {
    "duration": 11066,
    "start_time": "2023-04-22T13:49:56.959Z"
   },
   {
    "duration": 20179,
    "start_time": "2023-04-22T13:50:08.027Z"
   },
   {
    "duration": 5486,
    "start_time": "2023-04-22T13:50:28.208Z"
   },
   {
    "duration": 421,
    "start_time": "2023-04-22T13:50:33.697Z"
   },
   {
    "duration": 374,
    "start_time": "2023-04-22T13:50:34.120Z"
   },
   {
    "duration": 273,
    "start_time": "2023-04-22T13:50:34.495Z"
   },
   {
    "duration": 11268,
    "start_time": "2023-04-22T13:50:34.770Z"
   },
   {
    "duration": 99,
    "start_time": "2023-04-22T13:50:59.608Z"
   },
   {
    "duration": 119,
    "start_time": "2023-04-22T13:51:03.179Z"
   },
   {
    "duration": 423,
    "start_time": "2023-04-22T13:51:27.928Z"
   },
   {
    "duration": 101,
    "start_time": "2023-04-22T13:51:32.416Z"
   },
   {
    "duration": 50,
    "start_time": "2023-04-23T12:05:10.252Z"
   },
   {
    "duration": 44,
    "start_time": "2023-04-23T12:09:12.601Z"
   },
   {
    "duration": 1897,
    "start_time": "2023-04-23T12:15:01.821Z"
   },
   {
    "duration": 15,
    "start_time": "2023-04-23T12:15:03.720Z"
   },
   {
    "duration": 4,
    "start_time": "2023-04-23T12:15:03.736Z"
   },
   {
    "duration": 13,
    "start_time": "2023-04-23T12:15:03.741Z"
   },
   {
    "duration": 6,
    "start_time": "2023-04-23T12:15:03.756Z"
   },
   {
    "duration": 9,
    "start_time": "2023-04-23T12:15:03.764Z"
   },
   {
    "duration": 10,
    "start_time": "2023-04-23T12:15:03.775Z"
   },
   {
    "duration": 13,
    "start_time": "2023-04-23T12:15:03.787Z"
   },
   {
    "duration": 6,
    "start_time": "2023-04-23T12:15:03.802Z"
   },
   {
    "duration": 11,
    "start_time": "2023-04-23T12:15:03.810Z"
   },
   {
    "duration": 3,
    "start_time": "2023-04-23T12:15:03.822Z"
   },
   {
    "duration": 26,
    "start_time": "2023-04-23T12:15:03.827Z"
   },
   {
    "duration": 67,
    "start_time": "2023-04-23T12:15:03.854Z"
   },
   {
    "duration": 310,
    "start_time": "2023-04-23T12:15:03.924Z"
   },
   {
    "duration": 155,
    "start_time": "2023-04-23T12:15:04.235Z"
   },
   {
    "duration": 12585,
    "start_time": "2023-04-23T12:15:04.394Z"
   },
   {
    "duration": 147,
    "start_time": "2023-04-23T12:15:16.986Z"
   },
   {
    "duration": 62,
    "start_time": "2023-04-23T12:15:17.135Z"
   },
   {
    "duration": 300,
    "start_time": "2023-04-23T12:15:17.285Z"
   },
   {
    "duration": 115,
    "start_time": "2023-04-23T12:15:17.587Z"
   },
   {
    "duration": 266,
    "start_time": "2023-04-23T12:15:17.704Z"
   },
   {
    "duration": 448,
    "start_time": "2023-04-23T12:15:17.972Z"
   },
   {
    "duration": 548,
    "start_time": "2023-04-23T12:15:18.422Z"
   },
   {
    "duration": 14,
    "start_time": "2023-04-23T12:15:18.972Z"
   },
   {
    "duration": 254,
    "start_time": "2023-04-23T12:15:18.988Z"
   },
   {
    "duration": 12972,
    "start_time": "2023-04-23T12:15:19.243Z"
   },
   {
    "duration": 24284,
    "start_time": "2023-04-23T12:15:32.217Z"
   },
   {
    "duration": 6462,
    "start_time": "2023-04-23T12:15:56.503Z"
   },
   {
    "duration": 429,
    "start_time": "2023-04-23T12:16:02.967Z"
   },
   {
    "duration": 344,
    "start_time": "2023-04-23T12:16:03.398Z"
   },
   {
    "duration": 377,
    "start_time": "2023-04-23T12:16:03.744Z"
   },
   {
    "duration": 13444,
    "start_time": "2023-04-23T12:16:04.122Z"
   },
   {
    "duration": 266,
    "start_time": "2023-04-24T16:55:20.929Z"
   },
   {
    "duration": 119,
    "start_time": "2023-04-24T16:55:21.899Z"
   },
   {
    "duration": 1557,
    "start_time": "2023-04-24T17:41:30.268Z"
   },
   {
    "duration": 15,
    "start_time": "2023-04-24T17:41:31.827Z"
   },
   {
    "duration": 4,
    "start_time": "2023-04-24T17:41:31.844Z"
   },
   {
    "duration": 30,
    "start_time": "2023-04-24T17:41:31.851Z"
   },
   {
    "duration": 14,
    "start_time": "2023-04-24T17:41:31.882Z"
   },
   {
    "duration": 11,
    "start_time": "2023-04-24T17:41:31.897Z"
   },
   {
    "duration": 10,
    "start_time": "2023-04-24T17:41:31.909Z"
   },
   {
    "duration": 20,
    "start_time": "2023-04-24T17:41:31.920Z"
   },
   {
    "duration": 15,
    "start_time": "2023-04-24T17:41:31.942Z"
   },
   {
    "duration": 18,
    "start_time": "2023-04-24T17:41:31.960Z"
   },
   {
    "duration": 3,
    "start_time": "2023-04-24T17:41:31.980Z"
   },
   {
    "duration": 24,
    "start_time": "2023-04-24T17:41:31.984Z"
   },
   {
    "duration": 39,
    "start_time": "2023-04-24T17:41:32.009Z"
   },
   {
    "duration": 255,
    "start_time": "2023-04-24T17:41:32.050Z"
   },
   {
    "duration": 125,
    "start_time": "2023-04-24T17:41:32.306Z"
   },
   {
    "duration": 11962,
    "start_time": "2023-04-24T17:41:32.432Z"
   },
   {
    "duration": 142,
    "start_time": "2023-04-24T17:41:44.395Z"
   },
   {
    "duration": 53,
    "start_time": "2023-04-24T17:41:44.538Z"
   },
   {
    "duration": 307,
    "start_time": "2023-04-24T17:41:44.684Z"
   },
   {
    "duration": 125,
    "start_time": "2023-04-24T17:41:44.992Z"
   },
   {
    "duration": 295,
    "start_time": "2023-04-24T17:41:45.119Z"
   },
   {
    "duration": 269,
    "start_time": "2023-04-24T17:41:45.416Z"
   },
   {
    "duration": 193,
    "start_time": "2023-04-24T17:41:45.687Z"
   },
   {
    "duration": 4,
    "start_time": "2023-04-24T17:41:45.885Z"
   },
   {
    "duration": 18,
    "start_time": "2023-04-24T17:41:45.890Z"
   },
   {
    "duration": 6,
    "start_time": "2023-04-24T17:41:45.909Z"
   },
   {
    "duration": 435,
    "start_time": "2023-04-24T17:41:45.916Z"
   },
   {
    "duration": 132,
    "start_time": "2023-04-24T17:41:46.354Z"
   },
   {
    "duration": 5,
    "start_time": "2023-04-24T17:41:46.487Z"
   },
   {
    "duration": 12,
    "start_time": "2023-04-24T17:41:46.494Z"
   },
   {
    "duration": 5,
    "start_time": "2023-04-24T17:41:46.507Z"
   },
   {
    "duration": 124,
    "start_time": "2023-04-24T17:41:46.513Z"
   },
   {
    "duration": 130,
    "start_time": "2023-04-24T17:41:46.639Z"
   },
   {
    "duration": 12494,
    "start_time": "2023-04-24T17:41:46.771Z"
   },
   {
    "duration": 126,
    "start_time": "2023-04-24T17:41:59.267Z"
   },
   {
    "duration": 13,
    "start_time": "2023-04-24T17:41:59.394Z"
   },
   {
    "duration": 5,
    "start_time": "2023-04-24T17:41:59.408Z"
   },
   {
    "duration": 22471,
    "start_time": "2023-04-24T17:41:59.415Z"
   },
   {
    "duration": 122,
    "start_time": "2023-04-24T17:42:21.888Z"
   },
   {
    "duration": 10,
    "start_time": "2023-04-24T17:42:22.012Z"
   },
   {
    "duration": 15,
    "start_time": "2023-04-24T17:42:22.023Z"
   },
   {
    "duration": 5725,
    "start_time": "2023-04-24T17:42:22.039Z"
   },
   {
    "duration": 120,
    "start_time": "2023-04-24T17:42:27.766Z"
   },
   {
    "duration": 415,
    "start_time": "2023-04-24T17:42:27.888Z"
   },
   {
    "duration": 12,
    "start_time": "2023-04-24T17:42:28.305Z"
   },
   {
    "duration": 5,
    "start_time": "2023-04-24T17:42:28.319Z"
   },
   {
    "duration": 160,
    "start_time": "2023-04-24T17:42:28.325Z"
   },
   {
    "duration": 210,
    "start_time": "2023-04-24T17:42:28.488Z"
   },
   {
    "duration": 8,
    "start_time": "2023-04-24T17:42:28.700Z"
   },
   {
    "duration": 16,
    "start_time": "2023-04-24T17:42:28.710Z"
   },
   {
    "duration": 67,
    "start_time": "2023-04-24T17:42:28.727Z"
   },
   {
    "duration": 298,
    "start_time": "2023-04-24T17:42:28.796Z"
   },
   {
    "duration": 507,
    "start_time": "2023-04-24T17:42:29.096Z"
   },
   {
    "duration": 1452,
    "start_time": "2023-04-24T17:47:34.312Z"
   },
   {
    "duration": 13,
    "start_time": "2023-04-24T17:47:35.765Z"
   },
   {
    "duration": 4,
    "start_time": "2023-04-24T17:47:35.780Z"
   },
   {
    "duration": 16,
    "start_time": "2023-04-24T17:47:35.786Z"
   },
   {
    "duration": 6,
    "start_time": "2023-04-24T17:47:35.803Z"
   },
   {
    "duration": 4,
    "start_time": "2023-04-24T17:47:35.811Z"
   },
   {
    "duration": 8,
    "start_time": "2023-04-24T17:47:35.816Z"
   },
   {
    "duration": 9,
    "start_time": "2023-04-24T17:47:35.826Z"
   },
   {
    "duration": 10,
    "start_time": "2023-04-24T17:47:35.837Z"
   },
   {
    "duration": 13,
    "start_time": "2023-04-24T17:47:35.850Z"
   },
   {
    "duration": 3,
    "start_time": "2023-04-24T17:47:35.864Z"
   },
   {
    "duration": 24,
    "start_time": "2023-04-24T17:47:35.884Z"
   },
   {
    "duration": 39,
    "start_time": "2023-04-24T17:47:35.910Z"
   },
   {
    "duration": 269,
    "start_time": "2023-04-24T17:47:35.950Z"
   },
   {
    "duration": 132,
    "start_time": "2023-04-24T17:47:36.221Z"
   },
   {
    "duration": 13302,
    "start_time": "2023-04-24T17:47:36.355Z"
   },
   {
    "duration": 148,
    "start_time": "2023-04-24T17:47:49.659Z"
   },
   {
    "duration": 21,
    "start_time": "2023-04-24T17:47:49.808Z"
   },
   {
    "duration": 398,
    "start_time": "2023-04-24T17:47:49.887Z"
   },
   {
    "duration": 124,
    "start_time": "2023-04-24T17:47:50.287Z"
   },
   {
    "duration": 249,
    "start_time": "2023-04-24T17:47:50.413Z"
   },
   {
    "duration": 279,
    "start_time": "2023-04-24T17:47:50.664Z"
   },
   {
    "duration": 199,
    "start_time": "2023-04-24T17:47:50.945Z"
   },
   {
    "duration": 4,
    "start_time": "2023-04-24T17:47:51.146Z"
   },
   {
    "duration": 16,
    "start_time": "2023-04-24T17:47:51.151Z"
   },
   {
    "duration": 5,
    "start_time": "2023-04-24T17:47:51.169Z"
   },
   {
    "duration": 415,
    "start_time": "2023-04-24T17:47:51.185Z"
   },
   {
    "duration": 125,
    "start_time": "2023-04-24T17:47:51.604Z"
   },
   {
    "duration": 4,
    "start_time": "2023-04-24T17:47:51.731Z"
   },
   {
    "duration": 10,
    "start_time": "2023-04-24T17:47:51.736Z"
   },
   {
    "duration": 4,
    "start_time": "2023-04-24T17:47:51.748Z"
   },
   {
    "duration": 126,
    "start_time": "2023-04-24T17:47:51.753Z"
   },
   {
    "duration": 130,
    "start_time": "2023-04-24T17:47:51.881Z"
   },
   {
    "duration": 11898,
    "start_time": "2023-04-24T17:47:52.013Z"
   },
   {
    "duration": 155,
    "start_time": "2023-04-24T17:48:03.913Z"
   },
   {
    "duration": 26,
    "start_time": "2023-04-24T17:48:04.070Z"
   },
   {
    "duration": 6,
    "start_time": "2023-04-24T17:48:04.098Z"
   },
   {
    "duration": 22237,
    "start_time": "2023-04-24T17:48:04.106Z"
   },
   {
    "duration": 117,
    "start_time": "2023-04-24T17:48:26.344Z"
   },
   {
    "duration": 9,
    "start_time": "2023-04-24T17:48:26.463Z"
   },
   {
    "duration": 4,
    "start_time": "2023-04-24T17:48:26.485Z"
   },
   {
    "duration": 5754,
    "start_time": "2023-04-24T17:48:26.491Z"
   },
   {
    "duration": 122,
    "start_time": "2023-04-24T17:48:32.247Z"
   },
   {
    "duration": 333,
    "start_time": "2023-04-24T17:48:32.370Z"
   },
   {
    "duration": 12,
    "start_time": "2023-04-24T17:48:32.705Z"
   },
   {
    "duration": 5,
    "start_time": "2023-04-24T17:48:32.719Z"
   },
   {
    "duration": 74,
    "start_time": "2023-04-24T17:48:32.726Z"
   },
   {
    "duration": 218,
    "start_time": "2023-04-24T17:48:32.886Z"
   },
   {
    "duration": 10,
    "start_time": "2023-04-24T17:48:33.106Z"
   },
   {
    "duration": 5,
    "start_time": "2023-04-24T17:48:33.118Z"
   },
   {
    "duration": 66,
    "start_time": "2023-04-24T17:48:33.125Z"
   },
   {
    "duration": 308,
    "start_time": "2023-04-24T17:48:33.195Z"
   },
   {
    "duration": 583,
    "start_time": "2023-04-24T17:48:33.504Z"
   },
   {
    "duration": 261,
    "start_time": "2023-04-24T17:49:16.169Z"
   },
   {
    "duration": 113,
    "start_time": "2023-04-24T17:49:17.474Z"
   },
   {
    "duration": 5,
    "start_time": "2023-04-24T17:50:22.137Z"
   },
   {
    "duration": 6,
    "start_time": "2023-04-24T17:50:36.938Z"
   },
   {
    "duration": 6,
    "start_time": "2023-04-24T17:51:12.310Z"
   },
   {
    "duration": 6,
    "start_time": "2023-04-24T17:52:36.947Z"
   },
   {
    "duration": 7,
    "start_time": "2023-04-24T17:53:19.538Z"
   },
   {
    "duration": 7,
    "start_time": "2023-04-24T17:53:36.671Z"
   },
   {
    "duration": 32,
    "start_time": "2023-04-24T17:54:15.293Z"
   },
   {
    "duration": 33,
    "start_time": "2023-04-24T17:54:33.024Z"
   },
   {
    "duration": 1453,
    "start_time": "2023-04-24T17:55:47.358Z"
   },
   {
    "duration": 12,
    "start_time": "2023-04-24T17:55:48.813Z"
   },
   {
    "duration": 3,
    "start_time": "2023-04-24T17:55:48.827Z"
   },
   {
    "duration": 18,
    "start_time": "2023-04-24T17:55:48.832Z"
   },
   {
    "duration": 6,
    "start_time": "2023-04-24T17:55:48.851Z"
   },
   {
    "duration": 14,
    "start_time": "2023-04-24T17:55:48.859Z"
   },
   {
    "duration": 11,
    "start_time": "2023-04-24T17:55:48.874Z"
   },
   {
    "duration": 6,
    "start_time": "2023-04-24T17:55:48.886Z"
   },
   {
    "duration": 9,
    "start_time": "2023-04-24T17:55:48.893Z"
   },
   {
    "duration": 13,
    "start_time": "2023-04-24T17:55:48.904Z"
   },
   {
    "duration": 3,
    "start_time": "2023-04-24T17:55:48.919Z"
   },
   {
    "duration": 25,
    "start_time": "2023-04-24T17:55:48.924Z"
   },
   {
    "duration": 70,
    "start_time": "2023-04-24T17:55:48.951Z"
   },
   {
    "duration": 272,
    "start_time": "2023-04-24T17:55:49.023Z"
   },
   {
    "duration": 143,
    "start_time": "2023-04-24T17:55:49.298Z"
   },
   {
    "duration": 12329,
    "start_time": "2023-04-24T17:55:49.443Z"
   },
   {
    "duration": 146,
    "start_time": "2023-04-24T17:56:01.773Z"
   },
   {
    "duration": 69,
    "start_time": "2023-04-24T17:56:01.921Z"
   },
   {
    "duration": 397,
    "start_time": "2023-04-24T17:56:01.993Z"
   },
   {
    "duration": 130,
    "start_time": "2023-04-24T17:56:02.391Z"
   },
   {
    "duration": 240,
    "start_time": "2023-04-24T17:56:02.523Z"
   },
   {
    "duration": 274,
    "start_time": "2023-04-24T17:56:02.764Z"
   },
   {
    "duration": 192,
    "start_time": "2023-04-24T17:56:03.040Z"
   },
   {
    "duration": 4,
    "start_time": "2023-04-24T17:56:03.234Z"
   },
   {
    "duration": 17,
    "start_time": "2023-04-24T17:56:03.239Z"
   },
   {
    "duration": 5,
    "start_time": "2023-04-24T17:56:03.257Z"
   },
   {
    "duration": 423,
    "start_time": "2023-04-24T17:56:03.263Z"
   },
   {
    "duration": 116,
    "start_time": "2023-04-24T17:56:03.689Z"
   },
   {
    "duration": 4,
    "start_time": "2023-04-24T17:56:03.807Z"
   },
   {
    "duration": 11,
    "start_time": "2023-04-24T17:56:03.812Z"
   },
   {
    "duration": 5,
    "start_time": "2023-04-24T17:56:03.824Z"
   },
   {
    "duration": 131,
    "start_time": "2023-04-24T17:56:03.830Z"
   },
   {
    "duration": 167,
    "start_time": "2023-04-24T17:56:03.963Z"
   },
   {
    "duration": 12291,
    "start_time": "2023-04-24T17:56:04.132Z"
   },
   {
    "duration": 133,
    "start_time": "2023-04-24T17:56:16.424Z"
   },
   {
    "duration": 13,
    "start_time": "2023-04-24T17:56:16.559Z"
   },
   {
    "duration": 16,
    "start_time": "2023-04-24T17:56:16.574Z"
   },
   {
    "duration": 22610,
    "start_time": "2023-04-24T17:56:16.592Z"
   },
   {
    "duration": 144,
    "start_time": "2023-04-24T17:56:39.204Z"
   },
   {
    "duration": 10,
    "start_time": "2023-04-24T17:56:39.349Z"
   },
   {
    "duration": 24,
    "start_time": "2023-04-24T17:56:39.361Z"
   },
   {
    "duration": 5982,
    "start_time": "2023-04-24T17:56:39.387Z"
   },
   {
    "duration": 129,
    "start_time": "2023-04-24T17:56:45.370Z"
   },
   {
    "duration": 357,
    "start_time": "2023-04-24T17:56:45.501Z"
   },
   {
    "duration": 11,
    "start_time": "2023-04-24T17:56:45.860Z"
   },
   {
    "duration": 15,
    "start_time": "2023-04-24T17:56:45.873Z"
   },
   {
    "duration": 100,
    "start_time": "2023-04-24T17:56:45.890Z"
   },
   {
    "duration": 308,
    "start_time": "2023-04-24T17:56:45.992Z"
   },
   {
    "duration": 9,
    "start_time": "2023-04-24T17:56:46.302Z"
   },
   {
    "duration": 4,
    "start_time": "2023-04-24T17:56:46.313Z"
   },
   {
    "duration": 71,
    "start_time": "2023-04-24T17:56:46.319Z"
   },
   {
    "duration": 305,
    "start_time": "2023-04-24T17:56:46.392Z"
   },
   {
    "duration": 542,
    "start_time": "2023-04-24T17:56:46.698Z"
   },
   {
    "duration": 10,
    "start_time": "2023-04-24T18:02:03.338Z"
   },
   {
    "duration": 6,
    "start_time": "2023-04-24T18:02:03.968Z"
   },
   {
    "duration": 13,
    "start_time": "2023-04-24T18:02:11.249Z"
   },
   {
    "duration": 6,
    "start_time": "2023-04-24T18:02:11.874Z"
   },
   {
    "duration": 12,
    "start_time": "2023-04-24T18:02:16.373Z"
   },
   {
    "duration": 6,
    "start_time": "2023-04-24T18:02:16.732Z"
   },
   {
    "duration": 390,
    "start_time": "2023-04-24T18:02:18.510Z"
   },
   {
    "duration": 10,
    "start_time": "2023-04-24T18:02:26.248Z"
   },
   {
    "duration": 5,
    "start_time": "2023-04-24T18:02:26.825Z"
   },
   {
    "duration": 348,
    "start_time": "2023-04-24T18:02:27.582Z"
   },
   {
    "duration": 9,
    "start_time": "2023-04-24T18:02:39.696Z"
   },
   {
    "duration": 6,
    "start_time": "2023-04-24T18:02:40.461Z"
   },
   {
    "duration": 293,
    "start_time": "2023-04-24T18:02:41.052Z"
   },
   {
    "duration": 10,
    "start_time": "2023-04-24T18:02:50.139Z"
   },
   {
    "duration": 6,
    "start_time": "2023-04-24T18:02:50.665Z"
   },
   {
    "duration": 316,
    "start_time": "2023-04-24T18:02:51.172Z"
   },
   {
    "duration": 9,
    "start_time": "2023-04-24T18:02:58.572Z"
   },
   {
    "duration": 5,
    "start_time": "2023-04-24T18:02:59.023Z"
   },
   {
    "duration": 256,
    "start_time": "2023-04-24T18:03:00.187Z"
   },
   {
    "duration": 10,
    "start_time": "2023-04-24T18:03:05.399Z"
   },
   {
    "duration": 6,
    "start_time": "2023-04-24T18:03:06.042Z"
   },
   {
    "duration": 328,
    "start_time": "2023-04-24T18:03:06.550Z"
   },
   {
    "duration": 11,
    "start_time": "2023-04-24T18:03:11.979Z"
   },
   {
    "duration": 6,
    "start_time": "2023-04-24T18:03:12.453Z"
   },
   {
    "duration": 344,
    "start_time": "2023-04-24T18:03:12.911Z"
   },
   {
    "duration": 12,
    "start_time": "2023-04-24T18:03:18.292Z"
   },
   {
    "duration": 5,
    "start_time": "2023-04-24T18:03:18.786Z"
   },
   {
    "duration": 270,
    "start_time": "2023-04-24T18:03:19.599Z"
   },
   {
    "duration": 10,
    "start_time": "2023-04-24T18:04:07.320Z"
   },
   {
    "duration": 7,
    "start_time": "2023-04-24T18:04:08.124Z"
   },
   {
    "duration": 104,
    "start_time": "2023-04-24T18:04:13.827Z"
   },
   {
    "duration": 9,
    "start_time": "2023-04-24T18:04:20.777Z"
   },
   {
    "duration": 7,
    "start_time": "2023-04-24T18:04:21.449Z"
   },
   {
    "duration": 178,
    "start_time": "2023-04-24T18:04:22.400Z"
   },
   {
    "duration": 11,
    "start_time": "2023-04-24T18:04:29.793Z"
   },
   {
    "duration": 7,
    "start_time": "2023-04-24T18:04:30.409Z"
   },
   {
    "duration": 206,
    "start_time": "2023-04-24T18:04:31.238Z"
   },
   {
    "duration": 10,
    "start_time": "2023-04-24T18:04:38.573Z"
   },
   {
    "duration": 6,
    "start_time": "2023-04-24T18:04:39.229Z"
   },
   {
    "duration": 237,
    "start_time": "2023-04-24T18:04:39.913Z"
   },
   {
    "duration": 10,
    "start_time": "2023-04-24T18:04:46.571Z"
   },
   {
    "duration": 6,
    "start_time": "2023-04-24T18:04:47.185Z"
   },
   {
    "duration": 143,
    "start_time": "2023-04-24T18:04:47.700Z"
   },
   {
    "duration": 10,
    "start_time": "2023-04-24T18:04:54.541Z"
   },
   {
    "duration": 6,
    "start_time": "2023-04-24T18:04:55.134Z"
   },
   {
    "duration": 154,
    "start_time": "2023-04-24T18:04:55.642Z"
   },
   {
    "duration": 10,
    "start_time": "2023-04-24T18:05:01.244Z"
   },
   {
    "duration": 6,
    "start_time": "2023-04-24T18:05:01.779Z"
   },
   {
    "duration": 127,
    "start_time": "2023-04-24T18:05:02.323Z"
   },
   {
    "duration": 10,
    "start_time": "2023-04-24T18:05:08.430Z"
   },
   {
    "duration": 6,
    "start_time": "2023-04-24T18:05:08.952Z"
   },
   {
    "duration": 134,
    "start_time": "2023-04-24T18:05:09.524Z"
   },
   {
    "duration": 9,
    "start_time": "2023-04-24T18:05:36.299Z"
   },
   {
    "duration": 6,
    "start_time": "2023-04-24T18:05:36.757Z"
   },
   {
    "duration": 15879,
    "start_time": "2023-04-24T18:05:54.113Z"
   },
   {
    "duration": 13,
    "start_time": "2023-04-24T18:06:17.994Z"
   },
   {
    "duration": 6,
    "start_time": "2023-04-24T18:06:19.001Z"
   },
   {
    "duration": 23830,
    "start_time": "2023-04-24T18:06:19.763Z"
   },
   {
    "duration": 12,
    "start_time": "2023-04-24T18:07:04.340Z"
   },
   {
    "duration": 7,
    "start_time": "2023-04-24T18:07:05.181Z"
   },
   {
    "duration": 18437,
    "start_time": "2023-04-24T18:07:06.105Z"
   },
   {
    "duration": 10,
    "start_time": "2023-04-24T18:18:37.959Z"
   },
   {
    "duration": 6,
    "start_time": "2023-04-24T18:18:38.488Z"
   },
   {
    "duration": 15611,
    "start_time": "2023-04-24T18:18:39.158Z"
   },
   {
    "duration": 9,
    "start_time": "2023-04-24T18:19:02.138Z"
   },
   {
    "duration": 11,
    "start_time": "2023-04-24T18:19:07.174Z"
   },
   {
    "duration": 6,
    "start_time": "2023-04-24T18:19:07.533Z"
   },
   {
    "duration": 14204,
    "start_time": "2023-04-24T18:19:07.893Z"
   },
   {
    "duration": 12,
    "start_time": "2023-04-24T18:20:30.179Z"
   },
   {
    "duration": 8,
    "start_time": "2023-04-24T18:20:30.792Z"
   },
   {
    "duration": 7676,
    "start_time": "2023-04-24T18:20:31.936Z"
   },
   {
    "duration": 7,
    "start_time": "2023-04-24T18:20:39.848Z"
   },
   {
    "duration": 7728,
    "start_time": "2023-04-24T18:20:44.776Z"
   },
   {
    "duration": 10,
    "start_time": "2023-04-24T18:21:01.418Z"
   },
   {
    "duration": 6,
    "start_time": "2023-04-24T18:21:01.834Z"
   },
   {
    "duration": 37,
    "start_time": "2023-04-24T18:21:02.856Z"
   },
   {
    "duration": 11,
    "start_time": "2023-04-24T18:21:10.008Z"
   },
   {
    "duration": 7,
    "start_time": "2023-04-24T18:21:10.467Z"
   },
   {
    "duration": 37,
    "start_time": "2023-04-24T18:21:10.953Z"
   },
   {
    "duration": 9,
    "start_time": "2023-04-24T18:21:15.188Z"
   },
   {
    "duration": 6,
    "start_time": "2023-04-24T18:21:15.566Z"
   },
   {
    "duration": 66,
    "start_time": "2023-04-24T18:21:16.020Z"
   },
   {
    "duration": 12,
    "start_time": "2023-04-24T18:21:21.286Z"
   },
   {
    "duration": 6,
    "start_time": "2023-04-24T18:21:21.689Z"
   },
   {
    "duration": 113,
    "start_time": "2023-04-24T18:21:22.176Z"
   },
   {
    "duration": 15,
    "start_time": "2023-04-24T18:21:28.171Z"
   },
   {
    "duration": 7,
    "start_time": "2023-04-24T18:21:28.544Z"
   },
   {
    "duration": 43,
    "start_time": "2023-04-24T18:21:29.053Z"
   },
   {
    "duration": 9,
    "start_time": "2023-04-24T18:21:33.928Z"
   },
   {
    "duration": 6,
    "start_time": "2023-04-24T18:21:34.259Z"
   },
   {
    "duration": 56,
    "start_time": "2023-04-24T18:21:34.738Z"
   },
   {
    "duration": 10,
    "start_time": "2023-04-24T18:21:40.120Z"
   },
   {
    "duration": 7,
    "start_time": "2023-04-24T18:21:40.486Z"
   },
   {
    "duration": 41,
    "start_time": "2023-04-24T18:21:40.945Z"
   },
   {
    "duration": 10,
    "start_time": "2023-04-24T18:21:45.890Z"
   },
   {
    "duration": 7,
    "start_time": "2023-04-24T18:21:46.228Z"
   },
   {
    "duration": 64,
    "start_time": "2023-04-24T18:21:46.625Z"
   },
   {
    "duration": 12,
    "start_time": "2023-04-24T18:21:50.687Z"
   },
   {
    "duration": 7,
    "start_time": "2023-04-24T18:21:51.075Z"
   },
   {
    "duration": 39,
    "start_time": "2023-04-24T18:21:51.562Z"
   },
   {
    "duration": 15,
    "start_time": "2023-04-24T18:21:57.276Z"
   },
   {
    "duration": 6,
    "start_time": "2023-04-24T18:21:57.648Z"
   },
   {
    "duration": 47,
    "start_time": "2023-04-24T18:21:58.156Z"
   },
   {
    "duration": 11,
    "start_time": "2023-04-24T18:22:07.402Z"
   },
   {
    "duration": 8,
    "start_time": "2023-04-24T18:22:07.904Z"
   },
   {
    "duration": 6,
    "start_time": "2023-04-24T18:22:14.668Z"
   },
   {
    "duration": 83,
    "start_time": "2023-04-24T18:22:15.107Z"
   },
   {
    "duration": 10,
    "start_time": "2023-04-24T18:22:22.095Z"
   },
   {
    "duration": 6,
    "start_time": "2023-04-24T18:22:22.484Z"
   },
   {
    "duration": 21,
    "start_time": "2023-04-24T18:22:23.345Z"
   },
   {
    "duration": 10,
    "start_time": "2023-04-24T18:22:28.918Z"
   },
   {
    "duration": 6,
    "start_time": "2023-04-24T18:22:29.261Z"
   },
   {
    "duration": 21,
    "start_time": "2023-04-24T18:22:29.815Z"
   },
   {
    "duration": 11,
    "start_time": "2023-04-24T18:22:34.344Z"
   },
   {
    "duration": 7,
    "start_time": "2023-04-24T18:22:34.615Z"
   },
   {
    "duration": 23,
    "start_time": "2023-04-24T18:22:35.174Z"
   },
   {
    "duration": 11,
    "start_time": "2023-04-24T18:22:39.151Z"
   },
   {
    "duration": 6,
    "start_time": "2023-04-24T18:22:39.411Z"
   },
   {
    "duration": 87,
    "start_time": "2023-04-24T18:22:39.997Z"
   },
   {
    "duration": 10,
    "start_time": "2023-04-24T18:22:45.951Z"
   },
   {
    "duration": 6,
    "start_time": "2023-04-24T18:22:46.331Z"
   },
   {
    "duration": 21,
    "start_time": "2023-04-24T18:22:46.924Z"
   },
   {
    "duration": 56,
    "start_time": "2023-04-24T18:23:44.169Z"
   },
   {
    "duration": 49,
    "start_time": "2023-04-24T18:25:27.605Z"
   },
   {
    "duration": 1536,
    "start_time": "2023-04-24T18:27:09.475Z"
   },
   {
    "duration": 13,
    "start_time": "2023-04-24T18:27:11.013Z"
   },
   {
    "duration": 4,
    "start_time": "2023-04-24T18:27:11.028Z"
   },
   {
    "duration": 17,
    "start_time": "2023-04-24T18:27:11.034Z"
   },
   {
    "duration": 6,
    "start_time": "2023-04-24T18:27:11.053Z"
   },
   {
    "duration": 5,
    "start_time": "2023-04-24T18:27:11.060Z"
   },
   {
    "duration": 20,
    "start_time": "2023-04-24T18:27:11.067Z"
   },
   {
    "duration": 8,
    "start_time": "2023-04-24T18:27:11.088Z"
   },
   {
    "duration": 13,
    "start_time": "2023-04-24T18:27:11.097Z"
   },
   {
    "duration": 11,
    "start_time": "2023-04-24T18:27:11.113Z"
   },
   {
    "duration": 12,
    "start_time": "2023-04-24T18:27:11.126Z"
   },
   {
    "duration": 48,
    "start_time": "2023-04-24T18:27:11.140Z"
   },
   {
    "duration": 44,
    "start_time": "2023-04-24T18:27:11.189Z"
   },
   {
    "duration": 292,
    "start_time": "2023-04-24T18:27:11.234Z"
   },
   {
    "duration": 168,
    "start_time": "2023-04-24T18:27:11.528Z"
   },
   {
    "duration": 12942,
    "start_time": "2023-04-24T18:27:11.698Z"
   },
   {
    "duration": 176,
    "start_time": "2023-04-24T18:27:24.642Z"
   },
   {
    "duration": 67,
    "start_time": "2023-04-24T18:27:24.820Z"
   },
   {
    "duration": 405,
    "start_time": "2023-04-24T18:27:24.890Z"
   },
   {
    "duration": 164,
    "start_time": "2023-04-24T18:27:25.296Z"
   },
   {
    "duration": 315,
    "start_time": "2023-04-24T18:27:25.463Z"
   },
   {
    "duration": 286,
    "start_time": "2023-04-24T18:27:25.780Z"
   },
   {
    "duration": 208,
    "start_time": "2023-04-24T18:27:26.068Z"
   },
   {
    "duration": 4,
    "start_time": "2023-04-24T18:27:26.284Z"
   },
   {
    "duration": 20,
    "start_time": "2023-04-24T18:27:26.290Z"
   },
   {
    "duration": 6,
    "start_time": "2023-04-24T18:27:26.312Z"
   },
   {
    "duration": 309,
    "start_time": "2023-04-24T18:27:26.319Z"
   },
   {
    "duration": 154,
    "start_time": "2023-04-24T18:27:26.632Z"
   },
   {
    "duration": 5,
    "start_time": "2023-04-24T18:27:26.788Z"
   },
   {
    "duration": 13,
    "start_time": "2023-04-24T18:27:26.795Z"
   },
   {
    "duration": 7,
    "start_time": "2023-04-24T18:27:26.810Z"
   },
   {
    "duration": 177,
    "start_time": "2023-04-24T18:27:26.818Z"
   },
   {
    "duration": 147,
    "start_time": "2023-04-24T18:27:26.997Z"
   },
   {
    "duration": 13384,
    "start_time": "2023-04-24T18:27:27.146Z"
   },
   {
    "duration": 127,
    "start_time": "2023-04-24T18:27:40.533Z"
   },
   {
    "duration": 11,
    "start_time": "2023-04-24T18:27:40.662Z"
   },
   {
    "duration": 8,
    "start_time": "2023-04-24T18:27:40.686Z"
   },
   {
    "duration": 16335,
    "start_time": "2023-04-24T18:27:40.696Z"
   },
   {
    "duration": 133,
    "start_time": "2023-04-24T18:27:57.033Z"
   },
   {
    "duration": 20,
    "start_time": "2023-04-24T18:27:57.168Z"
   },
   {
    "duration": 8,
    "start_time": "2023-04-24T18:27:57.190Z"
   },
   {
    "duration": 7833,
    "start_time": "2023-04-24T18:27:57.200Z"
   },
   {
    "duration": 142,
    "start_time": "2023-04-24T18:28:05.035Z"
   },
   {
    "duration": 317,
    "start_time": "2023-04-24T18:28:05.186Z"
   },
   {
    "duration": 10,
    "start_time": "2023-04-24T18:28:05.504Z"
   },
   {
    "duration": 22,
    "start_time": "2023-04-24T18:28:05.516Z"
   },
   {
    "duration": 54,
    "start_time": "2023-04-24T18:28:05.540Z"
   },
   {
    "duration": 311,
    "start_time": "2023-04-24T18:28:05.597Z"
   },
   {
    "duration": 9,
    "start_time": "2023-04-24T18:28:05.910Z"
   },
   {
    "duration": 7,
    "start_time": "2023-04-24T18:28:05.920Z"
   },
   {
    "duration": 68,
    "start_time": "2023-04-24T18:28:05.928Z"
   },
   {
    "duration": 269,
    "start_time": "2023-04-24T18:28:06.087Z"
   },
   {
    "duration": 544,
    "start_time": "2023-04-24T18:28:06.357Z"
   },
   {
    "duration": 9,
    "start_time": "2023-04-24T18:53:04.353Z"
   },
   {
    "duration": 9,
    "start_time": "2023-04-24T18:53:04.907Z"
   },
   {
    "duration": 234,
    "start_time": "2023-04-24T18:56:46.488Z"
   },
   {
    "duration": 148,
    "start_time": "2023-04-24T18:59:14.344Z"
   },
   {
    "duration": 9,
    "start_time": "2023-04-24T19:00:32.991Z"
   },
   {
    "duration": 151,
    "start_time": "2023-04-24T19:00:33.576Z"
   },
   {
    "duration": 1389,
    "start_time": "2023-04-24T19:00:46.221Z"
   },
   {
    "duration": 14,
    "start_time": "2023-04-24T19:00:47.612Z"
   },
   {
    "duration": 3,
    "start_time": "2023-04-24T19:00:47.628Z"
   },
   {
    "duration": 15,
    "start_time": "2023-04-24T19:00:47.632Z"
   },
   {
    "duration": 7,
    "start_time": "2023-04-24T19:00:47.649Z"
   },
   {
    "duration": 5,
    "start_time": "2023-04-24T19:00:47.657Z"
   },
   {
    "duration": 24,
    "start_time": "2023-04-24T19:00:47.664Z"
   },
   {
    "duration": 17,
    "start_time": "2023-04-24T19:00:47.690Z"
   },
   {
    "duration": 7,
    "start_time": "2023-04-24T19:00:47.710Z"
   },
   {
    "duration": 11,
    "start_time": "2023-04-24T19:00:47.719Z"
   },
   {
    "duration": 3,
    "start_time": "2023-04-24T19:00:47.732Z"
   },
   {
    "duration": 26,
    "start_time": "2023-04-24T19:00:47.737Z"
   },
   {
    "duration": 61,
    "start_time": "2023-04-24T19:00:47.764Z"
   },
   {
    "duration": 271,
    "start_time": "2023-04-24T19:00:47.828Z"
   },
   {
    "duration": 146,
    "start_time": "2023-04-24T19:00:48.101Z"
   },
   {
    "duration": 13038,
    "start_time": "2023-04-24T19:00:48.248Z"
   },
   {
    "duration": 156,
    "start_time": "2023-04-24T19:01:01.288Z"
   },
   {
    "duration": 45,
    "start_time": "2023-04-24T19:01:01.446Z"
   },
   {
    "duration": 319,
    "start_time": "2023-04-24T19:01:01.584Z"
   },
   {
    "duration": 127,
    "start_time": "2023-04-24T19:01:01.904Z"
   },
   {
    "duration": 230,
    "start_time": "2023-04-24T19:01:02.033Z"
   },
   {
    "duration": 287,
    "start_time": "2023-04-24T19:01:02.285Z"
   },
   {
    "duration": 203,
    "start_time": "2023-04-24T19:01:02.574Z"
   },
   {
    "duration": 7,
    "start_time": "2023-04-24T19:01:02.779Z"
   },
   {
    "duration": 27,
    "start_time": "2023-04-24T19:01:02.788Z"
   },
   {
    "duration": 25,
    "start_time": "2023-04-24T19:01:02.817Z"
   },
   {
    "duration": 291,
    "start_time": "2023-04-24T19:01:02.844Z"
   },
   {
    "duration": 123,
    "start_time": "2023-04-24T19:01:03.137Z"
   },
   {
    "duration": 4,
    "start_time": "2023-04-24T19:01:03.262Z"
   },
   {
    "duration": 25,
    "start_time": "2023-04-24T19:01:03.267Z"
   },
   {
    "duration": 5,
    "start_time": "2023-04-24T19:01:03.294Z"
   },
   {
    "duration": 147,
    "start_time": "2023-04-24T19:01:03.301Z"
   },
   {
    "duration": 138,
    "start_time": "2023-04-24T19:01:03.450Z"
   },
   {
    "duration": 12960,
    "start_time": "2023-04-24T19:01:03.589Z"
   },
   {
    "duration": 135,
    "start_time": "2023-04-24T19:01:16.551Z"
   },
   {
    "duration": 11,
    "start_time": "2023-04-24T19:01:16.687Z"
   },
   {
    "duration": 6,
    "start_time": "2023-04-24T19:01:16.700Z"
   },
   {
    "duration": 16377,
    "start_time": "2023-04-24T19:01:16.707Z"
   },
   {
    "duration": 148,
    "start_time": "2023-04-24T19:01:33.085Z"
   },
   {
    "duration": 10,
    "start_time": "2023-04-24T19:01:33.234Z"
   },
   {
    "duration": 5,
    "start_time": "2023-04-24T19:01:33.248Z"
   },
   {
    "duration": 8023,
    "start_time": "2023-04-24T19:01:33.254Z"
   },
   {
    "duration": 134,
    "start_time": "2023-04-24T19:01:41.279Z"
   },
   {
    "duration": 372,
    "start_time": "2023-04-24T19:01:41.415Z"
   },
   {
    "duration": 10,
    "start_time": "2023-04-24T19:01:41.789Z"
   },
   {
    "duration": 6,
    "start_time": "2023-04-24T19:01:41.801Z"
   },
   {
    "duration": 83,
    "start_time": "2023-04-24T19:01:41.808Z"
   },
   {
    "duration": 323,
    "start_time": "2023-04-24T19:01:41.892Z"
   },
   {
    "duration": 10,
    "start_time": "2023-04-24T19:01:42.216Z"
   },
   {
    "duration": 11,
    "start_time": "2023-04-24T19:01:42.228Z"
   },
   {
    "duration": 55,
    "start_time": "2023-04-24T19:01:42.240Z"
   },
   {
    "duration": 303,
    "start_time": "2023-04-24T19:01:42.297Z"
   },
   {
    "duration": 539,
    "start_time": "2023-04-24T19:01:42.602Z"
   },
   {
    "duration": 8,
    "start_time": "2023-04-24T19:01:43.143Z"
   },
   {
    "duration": 252,
    "start_time": "2023-04-24T19:01:43.153Z"
   },
   {
    "duration": 9,
    "start_time": "2023-04-24T19:01:43.407Z"
   },
   {
    "duration": 161,
    "start_time": "2023-04-24T19:01:43.417Z"
   },
   {
    "duration": 9,
    "start_time": "2023-04-24T19:02:19.127Z"
   },
   {
    "duration": 139,
    "start_time": "2023-04-24T19:02:19.654Z"
   },
   {
    "duration": 10,
    "start_time": "2023-04-24T19:02:23.169Z"
   },
   {
    "duration": 129,
    "start_time": "2023-04-24T19:02:23.741Z"
   },
   {
    "duration": 9,
    "start_time": "2023-04-24T19:02:27.385Z"
   },
   {
    "duration": 134,
    "start_time": "2023-04-24T19:02:27.757Z"
   },
   {
    "duration": 9,
    "start_time": "2023-04-24T19:02:39.065Z"
   },
   {
    "duration": 241,
    "start_time": "2023-04-24T19:02:39.560Z"
   },
   {
    "duration": 8,
    "start_time": "2023-04-24T19:02:42.910Z"
   },
   {
    "duration": 216,
    "start_time": "2023-04-24T19:02:43.389Z"
   },
   {
    "duration": 9,
    "start_time": "2023-04-24T19:02:46.416Z"
   },
   {
    "duration": 241,
    "start_time": "2023-04-24T19:02:46.880Z"
   },
   {
    "duration": 9,
    "start_time": "2023-04-24T19:02:50.265Z"
   },
   {
    "duration": 265,
    "start_time": "2023-04-24T19:02:50.683Z"
   },
   {
    "duration": 9,
    "start_time": "2023-04-24T19:02:54.330Z"
   },
   {
    "duration": 261,
    "start_time": "2023-04-24T19:02:54.761Z"
   },
   {
    "duration": 11,
    "start_time": "2023-04-24T19:02:58.539Z"
   },
   {
    "duration": 295,
    "start_time": "2023-04-24T19:02:59.088Z"
   },
   {
    "duration": 12,
    "start_time": "2023-04-24T19:03:04.077Z"
   },
   {
    "duration": 294,
    "start_time": "2023-04-24T19:03:04.495Z"
   },
   {
    "duration": 10,
    "start_time": "2023-04-24T19:03:08.905Z"
   },
   {
    "duration": 288,
    "start_time": "2023-04-24T19:03:09.523Z"
   },
   {
    "duration": 9,
    "start_time": "2023-04-24T19:03:34.996Z"
   },
   {
    "duration": 234,
    "start_time": "2023-04-24T19:03:35.461Z"
   },
   {
    "duration": 9,
    "start_time": "2023-04-24T19:03:36.055Z"
   },
   {
    "duration": 97,
    "start_time": "2023-04-24T19:05:06.024Z"
   },
   {
    "duration": 468,
    "start_time": "2023-04-24T19:05:09.993Z"
   },
   {
    "duration": 161,
    "start_time": "2023-04-24T19:05:32.968Z"
   },
   {
    "duration": 13102,
    "start_time": "2023-04-24T19:07:23.776Z"
   },
   {
    "duration": 15,
    "start_time": "2023-04-24T19:09:05.062Z"
   },
   {
    "duration": 13088,
    "start_time": "2023-04-24T19:12:19.501Z"
   },
   {
    "duration": 143,
    "start_time": "2023-04-24T19:12:32.591Z"
   },
   {
    "duration": 11,
    "start_time": "2023-04-24T19:12:32.736Z"
   },
   {
    "duration": 6,
    "start_time": "2023-04-24T19:12:32.750Z"
   },
   {
    "duration": 12825,
    "start_time": "2023-04-24T19:31:37.708Z"
   },
   {
    "duration": 11,
    "start_time": "2023-04-24T19:33:52.162Z"
   },
   {
    "duration": 7,
    "start_time": "2023-04-24T19:33:52.663Z"
   },
   {
    "duration": 16976,
    "start_time": "2023-04-24T19:33:53.929Z"
   },
   {
    "duration": 14,
    "start_time": "2023-04-24T19:34:38.792Z"
   },
   {
    "duration": 8,
    "start_time": "2023-04-24T19:34:39.173Z"
   },
   {
    "duration": 205,
    "start_time": "2023-04-24T19:34:39.760Z"
   },
   {
    "duration": 10,
    "start_time": "2023-04-24T19:34:51.838Z"
   },
   {
    "duration": 7,
    "start_time": "2023-04-24T19:34:52.377Z"
   },
   {
    "duration": 7982,
    "start_time": "2023-04-24T19:34:53.059Z"
   },
   {
    "duration": 185,
    "start_time": "2023-04-24T19:35:59.944Z"
   },
   {
    "duration": 15,
    "start_time": "2023-04-24T19:36:15.633Z"
   },
   {
    "duration": 15,
    "start_time": "2023-04-24T19:37:26.707Z"
   },
   {
    "duration": 20,
    "start_time": "2023-04-24T19:37:29.323Z"
   },
   {
    "duration": 19,
    "start_time": "2023-04-24T19:37:42.980Z"
   },
   {
    "duration": 15,
    "start_time": "2023-04-24T19:39:27.653Z"
   },
   {
    "duration": 24,
    "start_time": "2023-04-24T19:39:58.990Z"
   },
   {
    "duration": 13184,
    "start_time": "2023-04-24T19:40:19.600Z"
   },
   {
    "duration": 178,
    "start_time": "2023-04-24T19:40:44.866Z"
   },
   {
    "duration": 1417,
    "start_time": "2023-04-24T19:44:22.080Z"
   },
   {
    "duration": 13,
    "start_time": "2023-04-24T19:44:23.500Z"
   },
   {
    "duration": 3,
    "start_time": "2023-04-24T19:44:23.515Z"
   },
   {
    "duration": 25,
    "start_time": "2023-04-24T19:44:23.520Z"
   },
   {
    "duration": 6,
    "start_time": "2023-04-24T19:44:23.547Z"
   },
   {
    "duration": 6,
    "start_time": "2023-04-24T19:44:23.555Z"
   },
   {
    "duration": 7,
    "start_time": "2023-04-24T19:44:23.562Z"
   },
   {
    "duration": 17,
    "start_time": "2023-04-24T19:44:23.571Z"
   },
   {
    "duration": 6,
    "start_time": "2023-04-24T19:44:23.590Z"
   },
   {
    "duration": 10,
    "start_time": "2023-04-24T19:44:23.598Z"
   },
   {
    "duration": 2,
    "start_time": "2023-04-24T19:44:23.610Z"
   },
   {
    "duration": 24,
    "start_time": "2023-04-24T19:44:23.613Z"
   },
   {
    "duration": 75,
    "start_time": "2023-04-24T19:44:23.639Z"
   },
   {
    "duration": 281,
    "start_time": "2023-04-24T19:44:23.715Z"
   },
   {
    "duration": 193,
    "start_time": "2023-04-24T19:44:23.998Z"
   },
   {
    "duration": 13060,
    "start_time": "2023-04-24T19:44:24.193Z"
   },
   {
    "duration": 157,
    "start_time": "2023-04-24T19:44:37.255Z"
   },
   {
    "duration": 75,
    "start_time": "2023-04-24T19:44:37.414Z"
   },
   {
    "duration": 331,
    "start_time": "2023-04-24T19:44:37.490Z"
   },
   {
    "duration": 175,
    "start_time": "2023-04-24T19:44:37.823Z"
   },
   {
    "duration": 266,
    "start_time": "2023-04-24T19:44:38.000Z"
   },
   {
    "duration": 304,
    "start_time": "2023-04-24T19:44:38.268Z"
   },
   {
    "duration": 239,
    "start_time": "2023-04-24T19:44:38.574Z"
   },
   {
    "duration": 4,
    "start_time": "2023-04-24T19:44:38.815Z"
   },
   {
    "duration": 14,
    "start_time": "2023-04-24T19:44:38.821Z"
   },
   {
    "duration": 6,
    "start_time": "2023-04-24T19:44:38.837Z"
   },
   {
    "duration": 306,
    "start_time": "2023-04-24T19:44:38.844Z"
   },
   {
    "duration": 132,
    "start_time": "2023-04-24T19:44:39.154Z"
   },
   {
    "duration": 5,
    "start_time": "2023-04-24T19:44:39.288Z"
   },
   {
    "duration": 20,
    "start_time": "2023-04-24T19:44:39.295Z"
   },
   {
    "duration": 7,
    "start_time": "2023-04-24T19:44:39.317Z"
   },
   {
    "duration": 164,
    "start_time": "2023-04-24T19:44:39.326Z"
   },
   {
    "duration": 135,
    "start_time": "2023-04-24T19:44:39.492Z"
   },
   {
    "duration": 12702,
    "start_time": "2023-04-24T19:44:39.628Z"
   },
   {
    "duration": 133,
    "start_time": "2023-04-24T19:44:52.332Z"
   },
   {
    "duration": 23,
    "start_time": "2023-04-24T19:44:52.468Z"
   },
   {
    "duration": 7,
    "start_time": "2023-04-24T19:44:52.493Z"
   },
   {
    "duration": 16357,
    "start_time": "2023-04-24T19:44:52.503Z"
   },
   {
    "duration": 135,
    "start_time": "2023-04-24T19:45:08.862Z"
   },
   {
    "duration": 9,
    "start_time": "2023-04-24T19:45:08.999Z"
   },
   {
    "duration": 19,
    "start_time": "2023-04-24T19:45:09.009Z"
   },
   {
    "duration": 7690,
    "start_time": "2023-04-24T19:45:09.030Z"
   },
   {
    "duration": 132,
    "start_time": "2023-04-24T19:45:16.722Z"
   },
   {
    "duration": 337,
    "start_time": "2023-04-24T19:45:16.856Z"
   },
   {
    "duration": 12,
    "start_time": "2023-04-24T19:45:17.194Z"
   },
   {
    "duration": 7,
    "start_time": "2023-04-24T19:45:17.209Z"
   },
   {
    "duration": 72,
    "start_time": "2023-04-24T19:45:17.219Z"
   },
   {
    "duration": 298,
    "start_time": "2023-04-24T19:45:17.294Z"
   },
   {
    "duration": 9,
    "start_time": "2023-04-24T19:45:17.594Z"
   },
   {
    "duration": 6,
    "start_time": "2023-04-24T19:45:17.604Z"
   },
   {
    "duration": 82,
    "start_time": "2023-04-24T19:45:17.612Z"
   },
   {
    "duration": 323,
    "start_time": "2023-04-24T19:45:17.697Z"
   },
   {
    "duration": 198,
    "start_time": "2023-04-24T19:45:18.022Z"
   },
   {
    "duration": 84,
    "start_time": "2023-04-24T19:45:18.222Z"
   },
   {
    "duration": 77,
    "start_time": "2023-04-24T19:45:18.309Z"
   },
   {
    "duration": 66,
    "start_time": "2023-04-24T19:50:05.742Z"
   },
   {
    "duration": 61,
    "start_time": "2023-04-24T19:50:11.510Z"
   },
   {
    "duration": 127,
    "start_time": "2023-04-24T19:50:12.239Z"
   },
   {
    "duration": 62,
    "start_time": "2023-04-24T19:50:15.838Z"
   },
   {
    "duration": 123,
    "start_time": "2023-04-24T19:50:17.058Z"
   },
   {
    "duration": 1470,
    "start_time": "2023-04-24T19:50:25.434Z"
   },
   {
    "duration": 16,
    "start_time": "2023-04-24T19:50:26.906Z"
   },
   {
    "duration": 5,
    "start_time": "2023-04-24T19:50:26.923Z"
   },
   {
    "duration": 13,
    "start_time": "2023-04-24T19:50:26.930Z"
   },
   {
    "duration": 7,
    "start_time": "2023-04-24T19:50:26.946Z"
   },
   {
    "duration": 35,
    "start_time": "2023-04-24T19:50:26.955Z"
   },
   {
    "duration": 6,
    "start_time": "2023-04-24T19:50:26.992Z"
   },
   {
    "duration": 11,
    "start_time": "2023-04-24T19:50:26.999Z"
   },
   {
    "duration": 6,
    "start_time": "2023-04-24T19:50:27.012Z"
   },
   {
    "duration": 17,
    "start_time": "2023-04-24T19:50:27.020Z"
   },
   {
    "duration": 17,
    "start_time": "2023-04-24T19:50:27.038Z"
   },
   {
    "duration": 51,
    "start_time": "2023-04-24T19:50:27.057Z"
   },
   {
    "duration": 46,
    "start_time": "2023-04-24T19:50:27.110Z"
   },
   {
    "duration": 315,
    "start_time": "2023-04-24T19:50:27.161Z"
   },
   {
    "duration": 151,
    "start_time": "2023-04-24T19:50:27.477Z"
   },
   {
    "duration": 14680,
    "start_time": "2023-04-24T19:50:27.630Z"
   },
   {
    "duration": 175,
    "start_time": "2023-04-24T19:50:42.312Z"
   },
   {
    "duration": 100,
    "start_time": "2023-04-24T19:50:42.488Z"
   },
   {
    "duration": 320,
    "start_time": "2023-04-24T19:50:42.592Z"
   },
   {
    "duration": 151,
    "start_time": "2023-04-24T19:50:42.914Z"
   },
   {
    "duration": 287,
    "start_time": "2023-04-24T19:50:43.067Z"
   },
   {
    "duration": 278,
    "start_time": "2023-04-24T19:50:43.355Z"
   },
   {
    "duration": 211,
    "start_time": "2023-04-24T19:50:43.635Z"
   },
   {
    "duration": 4,
    "start_time": "2023-04-24T19:50:43.848Z"
   },
   {
    "duration": 13,
    "start_time": "2023-04-24T19:50:43.854Z"
   },
   {
    "duration": 21,
    "start_time": "2023-04-24T19:50:43.869Z"
   },
   {
    "duration": 386,
    "start_time": "2023-04-24T19:50:43.892Z"
   },
   {
    "duration": 133,
    "start_time": "2023-04-24T19:50:44.280Z"
   },
   {
    "duration": 4,
    "start_time": "2023-04-24T19:50:44.415Z"
   },
   {
    "duration": 20,
    "start_time": "2023-04-24T19:50:44.422Z"
   },
   {
    "duration": 7,
    "start_time": "2023-04-24T19:50:44.445Z"
   },
   {
    "duration": 165,
    "start_time": "2023-04-24T19:50:44.453Z"
   },
   {
    "duration": 134,
    "start_time": "2023-04-24T19:50:44.620Z"
   },
   {
    "duration": 12971,
    "start_time": "2023-04-24T19:50:44.757Z"
   },
   {
    "duration": 131,
    "start_time": "2023-04-24T19:50:57.730Z"
   },
   {
    "duration": 22,
    "start_time": "2023-04-24T19:50:57.863Z"
   },
   {
    "duration": 7,
    "start_time": "2023-04-24T19:50:57.887Z"
   },
   {
    "duration": 16526,
    "start_time": "2023-04-24T19:50:57.896Z"
   },
   {
    "duration": 160,
    "start_time": "2023-04-24T19:51:14.425Z"
   },
   {
    "duration": 15,
    "start_time": "2023-04-24T19:51:14.588Z"
   },
   {
    "duration": 9,
    "start_time": "2023-04-24T19:51:14.610Z"
   },
   {
    "duration": 8120,
    "start_time": "2023-04-24T19:51:14.621Z"
   },
   {
    "duration": 147,
    "start_time": "2023-04-24T19:51:22.744Z"
   },
   {
    "duration": 308,
    "start_time": "2023-04-24T19:51:22.893Z"
   },
   {
    "duration": 11,
    "start_time": "2023-04-24T19:51:23.203Z"
   },
   {
    "duration": 8,
    "start_time": "2023-04-24T19:51:23.216Z"
   },
   {
    "duration": 160,
    "start_time": "2023-04-24T19:51:23.226Z"
   },
   {
    "duration": 221,
    "start_time": "2023-04-24T19:51:23.388Z"
   },
   {
    "duration": 13,
    "start_time": "2023-04-24T19:51:23.611Z"
   },
   {
    "duration": 7,
    "start_time": "2023-04-24T19:51:23.626Z"
   },
   {
    "duration": 153,
    "start_time": "2023-04-24T19:51:23.635Z"
   },
   {
    "duration": 254,
    "start_time": "2023-04-24T19:51:23.792Z"
   },
   {
    "duration": 285,
    "start_time": "2023-04-24T19:51:24.048Z"
   },
   {
    "duration": 87,
    "start_time": "2023-04-24T19:51:24.335Z"
   },
   {
    "duration": 169,
    "start_time": "2023-04-24T19:51:24.425Z"
   },
   {
    "duration": 59,
    "start_time": "2023-04-24T19:51:24.596Z"
   },
   {
    "duration": 145,
    "start_time": "2023-04-24T19:51:24.657Z"
   },
   {
    "duration": 193,
    "start_time": "2023-04-24T19:52:14.669Z"
   },
   {
    "duration": 191,
    "start_time": "2023-04-24T19:52:16.923Z"
   },
   {
    "duration": 82,
    "start_time": "2023-04-24T19:52:27.894Z"
   },
   {
    "duration": 60,
    "start_time": "2023-04-24T19:53:03.136Z"
   },
   {
    "duration": 56,
    "start_time": "2023-04-24T19:53:10.048Z"
   },
   {
    "duration": 52,
    "start_time": "2023-04-25T04:35:22.178Z"
   },
   {
    "duration": 55,
    "start_time": "2023-04-25T04:48:39.682Z"
   },
   {
    "duration": 1717,
    "start_time": "2023-04-25T04:49:46.875Z"
   },
   {
    "duration": 16,
    "start_time": "2023-04-25T04:49:48.595Z"
   },
   {
    "duration": 4,
    "start_time": "2023-04-25T04:49:48.613Z"
   },
   {
    "duration": 18,
    "start_time": "2023-04-25T04:49:48.619Z"
   },
   {
    "duration": 7,
    "start_time": "2023-04-25T04:49:48.639Z"
   },
   {
    "duration": 7,
    "start_time": "2023-04-25T04:49:48.647Z"
   },
   {
    "duration": 48,
    "start_time": "2023-04-25T04:49:48.655Z"
   },
   {
    "duration": 0,
    "start_time": "2023-04-25T04:49:48.706Z"
   },
   {
    "duration": 0,
    "start_time": "2023-04-25T04:49:48.707Z"
   },
   {
    "duration": 0,
    "start_time": "2023-04-25T04:49:48.708Z"
   },
   {
    "duration": 0,
    "start_time": "2023-04-25T04:49:48.710Z"
   },
   {
    "duration": 0,
    "start_time": "2023-04-25T04:49:48.711Z"
   },
   {
    "duration": 0,
    "start_time": "2023-04-25T04:49:48.712Z"
   },
   {
    "duration": 0,
    "start_time": "2023-04-25T04:49:48.713Z"
   },
   {
    "duration": 0,
    "start_time": "2023-04-25T04:49:48.714Z"
   },
   {
    "duration": 0,
    "start_time": "2023-04-25T04:49:48.715Z"
   },
   {
    "duration": 0,
    "start_time": "2023-04-25T04:49:48.716Z"
   },
   {
    "duration": 0,
    "start_time": "2023-04-25T04:49:48.717Z"
   },
   {
    "duration": 0,
    "start_time": "2023-04-25T04:49:48.717Z"
   },
   {
    "duration": 0,
    "start_time": "2023-04-25T04:49:48.718Z"
   },
   {
    "duration": 0,
    "start_time": "2023-04-25T04:49:48.719Z"
   },
   {
    "duration": 0,
    "start_time": "2023-04-25T04:49:48.720Z"
   },
   {
    "duration": 0,
    "start_time": "2023-04-25T04:49:48.721Z"
   },
   {
    "duration": 0,
    "start_time": "2023-04-25T04:49:48.722Z"
   },
   {
    "duration": 0,
    "start_time": "2023-04-25T04:49:48.722Z"
   },
   {
    "duration": 0,
    "start_time": "2023-04-25T04:49:48.723Z"
   },
   {
    "duration": 0,
    "start_time": "2023-04-25T04:49:48.724Z"
   },
   {
    "duration": 0,
    "start_time": "2023-04-25T04:49:48.725Z"
   },
   {
    "duration": 0,
    "start_time": "2023-04-25T04:49:48.726Z"
   },
   {
    "duration": 0,
    "start_time": "2023-04-25T04:49:48.727Z"
   },
   {
    "duration": 0,
    "start_time": "2023-04-25T04:49:48.728Z"
   },
   {
    "duration": 0,
    "start_time": "2023-04-25T04:49:48.729Z"
   },
   {
    "duration": 0,
    "start_time": "2023-04-25T04:49:48.730Z"
   },
   {
    "duration": 0,
    "start_time": "2023-04-25T04:49:48.731Z"
   },
   {
    "duration": 0,
    "start_time": "2023-04-25T04:49:48.733Z"
   },
   {
    "duration": 0,
    "start_time": "2023-04-25T04:49:48.734Z"
   },
   {
    "duration": 0,
    "start_time": "2023-04-25T04:49:48.735Z"
   },
   {
    "duration": 0,
    "start_time": "2023-04-25T04:49:48.736Z"
   },
   {
    "duration": 0,
    "start_time": "2023-04-25T04:49:48.738Z"
   },
   {
    "duration": 0,
    "start_time": "2023-04-25T04:49:48.738Z"
   },
   {
    "duration": 0,
    "start_time": "2023-04-25T04:49:48.740Z"
   },
   {
    "duration": 0,
    "start_time": "2023-04-25T04:49:48.741Z"
   },
   {
    "duration": 0,
    "start_time": "2023-04-25T04:49:48.742Z"
   },
   {
    "duration": 0,
    "start_time": "2023-04-25T04:49:48.743Z"
   },
   {
    "duration": 0,
    "start_time": "2023-04-25T04:49:48.786Z"
   },
   {
    "duration": 0,
    "start_time": "2023-04-25T04:49:48.788Z"
   },
   {
    "duration": 0,
    "start_time": "2023-04-25T04:49:48.789Z"
   },
   {
    "duration": 0,
    "start_time": "2023-04-25T04:49:48.790Z"
   },
   {
    "duration": 0,
    "start_time": "2023-04-25T04:49:48.792Z"
   },
   {
    "duration": 1415,
    "start_time": "2023-04-25T04:50:53.797Z"
   },
   {
    "duration": 13,
    "start_time": "2023-04-25T04:50:55.214Z"
   },
   {
    "duration": 3,
    "start_time": "2023-04-25T04:50:55.229Z"
   },
   {
    "duration": 13,
    "start_time": "2023-04-25T04:50:55.234Z"
   },
   {
    "duration": 7,
    "start_time": "2023-04-25T04:50:55.248Z"
   },
   {
    "duration": 14,
    "start_time": "2023-04-25T04:50:55.256Z"
   },
   {
    "duration": 119,
    "start_time": "2023-04-25T04:50:55.272Z"
   },
   {
    "duration": 0,
    "start_time": "2023-04-25T04:50:55.394Z"
   },
   {
    "duration": 0,
    "start_time": "2023-04-25T04:50:55.395Z"
   },
   {
    "duration": 0,
    "start_time": "2023-04-25T04:50:55.396Z"
   },
   {
    "duration": 0,
    "start_time": "2023-04-25T04:50:55.397Z"
   },
   {
    "duration": 0,
    "start_time": "2023-04-25T04:50:55.398Z"
   },
   {
    "duration": 0,
    "start_time": "2023-04-25T04:50:55.399Z"
   },
   {
    "duration": 0,
    "start_time": "2023-04-25T04:50:55.400Z"
   },
   {
    "duration": 0,
    "start_time": "2023-04-25T04:50:55.401Z"
   },
   {
    "duration": 0,
    "start_time": "2023-04-25T04:50:55.402Z"
   },
   {
    "duration": 0,
    "start_time": "2023-04-25T04:50:55.404Z"
   },
   {
    "duration": 0,
    "start_time": "2023-04-25T04:50:55.405Z"
   },
   {
    "duration": 0,
    "start_time": "2023-04-25T04:50:55.406Z"
   },
   {
    "duration": 0,
    "start_time": "2023-04-25T04:50:55.407Z"
   },
   {
    "duration": 0,
    "start_time": "2023-04-25T04:50:55.408Z"
   },
   {
    "duration": 0,
    "start_time": "2023-04-25T04:50:55.409Z"
   },
   {
    "duration": 0,
    "start_time": "2023-04-25T04:50:55.410Z"
   },
   {
    "duration": 0,
    "start_time": "2023-04-25T04:50:55.411Z"
   },
   {
    "duration": 0,
    "start_time": "2023-04-25T04:50:55.413Z"
   },
   {
    "duration": 0,
    "start_time": "2023-04-25T04:50:55.414Z"
   },
   {
    "duration": 0,
    "start_time": "2023-04-25T04:50:55.415Z"
   },
   {
    "duration": 0,
    "start_time": "2023-04-25T04:50:55.416Z"
   },
   {
    "duration": 0,
    "start_time": "2023-04-25T04:50:55.418Z"
   },
   {
    "duration": 0,
    "start_time": "2023-04-25T04:50:55.420Z"
   },
   {
    "duration": 0,
    "start_time": "2023-04-25T04:50:55.421Z"
   },
   {
    "duration": 0,
    "start_time": "2023-04-25T04:50:55.422Z"
   },
   {
    "duration": 0,
    "start_time": "2023-04-25T04:50:55.424Z"
   },
   {
    "duration": 0,
    "start_time": "2023-04-25T04:50:55.425Z"
   },
   {
    "duration": 0,
    "start_time": "2023-04-25T04:50:55.427Z"
   },
   {
    "duration": 0,
    "start_time": "2023-04-25T04:50:55.428Z"
   },
   {
    "duration": 0,
    "start_time": "2023-04-25T04:50:55.430Z"
   },
   {
    "duration": 0,
    "start_time": "2023-04-25T04:50:55.486Z"
   },
   {
    "duration": 0,
    "start_time": "2023-04-25T04:50:55.487Z"
   },
   {
    "duration": 0,
    "start_time": "2023-04-25T04:50:55.489Z"
   },
   {
    "duration": 0,
    "start_time": "2023-04-25T04:50:55.490Z"
   },
   {
    "duration": 0,
    "start_time": "2023-04-25T04:50:55.491Z"
   },
   {
    "duration": 0,
    "start_time": "2023-04-25T04:50:55.493Z"
   },
   {
    "duration": 0,
    "start_time": "2023-04-25T04:50:55.495Z"
   },
   {
    "duration": 0,
    "start_time": "2023-04-25T04:50:55.496Z"
   },
   {
    "duration": 0,
    "start_time": "2023-04-25T04:50:55.498Z"
   },
   {
    "duration": 0,
    "start_time": "2023-04-25T04:50:55.499Z"
   },
   {
    "duration": 0,
    "start_time": "2023-04-25T04:50:55.501Z"
   },
   {
    "duration": 0,
    "start_time": "2023-04-25T04:50:55.502Z"
   },
   {
    "duration": 21,
    "start_time": "2023-04-25T04:54:48.509Z"
   },
   {
    "duration": 4,
    "start_time": "2023-04-25T04:55:06.630Z"
   },
   {
    "duration": 1430,
    "start_time": "2023-04-25T04:55:11.560Z"
   },
   {
    "duration": 15,
    "start_time": "2023-04-25T04:55:12.992Z"
   },
   {
    "duration": 7,
    "start_time": "2023-04-25T04:55:13.009Z"
   },
   {
    "duration": 20,
    "start_time": "2023-04-25T04:55:13.018Z"
   },
   {
    "duration": 7,
    "start_time": "2023-04-25T04:55:13.040Z"
   },
   {
    "duration": 8,
    "start_time": "2023-04-25T04:55:13.049Z"
   },
   {
    "duration": 12,
    "start_time": "2023-04-25T04:55:13.059Z"
   },
   {
    "duration": 23,
    "start_time": "2023-04-25T04:55:13.073Z"
   },
   {
    "duration": 15,
    "start_time": "2023-04-25T04:55:13.097Z"
   },
   {
    "duration": 19,
    "start_time": "2023-04-25T04:55:13.115Z"
   },
   {
    "duration": 31,
    "start_time": "2023-04-25T04:55:13.136Z"
   },
   {
    "duration": 51,
    "start_time": "2023-04-25T04:55:13.169Z"
   },
   {
    "duration": 119,
    "start_time": "2023-04-25T04:55:13.222Z"
   },
   {
    "duration": 0,
    "start_time": "2023-04-25T04:55:13.344Z"
   },
   {
    "duration": 0,
    "start_time": "2023-04-25T04:55:13.345Z"
   },
   {
    "duration": 0,
    "start_time": "2023-04-25T04:55:13.346Z"
   },
   {
    "duration": 0,
    "start_time": "2023-04-25T04:55:13.347Z"
   },
   {
    "duration": 0,
    "start_time": "2023-04-25T04:55:13.349Z"
   },
   {
    "duration": 0,
    "start_time": "2023-04-25T04:55:13.350Z"
   },
   {
    "duration": 0,
    "start_time": "2023-04-25T04:55:13.350Z"
   },
   {
    "duration": 0,
    "start_time": "2023-04-25T04:55:13.351Z"
   },
   {
    "duration": 0,
    "start_time": "2023-04-25T04:55:13.352Z"
   },
   {
    "duration": 0,
    "start_time": "2023-04-25T04:55:13.353Z"
   },
   {
    "duration": 0,
    "start_time": "2023-04-25T04:55:13.354Z"
   },
   {
    "duration": 0,
    "start_time": "2023-04-25T04:55:13.355Z"
   },
   {
    "duration": 0,
    "start_time": "2023-04-25T04:55:13.356Z"
   },
   {
    "duration": 0,
    "start_time": "2023-04-25T04:55:13.357Z"
   },
   {
    "duration": 0,
    "start_time": "2023-04-25T04:55:13.358Z"
   },
   {
    "duration": 0,
    "start_time": "2023-04-25T04:55:13.386Z"
   },
   {
    "duration": 0,
    "start_time": "2023-04-25T04:55:13.387Z"
   },
   {
    "duration": 0,
    "start_time": "2023-04-25T04:55:13.388Z"
   },
   {
    "duration": 0,
    "start_time": "2023-04-25T04:55:13.390Z"
   },
   {
    "duration": 0,
    "start_time": "2023-04-25T04:55:13.391Z"
   },
   {
    "duration": 0,
    "start_time": "2023-04-25T04:55:13.392Z"
   },
   {
    "duration": 0,
    "start_time": "2023-04-25T04:55:13.394Z"
   },
   {
    "duration": 0,
    "start_time": "2023-04-25T04:55:13.395Z"
   },
   {
    "duration": 0,
    "start_time": "2023-04-25T04:55:13.396Z"
   },
   {
    "duration": 0,
    "start_time": "2023-04-25T04:55:13.397Z"
   },
   {
    "duration": 0,
    "start_time": "2023-04-25T04:55:13.398Z"
   },
   {
    "duration": 0,
    "start_time": "2023-04-25T04:55:13.399Z"
   },
   {
    "duration": 0,
    "start_time": "2023-04-25T04:55:13.400Z"
   },
   {
    "duration": 0,
    "start_time": "2023-04-25T04:55:13.401Z"
   },
   {
    "duration": 0,
    "start_time": "2023-04-25T04:55:13.403Z"
   },
   {
    "duration": 0,
    "start_time": "2023-04-25T04:55:13.404Z"
   },
   {
    "duration": 0,
    "start_time": "2023-04-25T04:55:13.405Z"
   },
   {
    "duration": 0,
    "start_time": "2023-04-25T04:55:13.406Z"
   },
   {
    "duration": 0,
    "start_time": "2023-04-25T04:55:13.407Z"
   },
   {
    "duration": 0,
    "start_time": "2023-04-25T04:55:13.408Z"
   },
   {
    "duration": 0,
    "start_time": "2023-04-25T04:55:13.409Z"
   },
   {
    "duration": 1468,
    "start_time": "2023-04-25T04:55:30.305Z"
   },
   {
    "duration": 13,
    "start_time": "2023-04-25T04:55:31.776Z"
   },
   {
    "duration": 29,
    "start_time": "2023-04-25T04:55:31.791Z"
   },
   {
    "duration": 63,
    "start_time": "2023-04-25T04:55:31.821Z"
   },
   {
    "duration": 7,
    "start_time": "2023-04-25T04:55:31.886Z"
   },
   {
    "duration": 22,
    "start_time": "2023-04-25T04:55:31.894Z"
   },
   {
    "duration": 23,
    "start_time": "2023-04-25T04:55:31.918Z"
   },
   {
    "duration": 25,
    "start_time": "2023-04-25T04:55:31.942Z"
   },
   {
    "duration": 43,
    "start_time": "2023-04-25T04:55:31.968Z"
   },
   {
    "duration": 24,
    "start_time": "2023-04-25T04:55:32.012Z"
   },
   {
    "duration": 6,
    "start_time": "2023-04-25T04:55:32.038Z"
   },
   {
    "duration": 37,
    "start_time": "2023-04-25T04:55:32.045Z"
   },
   {
    "duration": 116,
    "start_time": "2023-04-25T04:55:32.084Z"
   },
   {
    "duration": 0,
    "start_time": "2023-04-25T04:55:32.203Z"
   },
   {
    "duration": 0,
    "start_time": "2023-04-25T04:55:32.205Z"
   },
   {
    "duration": 0,
    "start_time": "2023-04-25T04:55:32.206Z"
   },
   {
    "duration": 1,
    "start_time": "2023-04-25T04:55:32.207Z"
   },
   {
    "duration": 0,
    "start_time": "2023-04-25T04:55:32.209Z"
   },
   {
    "duration": 0,
    "start_time": "2023-04-25T04:55:32.210Z"
   },
   {
    "duration": 0,
    "start_time": "2023-04-25T04:55:32.211Z"
   },
   {
    "duration": 0,
    "start_time": "2023-04-25T04:55:32.212Z"
   },
   {
    "duration": 0,
    "start_time": "2023-04-25T04:55:32.214Z"
   },
   {
    "duration": 0,
    "start_time": "2023-04-25T04:55:32.215Z"
   },
   {
    "duration": 0,
    "start_time": "2023-04-25T04:55:32.216Z"
   },
   {
    "duration": 0,
    "start_time": "2023-04-25T04:55:32.217Z"
   },
   {
    "duration": 0,
    "start_time": "2023-04-25T04:55:32.218Z"
   },
   {
    "duration": 0,
    "start_time": "2023-04-25T04:55:32.220Z"
   },
   {
    "duration": 0,
    "start_time": "2023-04-25T04:55:32.221Z"
   },
   {
    "duration": 0,
    "start_time": "2023-04-25T04:55:32.222Z"
   },
   {
    "duration": 0,
    "start_time": "2023-04-25T04:55:32.223Z"
   },
   {
    "duration": 0,
    "start_time": "2023-04-25T04:55:32.224Z"
   },
   {
    "duration": 0,
    "start_time": "2023-04-25T04:55:32.225Z"
   },
   {
    "duration": 0,
    "start_time": "2023-04-25T04:55:32.226Z"
   },
   {
    "duration": 0,
    "start_time": "2023-04-25T04:55:32.228Z"
   },
   {
    "duration": 0,
    "start_time": "2023-04-25T04:55:32.229Z"
   },
   {
    "duration": 0,
    "start_time": "2023-04-25T04:55:32.230Z"
   },
   {
    "duration": 0,
    "start_time": "2023-04-25T04:55:32.231Z"
   },
   {
    "duration": 0,
    "start_time": "2023-04-25T04:55:32.232Z"
   },
   {
    "duration": 0,
    "start_time": "2023-04-25T04:55:32.233Z"
   },
   {
    "duration": 0,
    "start_time": "2023-04-25T04:55:32.285Z"
   },
   {
    "duration": 0,
    "start_time": "2023-04-25T04:55:32.287Z"
   },
   {
    "duration": 0,
    "start_time": "2023-04-25T04:55:32.288Z"
   },
   {
    "duration": 0,
    "start_time": "2023-04-25T04:55:32.289Z"
   },
   {
    "duration": 0,
    "start_time": "2023-04-25T04:55:32.290Z"
   },
   {
    "duration": 0,
    "start_time": "2023-04-25T04:55:32.291Z"
   },
   {
    "duration": 0,
    "start_time": "2023-04-25T04:55:32.292Z"
   },
   {
    "duration": 0,
    "start_time": "2023-04-25T04:55:32.293Z"
   },
   {
    "duration": 0,
    "start_time": "2023-04-25T04:55:32.294Z"
   },
   {
    "duration": 0,
    "start_time": "2023-04-25T04:55:32.296Z"
   },
   {
    "duration": 1423,
    "start_time": "2023-04-25T04:56:21.446Z"
   },
   {
    "duration": 12,
    "start_time": "2023-04-25T04:56:22.871Z"
   },
   {
    "duration": 15,
    "start_time": "2023-04-25T04:56:22.885Z"
   },
   {
    "duration": 31,
    "start_time": "2023-04-25T04:56:22.901Z"
   },
   {
    "duration": 8,
    "start_time": "2023-04-25T04:56:22.934Z"
   },
   {
    "duration": 19,
    "start_time": "2023-04-25T04:56:22.943Z"
   },
   {
    "duration": 21,
    "start_time": "2023-04-25T04:56:22.963Z"
   },
   {
    "duration": 23,
    "start_time": "2023-04-25T04:56:22.986Z"
   },
   {
    "duration": 32,
    "start_time": "2023-04-25T04:56:23.011Z"
   },
   {
    "duration": 19,
    "start_time": "2023-04-25T04:56:23.045Z"
   },
   {
    "duration": 8,
    "start_time": "2023-04-25T04:56:23.066Z"
   },
   {
    "duration": 49,
    "start_time": "2023-04-25T04:56:23.076Z"
   },
   {
    "duration": 34,
    "start_time": "2023-04-25T04:56:23.127Z"
   },
   {
    "duration": 175,
    "start_time": "2023-04-25T04:56:23.164Z"
   },
   {
    "duration": 129,
    "start_time": "2023-04-25T04:56:23.341Z"
   },
   {
    "duration": 10733,
    "start_time": "2023-04-25T04:56:23.472Z"
   },
   {
    "duration": 158,
    "start_time": "2023-04-25T04:56:34.207Z"
   },
   {
    "duration": 123,
    "start_time": "2023-04-25T04:56:34.366Z"
   },
   {
    "duration": 394,
    "start_time": "2023-04-25T04:56:34.492Z"
   },
   {
    "duration": 158,
    "start_time": "2023-04-25T04:56:34.888Z"
   },
   {
    "duration": 217,
    "start_time": "2023-04-25T04:56:35.048Z"
   },
   {
    "duration": 18,
    "start_time": "2023-04-25T04:56:35.267Z"
   },
   {
    "duration": 16,
    "start_time": "2023-04-25T04:56:35.287Z"
   },
   {
    "duration": 8,
    "start_time": "2023-04-25T04:56:35.305Z"
   },
   {
    "duration": 19,
    "start_time": "2023-04-25T04:56:35.315Z"
   },
   {
    "duration": 12,
    "start_time": "2023-04-25T04:56:35.337Z"
   },
   {
    "duration": 10,
    "start_time": "2023-04-25T04:56:35.351Z"
   },
   {
    "duration": 295,
    "start_time": "2023-04-25T04:56:35.363Z"
   },
   {
    "duration": 132,
    "start_time": "2023-04-25T04:56:35.660Z"
   },
   {
    "duration": 229,
    "start_time": "2023-04-25T04:56:35.793Z"
   },
   {
    "duration": 127,
    "start_time": "2023-04-25T04:56:36.024Z"
   },
   {
    "duration": 122,
    "start_time": "2023-04-25T04:56:36.154Z"
   },
   {
    "duration": 135,
    "start_time": "2023-04-25T04:56:36.278Z"
   },
   {
    "duration": 11212,
    "start_time": "2023-04-25T04:56:36.414Z"
   },
   {
    "duration": 130,
    "start_time": "2023-04-25T04:56:47.628Z"
   },
   {
    "duration": 12297,
    "start_time": "2023-04-25T04:56:47.760Z"
   },
   {
    "duration": 132,
    "start_time": "2023-04-25T04:57:00.059Z"
   },
   {
    "duration": 7060,
    "start_time": "2023-04-25T04:57:00.193Z"
   },
   {
    "duration": 131,
    "start_time": "2023-04-25T04:57:07.255Z"
   },
   {
    "duration": 311,
    "start_time": "2023-04-25T04:57:07.388Z"
   },
   {
    "duration": 86,
    "start_time": "2023-04-25T04:57:07.703Z"
   },
   {
    "duration": 296,
    "start_time": "2023-04-25T04:57:07.792Z"
   },
   {
    "duration": 21,
    "start_time": "2023-04-25T04:57:08.089Z"
   },
   {
    "duration": 217,
    "start_time": "2023-04-25T04:57:08.191Z"
   },
   {
    "duration": 201,
    "start_time": "2023-04-25T04:57:08.410Z"
   },
   {
    "duration": 74,
    "start_time": "2023-04-25T04:57:08.613Z"
   },
   {
    "duration": 134,
    "start_time": "2023-04-25T04:57:08.689Z"
   },
   {
    "duration": 67,
    "start_time": "2023-04-25T04:57:08.825Z"
   },
   {
    "duration": 123,
    "start_time": "2023-04-25T04:57:08.894Z"
   },
   {
    "duration": 123,
    "start_time": "2023-04-25T04:57:20.525Z"
   },
   {
    "duration": 6,
    "start_time": "2023-04-25T04:58:00.317Z"
   },
   {
    "duration": 14,
    "start_time": "2023-04-25T04:58:19.089Z"
   },
   {
    "duration": 8,
    "start_time": "2023-04-25T04:58:19.946Z"
   },
   {
    "duration": 12,
    "start_time": "2023-04-25T04:58:34.145Z"
   },
   {
    "duration": 6,
    "start_time": "2023-04-25T04:58:34.768Z"
   },
   {
    "duration": 9,
    "start_time": "2023-04-25T04:58:42.085Z"
   },
   {
    "duration": 7,
    "start_time": "2023-04-25T04:58:42.458Z"
   },
   {
    "duration": 11,
    "start_time": "2023-04-25T04:58:48.433Z"
   },
   {
    "duration": 7,
    "start_time": "2023-04-25T04:58:48.823Z"
   },
   {
    "duration": 9,
    "start_time": "2023-04-25T04:58:54.974Z"
   },
   {
    "duration": 6,
    "start_time": "2023-04-25T04:58:55.306Z"
   },
   {
    "duration": 1329,
    "start_time": "2023-04-25T04:59:34.625Z"
   },
   {
    "duration": 13,
    "start_time": "2023-04-25T04:59:35.956Z"
   },
   {
    "duration": 3,
    "start_time": "2023-04-25T04:59:35.971Z"
   },
   {
    "duration": 12,
    "start_time": "2023-04-25T04:59:35.976Z"
   },
   {
    "duration": 7,
    "start_time": "2023-04-25T04:59:35.990Z"
   },
   {
    "duration": 6,
    "start_time": "2023-04-25T04:59:35.998Z"
   },
   {
    "duration": 4,
    "start_time": "2023-04-25T04:59:36.006Z"
   },
   {
    "duration": 7,
    "start_time": "2023-04-25T04:59:36.012Z"
   },
   {
    "duration": 5,
    "start_time": "2023-04-25T04:59:36.021Z"
   },
   {
    "duration": 10,
    "start_time": "2023-04-25T04:59:36.031Z"
   },
   {
    "duration": 2,
    "start_time": "2023-04-25T04:59:36.044Z"
   },
   {
    "duration": 59,
    "start_time": "2023-04-25T04:59:36.048Z"
   },
   {
    "duration": 38,
    "start_time": "2023-04-25T04:59:36.110Z"
   },
   {
    "duration": 218,
    "start_time": "2023-04-25T04:59:36.150Z"
   },
   {
    "duration": 142,
    "start_time": "2023-04-25T04:59:36.371Z"
   },
   {
    "duration": 10857,
    "start_time": "2023-04-25T04:59:36.515Z"
   },
   {
    "duration": 155,
    "start_time": "2023-04-25T04:59:47.374Z"
   },
   {
    "duration": 60,
    "start_time": "2023-04-25T04:59:47.532Z"
   },
   {
    "duration": 396,
    "start_time": "2023-04-25T04:59:47.594Z"
   },
   {
    "duration": 141,
    "start_time": "2023-04-25T04:59:47.992Z"
   },
   {
    "duration": 282,
    "start_time": "2023-04-25T04:59:48.135Z"
   },
   {
    "duration": 5,
    "start_time": "2023-04-25T04:59:48.419Z"
   },
   {
    "duration": 13,
    "start_time": "2023-04-25T04:59:48.426Z"
   },
   {
    "duration": 8,
    "start_time": "2023-04-25T04:59:48.441Z"
   },
   {
    "duration": 37,
    "start_time": "2023-04-25T04:59:48.452Z"
   },
   {
    "duration": 15,
    "start_time": "2023-04-25T04:59:48.491Z"
   },
   {
    "duration": 8,
    "start_time": "2023-04-25T04:59:48.508Z"
   },
   {
    "duration": 226,
    "start_time": "2023-04-25T04:59:48.520Z"
   },
   {
    "duration": 213,
    "start_time": "2023-04-25T04:59:48.748Z"
   },
   {
    "duration": 254,
    "start_time": "2023-04-25T04:59:48.962Z"
   },
   {
    "duration": 133,
    "start_time": "2023-04-25T04:59:49.217Z"
   },
   {
    "duration": 123,
    "start_time": "2023-04-25T04:59:49.351Z"
   },
   {
    "duration": 142,
    "start_time": "2023-04-25T04:59:49.476Z"
   },
   {
    "duration": 10963,
    "start_time": "2023-04-25T04:59:49.620Z"
   },
   {
    "duration": 137,
    "start_time": "2023-04-25T05:00:00.585Z"
   },
   {
    "duration": 15001,
    "start_time": "2023-04-25T05:00:00.724Z"
   },
   {
    "duration": 138,
    "start_time": "2023-04-25T05:00:15.726Z"
   },
   {
    "duration": 6983,
    "start_time": "2023-04-25T05:00:15.865Z"
   },
   {
    "duration": 140,
    "start_time": "2023-04-25T05:00:22.850Z"
   },
   {
    "duration": 395,
    "start_time": "2023-04-25T05:00:22.992Z"
   },
   {
    "duration": 105,
    "start_time": "2023-04-25T05:00:23.390Z"
   },
   {
    "duration": 307,
    "start_time": "2023-04-25T05:00:23.496Z"
   },
   {
    "duration": 81,
    "start_time": "2023-04-25T05:00:23.805Z"
   },
   {
    "duration": 250,
    "start_time": "2023-04-25T05:00:23.889Z"
   },
   {
    "duration": 213,
    "start_time": "2023-04-25T05:00:24.142Z"
   },
   {
    "duration": 76,
    "start_time": "2023-04-25T05:00:24.356Z"
   },
   {
    "duration": 163,
    "start_time": "2023-04-25T05:00:24.433Z"
   },
   {
    "duration": 65,
    "start_time": "2023-04-25T05:00:24.598Z"
   },
   {
    "duration": 152,
    "start_time": "2023-04-25T05:00:24.665Z"
   }
  ],
  "kernelspec": {
   "display_name": "Python 3 (ipykernel)",
   "language": "python",
   "name": "python3"
  },
  "language_info": {
   "codemirror_mode": {
    "name": "ipython",
    "version": 3
   },
   "file_extension": ".py",
   "mimetype": "text/x-python",
   "name": "python",
   "nbconvert_exporter": "python",
   "pygments_lexer": "ipython3",
   "version": "3.9.5"
  },
  "toc": {
   "base_numbering": 1,
   "nav_menu": {},
   "number_sections": true,
   "sideBar": true,
   "skip_h1_title": true,
   "title_cell": "Содержание",
   "title_sidebar": "Contents",
   "toc_cell": true,
   "toc_position": {
    "height": "calc(100% - 180px)",
    "left": "10px",
    "top": "150px",
    "width": "264px"
   },
   "toc_section_display": true,
   "toc_window_display": true
  }
 },
 "nbformat": 4,
 "nbformat_minor": 2
}
